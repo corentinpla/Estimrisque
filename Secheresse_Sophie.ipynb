{
 "cells": [
  {
   "cell_type": "markdown",
   "metadata": {
    "id": "9kUU5sazc2-r"
   },
   "source": [
    "**Mesure du degré de sécheresse associé à l'adresse considéré (utilisation d'une mesure de degré de gonflement/retrait d'argile).**\n",
    "\n",
    "* Importation des packages nécessaires (data visualisation, manipulation de données géographiques) \n",
    "* Création de la carte de sécheresse du département considéré (associé à l'adresse de l'utilisateur) + précision de l'adresse précise sur cette carte \n",
    "* Calcul d'un score moyen de sécheresse dans le département \n",
    "\n"
   ]
  },
  {
   "cell_type": "markdown",
   "metadata": {
    "id": "U4mO4ls5AwyU"
   },
   "source": [
    "**Importation des packages nécessaires :**"
   ]
  },
  {
   "cell_type": "code",
   "execution_count": 1,
   "metadata": {
    "id": "_nlEQzndc2RZ"
   },
   "outputs": [
    {
     "name": "stdout",
     "output_type": "stream",
     "text": [
      "Defaulting to user installation because normal site-packages is not writeable\n",
      "Requirement already satisfied: geopandas in /home/gregoire/.local/lib/python3.10/site-packages (0.12.2)\n",
      "Requirement already satisfied: fiona>=1.8 in /home/gregoire/.local/lib/python3.10/site-packages (from geopandas) (1.8.22)\n",
      "Requirement already satisfied: shapely>=1.7 in /home/gregoire/.local/lib/python3.10/site-packages (from geopandas) (2.0.0)\n",
      "Requirement already satisfied: pandas>=1.0.0 in /home/gregoire/.local/lib/python3.10/site-packages (from geopandas) (1.5.2)\n",
      "Requirement already satisfied: pyproj>=2.6.1.post1 in /home/gregoire/.local/lib/python3.10/site-packages (from geopandas) (3.4.1)\n",
      "Requirement already satisfied: packaging in /usr/lib/python3.10/site-packages (from geopandas) (21.3)\n",
      "Requirement already satisfied: six>=1.7 in /usr/lib/python3.10/site-packages (from fiona>=1.8->geopandas) (1.16.0)\n",
      "Requirement already satisfied: click-plugins>=1.0 in /home/gregoire/.local/lib/python3.10/site-packages (from fiona>=1.8->geopandas) (1.1.1)\n",
      "Requirement already satisfied: certifi in /home/gregoire/.local/lib/python3.10/site-packages (from fiona>=1.8->geopandas) (2022.12.7)\n",
      "Requirement already satisfied: attrs>=17 in /usr/lib/python3.10/site-packages (from fiona>=1.8->geopandas) (22.1.0)\n",
      "Requirement already satisfied: munch in /home/gregoire/.local/lib/python3.10/site-packages (from fiona>=1.8->geopandas) (2.5.0)\n",
      "Requirement already satisfied: setuptools in /usr/lib/python3.10/site-packages (from fiona>=1.8->geopandas) (65.6.3)\n",
      "Requirement already satisfied: click>=4.0 in /usr/lib/python3.10/site-packages (from fiona>=1.8->geopandas) (8.1.3)\n",
      "Requirement already satisfied: cligj>=0.5 in /home/gregoire/.local/lib/python3.10/site-packages (from fiona>=1.8->geopandas) (0.7.2)\n",
      "Requirement already satisfied: numpy>=1.21.0 in /home/gregoire/.local/lib/python3.10/site-packages (from pandas>=1.0.0->geopandas) (1.23.5)\n",
      "Requirement already satisfied: pytz>=2020.1 in /usr/lib/python3.10/site-packages (from pandas>=1.0.0->geopandas) (2022.6)\n",
      "Requirement already satisfied: python-dateutil>=2.8.1 in /usr/lib/python3.10/site-packages (from pandas>=1.0.0->geopandas) (2.8.2)\n",
      "Requirement already satisfied: pyparsing!=3.0.5,>=2.0.2 in /usr/lib/python3.10/site-packages (from packaging->geopandas) (3.0.9)\n",
      "Requirement already satisfied: appdirs in /usr/lib/python3.10/site-packages (from setuptools->fiona>=1.8->geopandas) (1.4.4)\n",
      "Requirement already satisfied: jaraco.text in /usr/lib/python3.10/site-packages (from setuptools->fiona>=1.8->geopandas) (3.11.0)\n",
      "Requirement already satisfied: more-itertools in /usr/lib/python3.10/site-packages (from setuptools->fiona>=1.8->geopandas) (9.0.0)\n",
      "Requirement already satisfied: ordered-set in /usr/lib/python3.10/site-packages (from setuptools->fiona>=1.8->geopandas) (4.1.0)\n",
      "Requirement already satisfied: tomli in /usr/lib/python3.10/site-packages (from setuptools->fiona>=1.8->geopandas) (2.0.1)\n",
      "Requirement already satisfied: validate-pyproject in /usr/lib/python3.10/site-packages (from setuptools->fiona>=1.8->geopandas) (0.10.1)\n",
      "Requirement already satisfied: inflect in /usr/lib/python3.10/site-packages (from jaraco.text->setuptools->fiona>=1.8->geopandas) (6.0.2)\n",
      "Requirement already satisfied: jaraco.functools in /usr/lib/python3.10/site-packages (from jaraco.text->setuptools->fiona>=1.8->geopandas) (3.5.2)\n",
      "Requirement already satisfied: autocommand in /usr/lib/python3.10/site-packages (from jaraco.text->setuptools->fiona>=1.8->geopandas) (2.2.2)\n",
      "Requirement already satisfied: jaraco.context>=4.1 in /usr/lib/python3.10/site-packages (from jaraco.text->setuptools->fiona>=1.8->geopandas) (4.2.0)\n",
      "Requirement already satisfied: pydantic>=1.9.1 in /usr/lib/python3.10/site-packages (from inflect->jaraco.text->setuptools->fiona>=1.8->geopandas) (1.10.2)\n",
      "Requirement already satisfied: typing-extensions>=4.1.0 in /usr/lib/python3.10/site-packages (from pydantic>=1.9.1->inflect->jaraco.text->setuptools->fiona>=1.8->geopandas) (4.4.0)\n",
      "Note: you may need to restart the kernel to use updated packages.\n"
     ]
    }
   ],
   "source": [
    "pip install geopandas"
   ]
  },
  {
   "cell_type": "code",
   "execution_count": 2,
   "metadata": {
    "id": "mZPaHYJXdqfp"
   },
   "outputs": [],
   "source": [
    "import pandas as pd\n",
    "import geopandas as gpd \n",
    "import numpy as np \n",
    "import matplotlib.pyplot as plt"
   ]
  },
  {
   "cell_type": "code",
   "execution_count": 3,
   "metadata": {
    "id": "9_U6afOHd4GR"
   },
   "outputs": [
    {
     "name": "stdout",
     "output_type": "stream",
     "text": [
      "Defaulting to user installation because normal site-packages is not writeable\n",
      "Collecting botocore==1.23.26\n",
      "  Using cached botocore-1.23.26-py3-none-any.whl (8.5 MB)\n",
      "Requirement already satisfied: python-dateutil<3.0.0,>=2.1 in /usr/lib/python3.10/site-packages (from botocore==1.23.26) (2.8.2)\n",
      "Requirement already satisfied: urllib3<1.27,>=1.25.4 in /home/gregoire/.local/lib/python3.10/site-packages (from botocore==1.23.26) (1.26.13)\n",
      "Requirement already satisfied: jmespath<1.0.0,>=0.7.1 in /home/gregoire/.local/lib/python3.10/site-packages (from botocore==1.23.26) (0.10.0)\n",
      "Requirement already satisfied: six>=1.5 in /usr/lib/python3.10/site-packages (from python-dateutil<3.0.0,>=2.1->botocore==1.23.26) (1.16.0)\n",
      "Installing collected packages: botocore\n",
      "  Attempting uninstall: botocore\n",
      "    Found existing installation: botocore 1.27.59\n",
      "    Uninstalling botocore-1.27.59:\n",
      "      Successfully uninstalled botocore-1.27.59\n",
      "\u001b[31mERROR: pip's dependency resolver does not currently take into account all the packages that are installed. This behaviour is the source of the following dependency conflicts.\n",
      "aiobotocore 2.4.1 requires botocore<1.27.60,>=1.27.59, but you have botocore 1.23.26 which is incompatible.\u001b[0m\u001b[31m\n",
      "\u001b[0mSuccessfully installed botocore-1.23.26\n",
      "Defaulting to user installation because normal site-packages is not writeable\n",
      "Collecting urllib3==1.22.0\n",
      "  Using cached urllib3-1.22-py2.py3-none-any.whl (132 kB)\n",
      "Installing collected packages: urllib3\n",
      "  Attempting uninstall: urllib3\n",
      "    Found existing installation: urllib3 1.26.13\n",
      "    Uninstalling urllib3-1.26.13:\n",
      "      Successfully uninstalled urllib3-1.26.13\n",
      "\u001b[31mERROR: pip's dependency resolver does not currently take into account all the packages that are installed. This behaviour is the source of the following dependency conflicts.\n",
      "botocore 1.23.26 requires urllib3<1.27,>=1.25.4, but you have urllib3 1.22 which is incompatible.\n",
      "aiobotocore 2.4.1 requires botocore<1.27.60,>=1.27.59, but you have botocore 1.23.26 which is incompatible.\u001b[0m\u001b[31m\n",
      "\u001b[0mSuccessfully installed urllib3-1.22\n",
      "Defaulting to user installation because normal site-packages is not writeable\n",
      "Requirement already satisfied: py7zr in /home/gregoire/.local/lib/python3.10/site-packages (0.20.2)\n",
      "Requirement already satisfied: psutil in /usr/lib/python3.10/site-packages (from py7zr) (5.9.4)\n",
      "Requirement already satisfied: texttable in /home/gregoire/.local/lib/python3.10/site-packages (from py7zr) (1.6.7)\n",
      "Requirement already satisfied: pycryptodomex>=3.6.6 in /home/gregoire/.local/lib/python3.10/site-packages (from py7zr) (3.16.0)\n",
      "Requirement already satisfied: pyppmd<1.1.0,>=0.18.1 in /home/gregoire/.local/lib/python3.10/site-packages (from py7zr) (1.0.0)\n",
      "Requirement already satisfied: pyzstd>=0.14.4 in /home/gregoire/.local/lib/python3.10/site-packages (from py7zr) (0.15.3)\n",
      "Requirement already satisfied: inflate64>=0.3.1 in /home/gregoire/.local/lib/python3.10/site-packages (from py7zr) (0.3.1)\n",
      "Requirement already satisfied: pybcj>=0.6.0 in /home/gregoire/.local/lib/python3.10/site-packages (from py7zr) (1.0.1)\n",
      "Requirement already satisfied: brotli>=1.0.9 in /home/gregoire/.local/lib/python3.10/site-packages (from py7zr) (1.0.9)\n",
      "Requirement already satisfied: multivolumefile>=0.2.3 in /home/gregoire/.local/lib/python3.10/site-packages (from py7zr) (0.2.3)\n",
      "Defaulting to user installation because normal site-packages is not writeable\n",
      "Requirement already satisfied: s3fs in /home/gregoire/.local/lib/python3.10/site-packages (2022.11.0)\n",
      "Requirement already satisfied: fsspec==2022.11.0 in /home/gregoire/.local/lib/python3.10/site-packages (from s3fs) (2022.11.0)\n",
      "Requirement already satisfied: aiobotocore~=2.4.0 in /home/gregoire/.local/lib/python3.10/site-packages (from s3fs) (2.4.1)\n",
      "Requirement already satisfied: aiohttp!=4.0.0a0,!=4.0.0a1 in /home/gregoire/.local/lib/python3.10/site-packages (from s3fs) (3.8.3)\n",
      "Requirement already satisfied: aioitertools>=0.5.1 in /home/gregoire/.local/lib/python3.10/site-packages (from aiobotocore~=2.4.0->s3fs) (0.11.0)\n",
      "Collecting botocore<1.27.60,>=1.27.59\n",
      "  Using cached botocore-1.27.59-py3-none-any.whl (9.1 MB)\n",
      "Requirement already satisfied: wrapt>=1.10.10 in /home/gregoire/.local/lib/python3.10/site-packages (from aiobotocore~=2.4.0->s3fs) (1.14.1)\n",
      "Requirement already satisfied: charset-normalizer<3.0,>=2.0 in /home/gregoire/.local/lib/python3.10/site-packages (from aiohttp!=4.0.0a0,!=4.0.0a1->s3fs) (2.1.1)\n",
      "Requirement already satisfied: async-timeout<5.0,>=4.0.0a3 in /home/gregoire/.local/lib/python3.10/site-packages (from aiohttp!=4.0.0a0,!=4.0.0a1->s3fs) (4.0.2)\n",
      "Requirement already satisfied: frozenlist>=1.1.1 in /home/gregoire/.local/lib/python3.10/site-packages (from aiohttp!=4.0.0a0,!=4.0.0a1->s3fs) (1.3.3)\n",
      "Requirement already satisfied: attrs>=17.3.0 in /usr/lib/python3.10/site-packages (from aiohttp!=4.0.0a0,!=4.0.0a1->s3fs) (22.1.0)\n",
      "Requirement already satisfied: yarl<2.0,>=1.0 in /home/gregoire/.local/lib/python3.10/site-packages (from aiohttp!=4.0.0a0,!=4.0.0a1->s3fs) (1.8.2)\n",
      "Requirement already satisfied: aiosignal>=1.1.2 in /home/gregoire/.local/lib/python3.10/site-packages (from aiohttp!=4.0.0a0,!=4.0.0a1->s3fs) (1.3.1)\n",
      "Requirement already satisfied: multidict<7.0,>=4.5 in /home/gregoire/.local/lib/python3.10/site-packages (from aiohttp!=4.0.0a0,!=4.0.0a1->s3fs) (6.0.3)\n",
      "Collecting urllib3<1.27,>=1.25.4\n",
      "  Using cached urllib3-1.26.13-py2.py3-none-any.whl (140 kB)\n",
      "Requirement already satisfied: jmespath<2.0.0,>=0.7.1 in /home/gregoire/.local/lib/python3.10/site-packages (from botocore<1.27.60,>=1.27.59->aiobotocore~=2.4.0->s3fs) (0.10.0)\n",
      "Requirement already satisfied: python-dateutil<3.0.0,>=2.1 in /usr/lib/python3.10/site-packages (from botocore<1.27.60,>=1.27.59->aiobotocore~=2.4.0->s3fs) (2.8.2)\n",
      "Requirement already satisfied: idna>=2.0 in /usr/lib/python3.10/site-packages (from yarl<2.0,>=1.0->aiohttp!=4.0.0a0,!=4.0.0a1->s3fs) (3.4)\n",
      "Requirement already satisfied: six>=1.5 in /usr/lib/python3.10/site-packages (from python-dateutil<3.0.0,>=2.1->botocore<1.27.60,>=1.27.59->aiobotocore~=2.4.0->s3fs) (1.16.0)\n",
      "Installing collected packages: urllib3, botocore\n",
      "  Attempting uninstall: urllib3\n",
      "    Found existing installation: urllib3 1.22\n",
      "    Uninstalling urllib3-1.22:\n",
      "      Successfully uninstalled urllib3-1.22\n",
      "  Attempting uninstall: botocore\n",
      "    Found existing installation: botocore 1.23.26\n",
      "    Uninstalling botocore-1.23.26:\n",
      "      Successfully uninstalled botocore-1.23.26\n",
      "Successfully installed botocore-1.27.59 urllib3-1.26.13\n",
      "fatal : le chemin de destination 'cartogether' existe déjà et n'est pas un répertoire vide.\n",
      "/home/gregoire/Python/ProjPythonENSAE2022/ProjPython/cartogether\n",
      "Defaulting to user installation because normal site-packages is not writeable\n",
      "Requirement already satisfied: requests in /usr/lib/python3.10/site-packages (from -r requirements.txt (line 1)) (2.28.1)\n",
      "Requirement already satisfied: py7zr in /home/gregoire/.local/lib/python3.10/site-packages (from -r requirements.txt (line 2)) (0.20.2)\n",
      "Requirement already satisfied: geopandas in /home/gregoire/.local/lib/python3.10/site-packages (from -r requirements.txt (line 3)) (0.12.2)\n",
      "Requirement already satisfied: openpyxl in /home/gregoire/.local/lib/python3.10/site-packages (from -r requirements.txt (line 4)) (3.0.10)\n",
      "Requirement already satisfied: tqdm in /home/gregoire/.local/lib/python3.10/site-packages (from -r requirements.txt (line 5)) (4.64.1)\n",
      "Requirement already satisfied: s3fs in /home/gregoire/.local/lib/python3.10/site-packages (from -r requirements.txt (line 6)) (2022.11.0)\n",
      "Requirement already satisfied: PyYAML in /usr/lib/python3.10/site-packages (from -r requirements.txt (line 7)) (6.0)\n",
      "Requirement already satisfied: xlrd in /home/gregoire/.local/lib/python3.10/site-packages (from -r requirements.txt (line 8)) (2.0.1)\n",
      "Requirement already satisfied: idna<4,>=2.5 in /usr/lib/python3.10/site-packages (from requests->-r requirements.txt (line 1)) (3.4)\n",
      "Requirement already satisfied: urllib3<1.27,>=1.21.1 in /home/gregoire/.local/lib/python3.10/site-packages (from requests->-r requirements.txt (line 1)) (1.26.13)\n",
      "Requirement already satisfied: texttable in /home/gregoire/.local/lib/python3.10/site-packages (from py7zr->-r requirements.txt (line 2)) (1.6.7)\n",
      "Requirement already satisfied: inflate64>=0.3.1 in /home/gregoire/.local/lib/python3.10/site-packages (from py7zr->-r requirements.txt (line 2)) (0.3.1)\n",
      "Requirement already satisfied: pyzstd>=0.14.4 in /home/gregoire/.local/lib/python3.10/site-packages (from py7zr->-r requirements.txt (line 2)) (0.15.3)\n",
      "Requirement already satisfied: multivolumefile>=0.2.3 in /home/gregoire/.local/lib/python3.10/site-packages (from py7zr->-r requirements.txt (line 2)) (0.2.3)\n",
      "Requirement already satisfied: pybcj>=0.6.0 in /home/gregoire/.local/lib/python3.10/site-packages (from py7zr->-r requirements.txt (line 2)) (1.0.1)\n",
      "Requirement already satisfied: psutil in /usr/lib/python3.10/site-packages (from py7zr->-r requirements.txt (line 2)) (5.9.4)\n",
      "Requirement already satisfied: pycryptodomex>=3.6.6 in /home/gregoire/.local/lib/python3.10/site-packages (from py7zr->-r requirements.txt (line 2)) (3.16.0)\n",
      "Requirement already satisfied: pyppmd<1.1.0,>=0.18.1 in /home/gregoire/.local/lib/python3.10/site-packages (from py7zr->-r requirements.txt (line 2)) (1.0.0)\n",
      "Requirement already satisfied: brotli>=1.0.9 in /home/gregoire/.local/lib/python3.10/site-packages (from py7zr->-r requirements.txt (line 2)) (1.0.9)\n",
      "Requirement already satisfied: packaging in /usr/lib/python3.10/site-packages (from geopandas->-r requirements.txt (line 3)) (21.3)\n",
      "Requirement already satisfied: fiona>=1.8 in /home/gregoire/.local/lib/python3.10/site-packages (from geopandas->-r requirements.txt (line 3)) (1.8.22)\n",
      "Requirement already satisfied: pandas>=1.0.0 in /home/gregoire/.local/lib/python3.10/site-packages (from geopandas->-r requirements.txt (line 3)) (1.5.2)\n",
      "Requirement already satisfied: shapely>=1.7 in /home/gregoire/.local/lib/python3.10/site-packages (from geopandas->-r requirements.txt (line 3)) (2.0.0)\n",
      "Requirement already satisfied: pyproj>=2.6.1.post1 in /home/gregoire/.local/lib/python3.10/site-packages (from geopandas->-r requirements.txt (line 3)) (3.4.1)\n"
     ]
    },
    {
     "name": "stdout",
     "output_type": "stream",
     "text": [
      "Requirement already satisfied: et-xmlfile in /home/gregoire/.local/lib/python3.10/site-packages (from openpyxl->-r requirements.txt (line 4)) (1.1.0)\n",
      "Requirement already satisfied: aiobotocore~=2.4.0 in /home/gregoire/.local/lib/python3.10/site-packages (from s3fs->-r requirements.txt (line 6)) (2.4.1)\n",
      "Requirement already satisfied: aiohttp!=4.0.0a0,!=4.0.0a1 in /home/gregoire/.local/lib/python3.10/site-packages (from s3fs->-r requirements.txt (line 6)) (3.8.3)\n",
      "Requirement already satisfied: fsspec==2022.11.0 in /home/gregoire/.local/lib/python3.10/site-packages (from s3fs->-r requirements.txt (line 6)) (2022.11.0)\n",
      "Requirement already satisfied: aioitertools>=0.5.1 in /home/gregoire/.local/lib/python3.10/site-packages (from aiobotocore~=2.4.0->s3fs->-r requirements.txt (line 6)) (0.11.0)\n",
      "Requirement already satisfied: botocore<1.27.60,>=1.27.59 in /home/gregoire/.local/lib/python3.10/site-packages (from aiobotocore~=2.4.0->s3fs->-r requirements.txt (line 6)) (1.27.59)\n",
      "Requirement already satisfied: wrapt>=1.10.10 in /home/gregoire/.local/lib/python3.10/site-packages (from aiobotocore~=2.4.0->s3fs->-r requirements.txt (line 6)) (1.14.1)\n",
      "Requirement already satisfied: async-timeout<5.0,>=4.0.0a3 in /home/gregoire/.local/lib/python3.10/site-packages (from aiohttp!=4.0.0a0,!=4.0.0a1->s3fs->-r requirements.txt (line 6)) (4.0.2)\n",
      "Requirement already satisfied: aiosignal>=1.1.2 in /home/gregoire/.local/lib/python3.10/site-packages (from aiohttp!=4.0.0a0,!=4.0.0a1->s3fs->-r requirements.txt (line 6)) (1.3.1)\n",
      "Requirement already satisfied: attrs>=17.3.0 in /usr/lib/python3.10/site-packages (from aiohttp!=4.0.0a0,!=4.0.0a1->s3fs->-r requirements.txt (line 6)) (22.1.0)\n",
      "Requirement already satisfied: multidict<7.0,>=4.5 in /home/gregoire/.local/lib/python3.10/site-packages (from aiohttp!=4.0.0a0,!=4.0.0a1->s3fs->-r requirements.txt (line 6)) (6.0.3)\n",
      "Requirement already satisfied: yarl<2.0,>=1.0 in /home/gregoire/.local/lib/python3.10/site-packages (from aiohttp!=4.0.0a0,!=4.0.0a1->s3fs->-r requirements.txt (line 6)) (1.8.2)\n",
      "Requirement already satisfied: charset-normalizer<3.0,>=2.0 in /home/gregoire/.local/lib/python3.10/site-packages (from aiohttp!=4.0.0a0,!=4.0.0a1->s3fs->-r requirements.txt (line 6)) (2.1.1)\n",
      "Requirement already satisfied: frozenlist>=1.1.1 in /home/gregoire/.local/lib/python3.10/site-packages (from aiohttp!=4.0.0a0,!=4.0.0a1->s3fs->-r requirements.txt (line 6)) (1.3.3)\n",
      "Requirement already satisfied: click-plugins>=1.0 in /home/gregoire/.local/lib/python3.10/site-packages (from fiona>=1.8->geopandas->-r requirements.txt (line 3)) (1.1.1)\n",
      "Requirement already satisfied: click>=4.0 in /usr/lib/python3.10/site-packages (from fiona>=1.8->geopandas->-r requirements.txt (line 3)) (8.1.3)\n",
      "Requirement already satisfied: munch in /home/gregoire/.local/lib/python3.10/site-packages (from fiona>=1.8->geopandas->-r requirements.txt (line 3)) (2.5.0)\n",
      "Requirement already satisfied: certifi in /home/gregoire/.local/lib/python3.10/site-packages (from fiona>=1.8->geopandas->-r requirements.txt (line 3)) (2022.12.7)\n",
      "Requirement already satisfied: cligj>=0.5 in /home/gregoire/.local/lib/python3.10/site-packages (from fiona>=1.8->geopandas->-r requirements.txt (line 3)) (0.7.2)\n",
      "Requirement already satisfied: setuptools in /usr/lib/python3.10/site-packages (from fiona>=1.8->geopandas->-r requirements.txt (line 3)) (65.6.3)\n",
      "Requirement already satisfied: six>=1.7 in /usr/lib/python3.10/site-packages (from fiona>=1.8->geopandas->-r requirements.txt (line 3)) (1.16.0)\n",
      "Requirement already satisfied: pytz>=2020.1 in /usr/lib/python3.10/site-packages (from pandas>=1.0.0->geopandas->-r requirements.txt (line 3)) (2022.6)\n",
      "Requirement already satisfied: python-dateutil>=2.8.1 in /usr/lib/python3.10/site-packages (from pandas>=1.0.0->geopandas->-r requirements.txt (line 3)) (2.8.2)\n",
      "Requirement already satisfied: numpy>=1.21.0 in /home/gregoire/.local/lib/python3.10/site-packages (from pandas>=1.0.0->geopandas->-r requirements.txt (line 3)) (1.23.5)\n",
      "Requirement already satisfied: pyparsing!=3.0.5,>=2.0.2 in /usr/lib/python3.10/site-packages (from packaging->geopandas->-r requirements.txt (line 3)) (3.0.9)\n",
      "Requirement already satisfied: jmespath<2.0.0,>=0.7.1 in /home/gregoire/.local/lib/python3.10/site-packages (from botocore<1.27.60,>=1.27.59->aiobotocore~=2.4.0->s3fs->-r requirements.txt (line 6)) (0.10.0)\n",
      "Requirement already satisfied: appdirs in /usr/lib/python3.10/site-packages (from setuptools->fiona>=1.8->geopandas->-r requirements.txt (line 3)) (1.4.4)\n",
      "Requirement already satisfied: jaraco.text in /usr/lib/python3.10/site-packages (from setuptools->fiona>=1.8->geopandas->-r requirements.txt (line 3)) (3.11.0)\n",
      "Requirement already satisfied: more-itertools in /usr/lib/python3.10/site-packages (from setuptools->fiona>=1.8->geopandas->-r requirements.txt (line 3)) (9.0.0)\n",
      "Requirement already satisfied: ordered-set in /usr/lib/python3.10/site-packages (from setuptools->fiona>=1.8->geopandas->-r requirements.txt (line 3)) (4.1.0)\n",
      "Requirement already satisfied: tomli in /usr/lib/python3.10/site-packages (from setuptools->fiona>=1.8->geopandas->-r requirements.txt (line 3)) (2.0.1)\n",
      "Requirement already satisfied: validate-pyproject in /usr/lib/python3.10/site-packages (from setuptools->fiona>=1.8->geopandas->-r requirements.txt (line 3)) (0.10.1)\n",
      "Requirement already satisfied: autocommand in /usr/lib/python3.10/site-packages (from jaraco.text->setuptools->fiona>=1.8->geopandas->-r requirements.txt (line 3)) (2.2.2)\n",
      "Requirement already satisfied: inflect in /usr/lib/python3.10/site-packages (from jaraco.text->setuptools->fiona>=1.8->geopandas->-r requirements.txt (line 3)) (6.0.2)\n",
      "Requirement already satisfied: jaraco.context>=4.1 in /usr/lib/python3.10/site-packages (from jaraco.text->setuptools->fiona>=1.8->geopandas->-r requirements.txt (line 3)) (4.2.0)\n",
      "Requirement already satisfied: jaraco.functools in /usr/lib/python3.10/site-packages (from jaraco.text->setuptools->fiona>=1.8->geopandas->-r requirements.txt (line 3)) (3.5.2)\n",
      "Requirement already satisfied: pydantic>=1.9.1 in /usr/lib/python3.10/site-packages (from inflect->jaraco.text->setuptools->fiona>=1.8->geopandas->-r requirements.txt (line 3)) (1.10.2)\n",
      "Requirement already satisfied: typing-extensions>=4.1.0 in /usr/lib/python3.10/site-packages (from pydantic>=1.9.1->inflect->jaraco.text->setuptools->fiona>=1.8->geopandas->-r requirements.txt (line 3)) (4.4.0)\n",
      "Defaulting to user installation because normal site-packages is not writeable\n",
      "Processing /home/gregoire/Python/ProjPythonENSAE2022/ProjPython/cartogether\n",
      "  Installing build dependencies ... \u001b[?25ldone\n",
      "\u001b[?25h  Getting requirements to build wheel ... \u001b[?25ldone\n",
      "\u001b[?25h  Preparing metadata (pyproject.toml) ... \u001b[?25ldone\n",
      "\u001b[?25hBuilding wheels for collected packages: cartiflette\n",
      "  Building wheel for cartiflette (pyproject.toml) ... \u001b[?25ldone\n",
      "\u001b[?25h  Created wheel for cartiflette: filename=cartiflette-0.0.1-py3-none-any.whl size=19629 sha256=16f3fc188955d4464615b7b4e02a592a1b8f685ed8ed428aaffbd4fbe0443179\n",
      "  Stored in directory: /tmp/pip-ephem-wheel-cache-236ske1i/wheels/f4/b3/8f/2147229f24196ae8874440ac7bad9db2e287b08af2d61a7620\n",
      "Successfully built cartiflette\n",
      "Installing collected packages: cartiflette\n",
      "  Attempting uninstall: cartiflette\n",
      "    Found existing installation: cartiflette 0.0.1\n",
      "    Uninstalling cartiflette-0.0.1:\n",
      "      Successfully uninstalled cartiflette-0.0.1\n",
      "Successfully installed cartiflette-0.0.1\n"
     ]
    }
   ],
   "source": [
    "!pip install --upgrade botocore==1.23.26  #Sur colab, sinon bug\n",
    "!pip install --upgrade urllib3==1.22.0 #Sur colab, sinon bug\n",
    "!pip install py7zr #Sur colab, sinon bug\n",
    "!pip install s3fs #Sur colab, sinon bug\n",
    "!git clone https://github.com/InseeFrLab/cartogether.git\n",
    "%cd ./cartogether\n",
    "!pip install -r requirements.txt\n",
    "!pip install .\n"
   ]
  },
  {
   "cell_type": "code",
   "execution_count": 4,
   "metadata": {
    "id": "PTuOEuAhd83f"
   },
   "outputs": [],
   "source": [
    "import cartiflette.s3"
   ]
  },
  {
   "cell_type": "markdown",
   "metadata": {
    "id": "RKeiwOUYA67a"
   },
   "source": [
    "**Entrées de l'utilisateur :**"
   ]
  },
  {
   "cell_type": "code",
   "execution_count": 5,
   "metadata": {
    "id": "bEufY6Pw-Hx2"
   },
   "outputs": [
    {
     "name": "stdout",
     "output_type": "stream",
     "text": [
      "DepartementPARIS\n",
      "Numero36\n",
      "Nom de la voierue Chardon-Lagache\n",
      "VilleParis\n",
      "Code postal75016\n"
     ]
    }
   ],
   "source": [
    "#Entree par l'utilisateur de info sur son domicile \n",
    "dep = (input(\"Departement\"))\n",
    "num = int(input(\"Numero\"))\n",
    "nom_voie = input(\"Nom de la voie\")\n",
    "ville = input('Ville')\n",
    "code_postal = input(\"Code postal\")"
   ]
  },
  {
   "cell_type": "markdown",
   "metadata": {
    "id": "ap08yeC6BAR0"
   },
   "source": [
    "**Fonction principale : mesure et visualisation du degré de sécheresse à proximité de l'adresse considérée**"
   ]
  },
  {
   "cell_type": "code",
   "execution_count": null,
   "metadata": {
    "id": "1BZP25-M_FpG"
   },
   "outputs": [],
   "source": [
    "def secheresse(dep,num,nom_voie,ville,code_postal):\n",
    "\n",
    "  #Récupération des données concernant le domicile de l'utilisateur \n",
    "  adresses_dep = pd.read_csv(\"/Users/sophiebataille/Desktop/Projet_Python/Adresses/adresses-\"+dep+\".csv\", sep=\";\", error_bad_lines=False) #recuperation des adresses postales correspondant au département de l'utilisateur\n",
    "  foyer_infos = adresses_dep[(adresses_dep[\"numero\"] == num) & (adresses_dep[\"nom_commune\"] == ville) & (adresses_dep[\"nom_voie\"] == nom_voie)] \n",
    "\n",
    "  df = gpd.read_file(\"/content/AleaRG\"+dep+\"L93.shp\") #dataframe contenant les zones arigleuses du département donné \n",
    "  df.to_csv(\"\") #conversion du fichier en csv \n",
    "\n",
    "\n",
    "  #Calcul du score moyen de \"sécheresse\" (i.e. niveau de gonflement/retrait d'argile, échelle de 1 à 3) du département considéré \n",
    "  argile_dep = np.mean(df[\"niveau\"])\n",
    "\n",
    "  #Conversion des coordonnées GPS d'un point en une géométrie exploitable sur Geopandas \n",
    "  geometry = gpd.points_from_xy(foyer_infos[\"lon\"], foyer_infos[\"lat\"])\n",
    "\n",
    "  #Création d'un dataframe avec geométrie du point à localiser \n",
    "  geo_foyer = gpd.GeoDataFrame(foyer_infos, crs=\"EPSG:4326\", geometry=geometry)\n",
    "  geo_foyer.crs\n",
    "\n",
    "  #Création du fond de carte associé au département de l'adresse considérée \n",
    "    shp_31 = cartiflette.s3.download_vectorfile_url_all(\n",
    "      values = [\"dep\"],\n",
    "      level=\"COMMUNE\",\n",
    "      vectorfile_format=\"geojson\",\n",
    "      decoupage=\"departement\",\n",
    "      year=2022)\n",
    "\n",
    "    shp_31.crs\n",
    "\n",
    "  #Contour de la ville considérée \n",
    "  shp_ville = shp_31[shp_31.NOM == 'ville']\n",
    "  shp_ville.head()\n",
    "\n",
    "  #Visualisation de la répartition des zones argileuses sur le département + mise en évidence de la ville considérée \n",
    "  fig,ax = plt.subplots(figsize=(10, 10)) \n",
    "  df.to_crs(3857).plot(ax = ax,alpha=0.6,zorder=1,cmap ='plasma')\n",
    "  geo_foyer.to_crs(3857).plot(ax=ax,markersize=50,color='black')\n",
    "  shp_31.to_crs(3857).plot(ax = ax, zorder=1, edgecolor = \"black\", facecolor=\"none\",\n",
    "                                                           color = None)\n",
    "  shp_ville.to_crs(3857).plot(ax = ax, zorder=2, edgecolor = \"red\", facecolor=\"none\",\n",
    "                                                           color = None)\n",
    "  \n",
    "  print(\"Le niveau de sécheresse moyen dans le département est de :\")\n",
    "  return(argile_dep)\n",
    "\n",
    "\n"
   ]
  },
  {
   "cell_type": "markdown",
   "metadata": {
    "id": "t05RWw3kAfG_"
   },
   "source": [
    "**Fonctions auxilliaires :**"
   ]
  },
  {
   "cell_type": "code",
   "execution_count": null,
   "metadata": {
    "id": "D_OxPFihghZv"
   },
   "outputs": [],
   "source": [
    "#Conversion des coordonnées GPS d'un point en une géométrie exploitable sur Geopandas \n",
    "geometry = gpd.points_from_xy(foyer_infos[\"lon\"], foyer_infos[\"lat\"])\n",
    "\n",
    "#Création d'un dataframe avec geométrie du point à localiser \n",
    "geo_foyer = gpd.GeoDataFrame(\n",
    "    foyer_infos, crs=\"EPSG:4326\", geometry=geometry\n",
    ")\n",
    "\n",
    "geo_foyer.crs"
   ]
  },
  {
   "cell_type": "code",
   "execution_count": null,
   "metadata": {
    "id": "3iCXKcxWe--J"
   },
   "outputs": [],
   "source": [
    "#Création du fond de carte associé au département de l'adresse considérée \n",
    "shp_31 = cartiflette.s3.download_vectorfile_url_all(\n",
    "    values = [\"dep\"],\n",
    "    level=\"COMMUNE\",\n",
    "    vectorfile_format=\"geojson\",\n",
    "    decoupage=\"departement\",\n",
    "    year=2022)\n",
    "\n",
    "shp_31.crs"
   ]
  },
  {
   "cell_type": "code",
   "execution_count": null,
   "metadata": {
    "id": "vBwfLTOHgiC0"
   },
   "outputs": [],
   "source": [
    "#Contour de la ville considérée \n",
    "shp_ville = shp_31[shp_31.NOM == 'ville']\n",
    "shp_ville.head()"
   ]
  },
  {
   "cell_type": "code",
   "execution_count": null,
   "metadata": {
    "id": "9P34PoaR8Kxh"
   },
   "outputs": [],
   "source": [
    "#Visualisation de la répartition des zones argileuses sur le département + mise en évidence de la ville considérée \n",
    "fig,ax = plt.subplots(figsize=(10, 10)) \n",
    "df.to_crs(3857).plot(ax = ax,alpha=0.6,zorder=1,cmap ='plasma')\n",
    "geo_foyer.to_crs(3857).plot(ax=ax,markersize=50,color='black')\n",
    "shp_31.to_crs(3857).plot(ax = ax, zorder=1, edgecolor = \"black\", facecolor=\"none\",\n",
    "                                                           color = None)\n",
    "shp_ville.to_crs(3857).plot(ax = ax, zorder=2, edgecolor = \"red\", facecolor=\"none\",\n",
    "                                                           color = None)"
   ]
  }
 ],
 "metadata": {
  "colab": {
   "provenance": []
  },
  "kernelspec": {
   "display_name": "Python 3 (ipykernel)",
   "language": "python",
   "name": "python3"
  },
  "language_info": {
   "codemirror_mode": {
    "name": "ipython",
    "version": 3
   },
   "file_extension": ".py",
   "mimetype": "text/x-python",
   "name": "python",
   "nbconvert_exporter": "python",
   "pygments_lexer": "ipython3",
   "version": "3.10.8"
  }
 },
 "nbformat": 4,
 "nbformat_minor": 1
}
