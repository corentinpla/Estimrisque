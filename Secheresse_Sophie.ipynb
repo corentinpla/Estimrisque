{
  "nbformat": 4,
  "nbformat_minor": 0,
  "metadata": {
    "colab": {
      "provenance": []
    },
    "kernelspec": {
      "name": "python3",
      "display_name": "Python 3"
    },
    "language_info": {
      "name": "python"
    }
  },
  "cells": [
    {
      "cell_type": "markdown",
      "source": [
        "**Mesure du degré de sécheresse associé à l'adresse considéré (utilisation d'une mesure de degré de gonflement/retrait d'argile).**\n",
        "\n",
        "* Importation des packages nécessaires (data visualisation, manipulation de données géographiques) \n",
        "* Création de la carte de sécheresse du département considéré (associé à l'adresse de l'utilisateur) + précision de l'adresse précise sur cette carte \n",
        "* Calcul d'un score moyen de sécheresse dans le département \n",
        "\n"
      ],
      "metadata": {
        "id": "9kUU5sazc2-r"
      }
    },
    {
      "cell_type": "markdown",
      "source": [
        "**Importation des packages nécessaires :**"
      ],
      "metadata": {
        "id": "U4mO4ls5AwyU"
      }
    },
    {
      "cell_type": "code",
      "execution_count": null,
      "metadata": {
        "id": "_nlEQzndc2RZ"
      },
      "outputs": [],
      "source": [
        "pip install geopandas"
      ]
    },
    {
      "cell_type": "code",
      "source": [
        "import pandas as pd\n",
        "import geopandas as gpd \n",
        "import numpy as np \n",
        "import matplotlib.pyplot as plt"
      ],
      "metadata": {
        "id": "mZPaHYJXdqfp"
      },
      "execution_count": null,
      "outputs": []
    },
    {
      "cell_type": "code",
      "source": [
        "!pip install --upgrade botocore==1.23.26  #Sur colab, sinon bug\n",
        "!pip install --upgrade urllib3==1.22.0 #Sur colab, sinon bug\n",
        "!pip install py7zr #Sur colab, sinon bug\n",
        "!pip install s3fs #Sur colab, sinon bug\n",
        "!git clone https://github.com/InseeFrLab/cartogether.git\n",
        "%cd ./cartogether\n",
        "!pip install -r requirements.txt\n",
        "!pip install .\n"
      ],
      "metadata": {
        "id": "9_U6afOHd4GR"
      },
      "execution_count": null,
      "outputs": []
    },
    {
      "cell_type": "code",
      "source": [
        "import cartiflette.s3"
      ],
      "metadata": {
        "id": "PTuOEuAhd83f"
      },
      "execution_count": null,
      "outputs": []
    },
    {
      "cell_type": "markdown",
      "source": [
        "**Entrées de l'utilisateur :**"
      ],
      "metadata": {
        "id": "RKeiwOUYA67a"
      }
    },
    {
      "cell_type": "code",
      "source": [
        "#Entree par l'utilisateur de info sur son domicile \n",
        "dep = (input(\"Departement\"))\n",
        "num = int(input(\"Numero\"))\n",
        "nom_voie = input(\"Nom de la voie\")\n",
        "ville = input('Ville')\n",
        "code_postal = input(\"Code postal\")"
      ],
      "metadata": {
        "id": "bEufY6Pw-Hx2"
      },
      "execution_count": null,
      "outputs": []
    },
    {
      "cell_type": "markdown",
      "source": [
        "**Fonction principale : mesure et visualisation du degré de sécheresse à proximité de l'adresse considérée**"
      ],
      "metadata": {
        "id": "ap08yeC6BAR0"
      }
    },
    {
      "cell_type": "code",
      "source": [
        "def secheresse(dep,num,nom_voie,ville,code_postal):\n",
        "\n",
        "  #Récupération des données concernant le domicile de l'utilisateur \n",
        "  adresses_dep = pd.read_csv(\"/Users/sophiebataille/Desktop/Projet_Python/Adresses/adresses-\"+dep+\".csv\", sep=\";\", error_bad_lines=False) #recuperation des adresses postales correspondant au département de l'utilisateur\n",
        "  foyer_infos = adresses_dep[(adresses_dep[\"numero\"] == num) & (adresses_dep[\"nom_commune\"] == ville) & (adresses_dep[\"nom_voie\"] == nom_voie)] \n",
        "\n",
        "  df = gpd.read_file(\"/content/AleaRG\"+dep+\"L93.shp\") #dataframe contenant les zones arigleuses du département donné \n",
        "  df.to_csv(\"\") #conversion du fichier en csv \n",
        "\n",
        "\n",
        "  #Calcul du score moyen de \"sécheresse\" (i.e. niveau de gonflement/retrait d'argile, échelle de 1 à 3) du département considéré \n",
        "  argile_dep = np.mean(df[\"niveau\"])\n",
        "\n",
        "  #Conversion des coordonnées GPS d'un point en une géométrie exploitable sur Geopandas \n",
        "  geometry = gpd.points_from_xy(foyer_infos[\"lon\"], foyer_infos[\"lat\"])\n",
        "\n",
        "  #Création d'un dataframe avec geométrie du point à localiser \n",
        "  geo_foyer = gpd.GeoDataFrame(foyer_infos, crs=\"EPSG:4326\", geometry=geometry)\n",
        "  geo_foyer.crs\n",
        "\n",
        "  #Création du fond de carte associé au département de l'adresse considérée \n",
        "    shp_31 = cartiflette.s3.download_vectorfile_url_all(\n",
        "      values = [\"dep\"],\n",
        "      level=\"COMMUNE\",\n",
        "      vectorfile_format=\"geojson\",\n",
        "      decoupage=\"departement\",\n",
        "      year=2022)\n",
        "\n",
        "    shp_31.crs\n",
        "\n",
        "  #Contour de la ville considérée \n",
        "  shp_ville = shp_31[shp_31.NOM == 'ville']\n",
        "  shp_ville.head()\n",
        "\n",
        "  #Visualisation de la répartition des zones argileuses sur le département + mise en évidence de la ville considérée \n",
        "  fig,ax = plt.subplots(figsize=(10, 10)) \n",
        "  df.to_crs(3857).plot(ax = ax,alpha=0.6,zorder=1,cmap ='plasma')\n",
        "  geo_foyer.to_crs(3857).plot(ax=ax,markersize=50,color='black')\n",
        "  shp_31.to_crs(3857).plot(ax = ax, zorder=1, edgecolor = \"black\", facecolor=\"none\",\n",
        "                                                           color = None)\n",
        "  shp_ville.to_crs(3857).plot(ax = ax, zorder=2, edgecolor = \"red\", facecolor=\"none\",\n",
        "                                                           color = None)\n",
        "  \n",
        "  print(\"Le niveau de sécheresse moyen dans le département est de :\")\n",
        "  return(argile_dep)\n",
        "\n",
        "\n"
      ],
      "metadata": {
        "id": "1BZP25-M_FpG"
      },
      "execution_count": null,
      "outputs": []
    },
    {
      "cell_type": "markdown",
      "source": [
        "**Fonctions auxilliaires :**"
      ],
      "metadata": {
        "id": "t05RWw3kAfG_"
      }
    },
    {
      "cell_type": "code",
      "source": [
        "#Conversion des coordonnées GPS d'un point en une géométrie exploitable sur Geopandas \n",
        "geometry = gpd.points_from_xy(foyer_infos[\"lon\"], foyer_infos[\"lat\"])\n",
        "\n",
        "#Création d'un dataframe avec geométrie du point à localiser \n",
        "geo_foyer = gpd.GeoDataFrame(\n",
        "    foyer_infos, crs=\"EPSG:4326\", geometry=geometry\n",
        ")\n",
        "\n",
        "geo_foyer.crs"
      ],
      "metadata": {
        "id": "D_OxPFihghZv"
      },
      "execution_count": null,
      "outputs": []
    },
    {
      "cell_type": "code",
      "source": [
        "#Création du fond de carte associé au département de l'adresse considérée \n",
        "shp_31 = cartiflette.s3.download_vectorfile_url_all(\n",
        "    values = [\"dep\"],\n",
        "    level=\"COMMUNE\",\n",
        "    vectorfile_format=\"geojson\",\n",
        "    decoupage=\"departement\",\n",
        "    year=2022)\n",
        "\n",
        "shp_31.crs"
      ],
      "metadata": {
        "id": "3iCXKcxWe--J"
      },
      "execution_count": null,
      "outputs": []
    },
    {
      "cell_type": "code",
      "source": [
        "#Contour de la ville considérée \n",
        "shp_ville = shp_31[shp_31.NOM == 'ville']\n",
        "shp_ville.head()"
      ],
      "metadata": {
        "id": "vBwfLTOHgiC0"
      },
      "execution_count": null,
      "outputs": []
    },
    {
      "cell_type": "code",
      "source": [
        "#Visualisation de la répartition des zones argileuses sur le département + mise en évidence de la ville considérée \n",
        "fig,ax = plt.subplots(figsize=(10, 10)) \n",
        "df.to_crs(3857).plot(ax = ax,alpha=0.6,zorder=1,cmap ='plasma')\n",
        "geo_foyer.to_crs(3857).plot(ax=ax,markersize=50,color='black')\n",
        "shp_31.to_crs(3857).plot(ax = ax, zorder=1, edgecolor = \"black\", facecolor=\"none\",\n",
        "                                                           color = None)\n",
        "shp_ville.to_crs(3857).plot(ax = ax, zorder=2, edgecolor = \"red\", facecolor=\"none\",\n",
        "                                                           color = None)"
      ],
      "metadata": {
        "id": "9P34PoaR8Kxh"
      },
      "execution_count": null,
      "outputs": []
    }
  ]
}
