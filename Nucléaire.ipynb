{
 "cells": [
  {
   "cell_type": "code",
   "execution_count": 5,
   "metadata": {},
   "outputs": [
    {
     "name": "stdout",
     "output_type": "stream",
     "text": [
      "Defaulting to user installation because normal site-packages is not writeable\n",
      "Requirement already satisfied: pandas in /home/gregoire/.local/lib/python3.10/site-packages (1.5.2)\n",
      "Requirement already satisfied: python-dateutil>=2.8.1 in /usr/lib/python3.10/site-packages (from pandas) (2.8.2)\n",
      "Requirement already satisfied: pytz>=2020.1 in /usr/lib/python3.10/site-packages (from pandas) (2022.6)\n",
      "Requirement already satisfied: numpy>=1.21.0 in /home/gregoire/.local/lib/python3.10/site-packages (from pandas) (1.23.5)\n",
      "Requirement already satisfied: six>=1.5 in /usr/lib/python3.10/site-packages (from python-dateutil>=2.8.1->pandas) (1.16.0)\n"
     ]
    }
   ],
   "source": [
    "#!pip install pandas"
   ]
  },
  {
   "cell_type": "code",
   "execution_count": 2,
   "metadata": {},
   "outputs": [],
   "source": [
    "import pandas as pd \n",
    "import numpy as np"
   ]
  },
  {
   "cell_type": "code",
   "execution_count": 3,
   "metadata": {},
   "outputs": [],
   "source": [
    "dep, num, nom_voie, ville, code_postal = \"75\", 36, \"Rue Chardon-Lagache\", \"Paris 16e Arrondissement\", \"75016\""
   ]
  },
  {
   "cell_type": "code",
   "execution_count": 4,
   "metadata": {},
   "outputs": [],
   "source": [
    "#DataFrame regroupant des informations sur les centrales nucléaires de France métropolitaine \n",
    "centrales = pd.read_csv(\"DataSets/centrales_nucleaires.csv\",sep=',',encoding_errors='ignore')"
   ]
  },
  {
   "cell_type": "code",
   "execution_count": 5,
   "metadata": {},
   "outputs": [],
   "source": [
    "#Calcul de la plus petite distance à une centrale nucléaire \n",
    "def min_dist_centrales(longitude,latitude, centrales) :\n",
    "    long, lat = conversion_radians(longitude,latitude) #conversion des coordonnees en radians \n",
    "    d = np.inf\n",
    "    k = 0\n",
    "    for i in range(14) : #il y a 14 centrales nucleaires en FR \n",
    "        long_centrale, lat_centrale = conversion_radians(centrales[\"Commune long\"][i], centrales[\"Commune Lat\"][i])\n",
    "        D = 6371 * np.arccos(np.sin(lat_centrale)*np.sin(lat) + np.cos(lat_centrale)*np.cos(lat)*np.cos(long_centrale - long))\n",
    "        if D<d :\n",
    "            d = D \n",
    "            k = i\n",
    "    return(d,centrales[\"Centrale nuclaire\"][k])"
   ]
  },
  {
   "cell_type": "code",
   "execution_count": 6,
   "metadata": {},
   "outputs": [],
   "source": [
    "#Calcul du risque nucléaire \n",
    "def risque_nucleaire(longitude,latitude):\n",
    "    d_min, r = min_dist_centrales(longitude,latitude)\n",
    "    if d_min <= 5 :\n",
    "        return(5)\n",
    "    elif d_min <= 20 :\n",
    "        return(4)\n",
    "    elif d_min <= 60 :\n",
    "        return(3)\n",
    "    elif d_min <= 100 :\n",
    "        return(2)\n",
    "    else :\n",
    "        return(1) "
   ]
  },
  {
   "cell_type": "code",
   "execution_count": 7,
   "metadata": {},
   "outputs": [],
   "source": [
    "#Conversion des coordonnees GPS en radian \n",
    "def conversion_radians(longitude,latitude):\n",
    "    GPS_rad = ((longitude*np.pi)/180 , (latitude*np.pi)/180)\n",
    "    return(GPS_rad)"
   ]
  },
  {
   "cell_type": "code",
   "execution_count": 10,
   "metadata": {},
   "outputs": [],
   "source": [
    "def nucleaire(dep,num,nom_voie,ville,code_postal):\n",
    "\n",
    "    adresses_dep = pd.read_csv(\"https://adresse.data.gouv.fr/data/ban/adresses/latest/csv/adresses-\"+dep+\".csv.gz\", compression='gzip', sep=\";\", error_bad_lines=False) #recuperation des adresses postales correspondant au département de l'utilisateur\n",
    "    \n",
    "    foyer_infos = adresses_dep[(adresses_dep[\"numero\"] == num) & (adresses_dep[\"nom_commune\"] == ville) & (adresses_dep[\"nom_voie\"] == nom_voie)] \n",
    "    foyer = foyer_infos.to_numpy()\n",
    "    foyer = foyer.tolist()\n",
    "    print(foyer) #informations sur le domicile de l'utilisateur\n",
    "\n",
    "    #Coordonnees geographiques du dommicile \n",
    "    longitude = foyer[0][12]\n",
    "    latitude = foyer[0][13]\n",
    "\n",
    "    #Centrale nucléaire la plus proche, distance associé \n",
    "    D, nearest_centrale = min_dist_centrales(longitude,latitude)\n",
    "    print(\"La centrale nucleaire la plus proche se situe à :\")\n",
    "    print(D,nearest_centrale)\n",
    "\n",
    "    #Mesure du risque nucléaire à cette adresse \n",
    "    R = risque_nucleaire(longitude,latitude)\n",
    "    print(\"Le risque nucléaire à cette adresse est de :\")\n",
    "\n",
    "    return(R)\n",
    "\n"
   ]
  },
  {
   "cell_type": "code",
   "execution_count": 11,
   "metadata": {},
   "outputs": [
    {
     "ename": "TypeError",
     "evalue": "read_csv() got an unexpected keyword argument 'verify'",
     "output_type": "error",
     "traceback": [
      "\u001b[0;31m---------------------------------------------------------------------------\u001b[0m",
      "\u001b[0;31mTypeError\u001b[0m                                 Traceback (most recent call last)",
      "Cell \u001b[0;32mIn[11], line 2\u001b[0m\n\u001b[1;32m      1\u001b[0m \u001b[38;5;66;03m#Sortie du code :\u001b[39;00m\n\u001b[0;32m----> 2\u001b[0m \u001b[38;5;28mprint\u001b[39m(\u001b[43mnucleaire\u001b[49m\u001b[43m(\u001b[49m\u001b[43mdep\u001b[49m\u001b[43m,\u001b[49m\u001b[43m \u001b[49m\u001b[43mnum\u001b[49m\u001b[43m,\u001b[49m\u001b[43m \u001b[49m\u001b[43mnom_voie\u001b[49m\u001b[43m,\u001b[49m\u001b[43m \u001b[49m\u001b[43mville\u001b[49m\u001b[43m,\u001b[49m\u001b[43m \u001b[49m\u001b[43mcode_postal\u001b[49m\u001b[43m)\u001b[49m)\n",
      "Cell \u001b[0;32mIn[10], line 3\u001b[0m, in \u001b[0;36mnucleaire\u001b[0;34m(dep, num, nom_voie, ville, code_postal)\u001b[0m\n\u001b[1;32m      1\u001b[0m \u001b[38;5;28;01mdef\u001b[39;00m \u001b[38;5;21mnucleaire\u001b[39m(dep,num,nom_voie,ville,code_postal):\n\u001b[0;32m----> 3\u001b[0m     adresses_dep \u001b[38;5;241m=\u001b[39m \u001b[43mpd\u001b[49m\u001b[38;5;241;43m.\u001b[39;49m\u001b[43mread_csv\u001b[49m\u001b[43m(\u001b[49m\u001b[38;5;124;43m\"\u001b[39;49m\u001b[38;5;124;43mhttps://adresse.data.gouv.fr/data/ban/adresses/latest/csv/adresses-\u001b[39;49m\u001b[38;5;124;43m\"\u001b[39;49m\u001b[38;5;241;43m+\u001b[39;49m\u001b[43mdep\u001b[49m\u001b[38;5;241;43m+\u001b[39;49m\u001b[38;5;124;43m\"\u001b[39;49m\u001b[38;5;124;43m.csv.gz\u001b[39;49m\u001b[38;5;124;43m\"\u001b[39;49m\u001b[43m,\u001b[49m\u001b[43m \u001b[49m\u001b[43mcompression\u001b[49m\u001b[38;5;241;43m=\u001b[39;49m\u001b[38;5;124;43m'\u001b[39;49m\u001b[38;5;124;43mgzip\u001b[39;49m\u001b[38;5;124;43m'\u001b[39;49m\u001b[43m,\u001b[49m\u001b[43m \u001b[49m\u001b[43msep\u001b[49m\u001b[38;5;241;43m=\u001b[39;49m\u001b[38;5;124;43m\"\u001b[39;49m\u001b[38;5;124;43m;\u001b[39;49m\u001b[38;5;124;43m\"\u001b[39;49m\u001b[43m,\u001b[49m\u001b[43m \u001b[49m\u001b[43merror_bad_lines\u001b[49m\u001b[38;5;241;43m=\u001b[39;49m\u001b[38;5;28;43;01mFalse\u001b[39;49;00m\u001b[43m,\u001b[49m\u001b[43m \u001b[49m\u001b[43mverify\u001b[49m\u001b[43m \u001b[49m\u001b[38;5;241;43m=\u001b[39;49m\u001b[43m \u001b[49m\u001b[38;5;28;43;01mFalse\u001b[39;49;00m\u001b[43m)\u001b[49m \u001b[38;5;66;03m#recuperation des adresses postales correspondant au département de l'utilisateur\u001b[39;00m\n\u001b[1;32m      5\u001b[0m     foyer_infos \u001b[38;5;241m=\u001b[39m adresses_dep[(adresses_dep[\u001b[38;5;124m\"\u001b[39m\u001b[38;5;124mnumero\u001b[39m\u001b[38;5;124m\"\u001b[39m] \u001b[38;5;241m==\u001b[39m num) \u001b[38;5;241m&\u001b[39m (adresses_dep[\u001b[38;5;124m\"\u001b[39m\u001b[38;5;124mnom_commune\u001b[39m\u001b[38;5;124m\"\u001b[39m] \u001b[38;5;241m==\u001b[39m ville) \u001b[38;5;241m&\u001b[39m (adresses_dep[\u001b[38;5;124m\"\u001b[39m\u001b[38;5;124mnom_voie\u001b[39m\u001b[38;5;124m\"\u001b[39m] \u001b[38;5;241m==\u001b[39m nom_voie)] \n\u001b[1;32m      6\u001b[0m     foyer \u001b[38;5;241m=\u001b[39m foyer_infos\u001b[38;5;241m.\u001b[39mto_numpy()\n",
      "File \u001b[0;32m~/.local/lib/python3.10/site-packages/pandas/util/_decorators.py:211\u001b[0m, in \u001b[0;36mdeprecate_kwarg.<locals>._deprecate_kwarg.<locals>.wrapper\u001b[0;34m(*args, **kwargs)\u001b[0m\n\u001b[1;32m    209\u001b[0m     \u001b[38;5;28;01melse\u001b[39;00m:\n\u001b[1;32m    210\u001b[0m         kwargs[new_arg_name] \u001b[38;5;241m=\u001b[39m new_arg_value\n\u001b[0;32m--> 211\u001b[0m \u001b[38;5;28;01mreturn\u001b[39;00m \u001b[43mfunc\u001b[49m\u001b[43m(\u001b[49m\u001b[38;5;241;43m*\u001b[39;49m\u001b[43margs\u001b[49m\u001b[43m,\u001b[49m\u001b[43m \u001b[49m\u001b[38;5;241;43m*\u001b[39;49m\u001b[38;5;241;43m*\u001b[39;49m\u001b[43mkwargs\u001b[49m\u001b[43m)\u001b[49m\n",
      "File \u001b[0;32m~/.local/lib/python3.10/site-packages/pandas/util/_decorators.py:331\u001b[0m, in \u001b[0;36mdeprecate_nonkeyword_arguments.<locals>.decorate.<locals>.wrapper\u001b[0;34m(*args, **kwargs)\u001b[0m\n\u001b[1;32m    325\u001b[0m \u001b[38;5;28;01mif\u001b[39;00m \u001b[38;5;28mlen\u001b[39m(args) \u001b[38;5;241m>\u001b[39m num_allow_args:\n\u001b[1;32m    326\u001b[0m     warnings\u001b[38;5;241m.\u001b[39mwarn(\n\u001b[1;32m    327\u001b[0m         msg\u001b[38;5;241m.\u001b[39mformat(arguments\u001b[38;5;241m=\u001b[39m_format_argument_list(allow_args)),\n\u001b[1;32m    328\u001b[0m         \u001b[38;5;167;01mFutureWarning\u001b[39;00m,\n\u001b[1;32m    329\u001b[0m         stacklevel\u001b[38;5;241m=\u001b[39mfind_stack_level(),\n\u001b[1;32m    330\u001b[0m     )\n\u001b[0;32m--> 331\u001b[0m \u001b[38;5;28;01mreturn\u001b[39;00m \u001b[43mfunc\u001b[49m\u001b[43m(\u001b[49m\u001b[38;5;241;43m*\u001b[39;49m\u001b[43margs\u001b[49m\u001b[43m,\u001b[49m\u001b[43m \u001b[49m\u001b[38;5;241;43m*\u001b[39;49m\u001b[38;5;241;43m*\u001b[39;49m\u001b[43mkwargs\u001b[49m\u001b[43m)\u001b[49m\n",
      "\u001b[0;31mTypeError\u001b[0m: read_csv() got an unexpected keyword argument 'verify'"
     ]
    }
   ],
   "source": [
    "#Sortie du code :\n",
    "print(nucleaire(dep, num, nom_voie, ville, code_postal))"
   ]
  },
  {
   "cell_type": "code",
   "execution_count": null,
   "metadata": {},
   "outputs": [],
   "source": []
  }
 ],
 "metadata": {
  "kernelspec": {
   "display_name": "Python 3 (ipykernel)",
   "language": "python",
   "name": "python3"
  },
  "language_info": {
   "codemirror_mode": {
    "name": "ipython",
    "version": 3
   },
   "file_extension": ".py",
   "mimetype": "text/x-python",
   "name": "python",
   "nbconvert_exporter": "python",
   "pygments_lexer": "ipython3",
   "version": "3.10.8"
  },
  "vscode": {
   "interpreter": {
    "hash": "aee8b7b246df8f9039afb4144a1f6fd8d2ca17a180786b69acc140d282b71a49"
   }
  }
 },
 "nbformat": 4,
 "nbformat_minor": 2
}
