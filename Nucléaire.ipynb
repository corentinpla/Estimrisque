{
 "cells": [
  {
   "cell_type": "code",
   "execution_count": 11,
   "metadata": {},
   "outputs": [
    {
     "name": "stdout",
     "output_type": "stream",
     "text": [
      "Defaulting to user installation because normal site-packages is not writeable\n",
      "Requirement already satisfied: pandas in /home/gregoire/.local/lib/python3.10/site-packages (1.5.2)\n",
      "Requirement already satisfied: python-dateutil>=2.8.1 in /usr/lib/python3.10/site-packages (from pandas) (2.8.2)\n",
      "Requirement already satisfied: pytz>=2020.1 in /usr/lib/python3.10/site-packages (from pandas) (2022.6)\n",
      "Requirement already satisfied: numpy>=1.21.0 in /home/gregoire/.local/lib/python3.10/site-packages (from pandas) (1.23.5)\n",
      "Requirement already satisfied: six>=1.5 in /usr/lib/python3.10/site-packages (from python-dateutil>=2.8.1->pandas) (1.16.0)\n"
     ]
    }
   ],
   "source": [
    "!pip install pandas"
   ]
  },
  {
   "cell_type": "code",
   "execution_count": 12,
   "metadata": {},
   "outputs": [
    {
     "ename": "ModuleNotFoundError",
     "evalue": "No module named 'pandas'",
     "output_type": "error",
     "traceback": [
      "\u001b[0;31m---------------------------------------------------------------------------\u001b[0m",
      "\u001b[0;31mModuleNotFoundError\u001b[0m                       Traceback (most recent call last)",
      "Cell \u001b[0;32mIn[12], line 1\u001b[0m\n\u001b[0;32m----> 1\u001b[0m \u001b[38;5;28;01mimport\u001b[39;00m \u001b[38;5;21;01mpandas\u001b[39;00m \u001b[38;5;28;01mas\u001b[39;00m \u001b[38;5;21;01mpd\u001b[39;00m \n\u001b[1;32m      2\u001b[0m \u001b[38;5;28;01mimport\u001b[39;00m \u001b[38;5;21;01mnumpy\u001b[39;00m \u001b[38;5;28;01mas\u001b[39;00m \u001b[38;5;21;01mnp\u001b[39;00m\n",
      "\u001b[0;31mModuleNotFoundError\u001b[0m: No module named 'pandas'"
     ]
    }
   ],
   "source": [
    "import pandas as pd \n",
    "import numpy as np"
   ]
  },
  {
   "cell_type": "code",
   "execution_count": 1,
   "metadata": {},
   "outputs": [
    {
     "ename": "NameError",
     "evalue": "name 'pd' is not defined",
     "output_type": "error",
     "traceback": [
      "\u001b[0;31m---------------------------------------------------------------------------\u001b[0m",
      "\u001b[0;31mNameError\u001b[0m                                 Traceback (most recent call last)",
      "Cell \u001b[0;32mIn[1], line 2\u001b[0m\n\u001b[1;32m      1\u001b[0m \u001b[38;5;66;03m#DataFrame regroupant des informations sur les centrales nucléaires de France métropolitaine \u001b[39;00m\n\u001b[0;32m----> 2\u001b[0m centrales \u001b[38;5;241m=\u001b[39m \u001b[43mpd\u001b[49m\u001b[38;5;241m.\u001b[39mread_csv(\u001b[38;5;124m\"\u001b[39m\u001b[38;5;124m/ProjPython/DataSets/centrales_nucleaires.csv\u001b[39m\u001b[38;5;124m\"\u001b[39m,sep\u001b[38;5;241m=\u001b[39m\u001b[38;5;124m'\u001b[39m\u001b[38;5;124m,\u001b[39m\u001b[38;5;124m'\u001b[39m,encoding_errors\u001b[38;5;241m=\u001b[39m\u001b[38;5;124m'\u001b[39m\u001b[38;5;124mignore\u001b[39m\u001b[38;5;124m'\u001b[39m)\n",
      "\u001b[0;31mNameError\u001b[0m: name 'pd' is not defined"
     ]
    }
   ],
   "source": [
    "#DataFrame regroupant des informations sur les centrales nucléaires de France métropolitaine \n",
    "centrales = pd.read_csv(\"/ProjPython/DataSets/centrales_nucleaires.csv\",sep=',',encoding_errors='ignore')"
   ]
  },
  {
   "cell_type": "code",
   "execution_count": 2,
   "metadata": {},
   "outputs": [],
   "source": [
    "#Calcul de la plus petite distance à une centrale nucléaire \n",
    "def min_dist_centrales(longitude,latitude) :\n",
    "    long, lat = conversion_radians(longitude,latitude) #conversion des coordonnees en radians \n",
    "    d = np.inf\n",
    "    k = 0\n",
    "    for i in range(14) : #il y a 14 centrales nucleaires en FR \n",
    "        long_centrale, lat_centrale = conversion_radians(centrales[\"Commune long\"][i], centrales[\"Commune Lat\"][i])\n",
    "        D = 6371 * np.arccos(np.sin(lat_centrale)*np.sin(lat) + np.cos(lat_centrale)*np.cos(lat)*np.cos(long_centrale - long))\n",
    "        if D<d :\n",
    "            d = D \n",
    "            k = i\n",
    "    return(d,centrales[\"Centrale nuclaire\"][k])"
   ]
  },
  {
   "cell_type": "code",
   "execution_count": 4,
   "metadata": {},
   "outputs": [],
   "source": [
    "#Calcul du risque nucléaire \n",
    "def risque_nucleaire(longitude,latitude):\n",
    "    d_min, r = min_dist_centrales(longitude,latitude)\n",
    "    if d_min <= 5 :\n",
    "        return(5)\n",
    "    elif d_min <= 20 :\n",
    "        return(4)\n",
    "    elif d_min <= 60 :\n",
    "        return(3)\n",
    "    elif d_min <= 100 :\n",
    "        return(2)\n",
    "    else :\n",
    "        return(1) "
   ]
  },
  {
   "cell_type": "code",
   "execution_count": 5,
   "metadata": {},
   "outputs": [],
   "source": [
    "#Conversion des coordonnees GPS en radian \n",
    "def conversion_radians(longitude,latitude):\n",
    "    GPS_rad = ((longitude*np.pi)/180 , (latitude*np.pi)/180)\n",
    "    return(GPS_rad)"
   ]
  },
  {
   "cell_type": "code",
   "execution_count": 6,
   "metadata": {},
   "outputs": [],
   "source": [
    "#Entree par l'utilisateur de info sur son domicile \n",
    "dep = (input(\"Departement\"))\n",
    "num = int(input(\"Numero\"))\n",
    "nom_voie = input(\"Nom de la voie\")\n",
    "ville = input('Ville')\n",
    "code_postal = input(\"Code postal\")"
   ]
  },
  {
   "cell_type": "code",
   "execution_count": 9,
   "metadata": {},
   "outputs": [],
   "source": [
    "def nucleaire(dep,num,nom_voie,ville,code_postal):\n",
    "\n",
    "    adresses_dep = pd.read_csv(\"/Users/sophiebataille/Desktop/Projet_Python/Adresses/adresses-\"+dep+\".csv\", sep=\";\", error_bad_lines=False) #recuperation des adresses postales correspondant au département de l'utilisateur\n",
    "    \n",
    "    foyer_infos = adresses_dep[(adresses_dep[\"numero\"] == num) & (adresses_dep[\"nom_commune\"] == ville) & (adresses_dep[\"nom_voie\"] == nom_voie)] \n",
    "    foyer = foyer_infos.to_numpy()\n",
    "    foyer = foyer.tolist()\n",
    "    print(foyer) #informations sur le domicile de l'utilisateur\n",
    "\n",
    "    #Coordonnees geographiques du dommicile \n",
    "    longitude = foyer[0][12]\n",
    "    latitude = foyer[0][13]\n",
    "\n",
    "    #Centrale nucléaire la plus proche, distance associé \n",
    "    D, nearest_centrale = min_dist_centrales(longitude,latitude)\n",
    "    print(\"La centrale nucleaire la plus proche se situe à :\")\n",
    "    print(D,nearest_centrale)\n",
    "\n",
    "    #Mesure du risque nucléaire à cette adresse \n",
    "    R = risque_nucleaire(longitude,latitude)\n",
    "    print(\"Le risque nucléaire à cette adresse est de :\")\n",
    "\n",
    "    return(R)\n",
    "\n"
   ]
  },
  {
   "cell_type": "code",
   "execution_count": 10,
   "metadata": {},
   "outputs": [
    {
     "name": "stderr",
     "output_type": "stream",
     "text": [
      "/var/folders/vt/fkxw8l3d0cs7g11lypqmzxtm0000gn/T/ipykernel_6022/2938137941.py:3: FutureWarning: The error_bad_lines argument has been deprecated and will be removed in a future version. Use on_bad_lines in the future.\n",
      "\n",
      "\n",
      "  adresses_dep = pd.read_csv(\"/Users/sophiebataille/Desktop/Projet_Python/Adresses/adresses-\"+dep+\".csv\", sep=\";\", error_bad_lines=False) #recuperation des adresses postales correspondant au département de l'utilisateur\n"
     ]
    },
    {
     "name": "stdout",
     "output_type": "stream",
     "text": [
      "[['31149_1137_00023', '31149_1137', 23, nan, 'Allée de la Sambre', 31770, 31149, 'Colomiers', nan, nan, 565387.96, 6281441.26, 1.33269, 43.61923, 'bâtiment', nan, nan, 'COLOMIERS', 'ALLEE DE LA SAMBRE', 'commune', 'commune', 0, nan]]\n",
      "La centrale nucleaire la plus proche se situe à :\n",
      "67.17998342891808 Golfech\n",
      "Le risque nucléaire à cette adresse est de :\n",
      "2\n"
     ]
    },
    {
     "name": "stderr",
     "output_type": "stream",
     "text": [
      "/var/folders/vt/fkxw8l3d0cs7g11lypqmzxtm0000gn/T/ipykernel_6022/2938137941.py:3: DtypeWarning: Columns (9,16,22) have mixed types. Specify dtype option on import or set low_memory=False.\n",
      "  adresses_dep = pd.read_csv(\"/Users/sophiebataille/Desktop/Projet_Python/Adresses/adresses-\"+dep+\".csv\", sep=\";\", error_bad_lines=False) #recuperation des adresses postales correspondant au département de l'utilisateur\n"
     ]
    }
   ],
   "source": [
    "#Sortie du code :\n",
    "print(nucleaire(dep,num,nom_voie,ville,code_postal))"
   ]
  }
 ],
 "metadata": {
  "kernelspec": {
   "display_name": "Python 3 (ipykernel)",
   "language": "python",
   "name": "python3"
  },
  "language_info": {
   "codemirror_mode": {
    "name": "ipython",
    "version": 3
   },
   "file_extension": ".py",
   "mimetype": "text/x-python",
   "name": "python",
   "nbconvert_exporter": "python",
   "pygments_lexer": "ipython3",
   "version": "3.10.8"
  },
  "vscode": {
   "interpreter": {
    "hash": "aee8b7b246df8f9039afb4144a1f6fd8d2ca17a180786b69acc140d282b71a49"
   }
  }
 },
 "nbformat": 4,
 "nbformat_minor": 2
}
