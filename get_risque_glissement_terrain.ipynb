{
  "nbformat": 4,
  "nbformat_minor": 0,
  "metadata": {
    "colab": {
      "provenance": []
    },
    "kernelspec": {
      "name": "python3",
      "display_name": "Python 3"
    },
    "language_info": {
      "name": "python"
    }
  },
  "cells": [
    {
      "cell_type": "code",
      "execution_count": 3,
      "metadata": {
        "id": "gluhZdW81Ni_"
      },
      "outputs": [],
      "source": [
        "from math import radians, cos, sin, asin, sqrt\n",
        "import pandas as pd"
      ]
    },
    {
      "cell_type": "code",
      "source": [
        "\n",
        "def distance_lat_long(lat1, lat2, lon1, lon2):\n",
        "     \n",
        "    lon1 = radians(lon1)\n",
        "    lon2 = radians(lon2)\n",
        "    lat1 = radians(lat1)\n",
        "    lat2 = radians(lat2)\n",
        "      \n",
        "    # Formule de Haversine\n",
        "    dlon = lon2 - lon1\n",
        "    dlat = lat2 - lat1\n",
        "    a = sin(dlat / 2)**2 + cos(lat1) * cos(lat2) * sin(dlon / 2)**2\n",
        " \n",
        "    c = 2 * asin(sqrt(a))\n",
        "    \n",
        "    # rayon de la terre\n",
        "    r = 6371\n",
        "      \n",
        "    return(c * r)\n",
        "\n"
      ],
      "metadata": {
        "id": "DJkSoAap15pc"
      },
      "execution_count": 4,
      "outputs": []
    },
    {
      "cell_type": "code",
      "source": [
        "def event_less_10km(lat1,lon1): #evenements à moins de 10km et datant de moins de 100 ans\n",
        " \n",
        "  dico={\"distance\":[],\"date\":[]}\n",
        "\n",
        "\n",
        "\n",
        "  for k in range(len(df[\"longitudeDoublePrec\"])):\n",
        "\n",
        "    d=distance_lat_long(lat1,df[\"latitudeDoublePrec\"][k],lon1,df[\"longitudeDoublePrec\"][k])\n",
        "\n",
        "    if d<=10 :\n",
        "\n",
        "        dico[\"distance\"].append(d)\n",
        "        dico[\"date\"].append(df[\"dateDebut\"][k])\n",
        "  \n",
        "  return(dico)"
      ],
      "metadata": {
        "id": "K74uhetjIO22"
      },
      "execution_count": null,
      "outputs": []
    },
    {
      "cell_type": "code",
      "source": [
        "\n",
        "def calcul_risque(dico): #dico : celui return par event_less_10km \n",
        "\n",
        "  risque=0\n",
        "  quali_data=len(dico[\"date\"]) #proportion d'event pour lasquelles on a la date/nb total d'event\n",
        "\n",
        "  for k in range (len(dico[\"date\"])):\n",
        "    \n",
        "    if type(dico[\"date\"][k])!=str:\n",
        "\n",
        "      annee=1901\n",
        "      quali_data=quali_data-1\n",
        "\n",
        "    else : \n",
        "\n",
        "      annee=int(df[\"dateDebut\"][k][:4])\n",
        "                \n",
        "    if 1900<=annee<=2022:\n",
        "\n",
        "      risque=risque+(10-dico[\"distance\"][k])*annee\n",
        "  \n",
        "  quali_data=quali_data/len(dico[\"date\"])\n",
        "    \n",
        "  return (risque, quali_data)"
      ],
      "metadata": {
        "id": "prIyVCY33YYp"
      },
      "execution_count": null,
      "outputs": []
    }
  ]
}
