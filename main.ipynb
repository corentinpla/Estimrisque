{
 "cells": [
  {
   "cell_type": "markdown",
   "metadata": {},
   "source": [
    "# Import des packages nécessaires"
   ]
  },
  {
   "cell_type": "code",
   "execution_count": 1,
   "metadata": {},
   "outputs": [],
   "source": [
    "import pandas as pd\n",
    "import numpy as np"
   ]
  },
  {
   "cell_type": "markdown",
   "metadata": {},
   "source": [
    "# Récupération des fonctions des autres notebooks et des dataset"
   ]
  },
  {
   "cell_type": "code",
   "execution_count": 11,
   "metadata": {},
   "outputs": [
    {
     "name": "stderr",
     "output_type": "stream",
     "text": [
      "/tmp/ipykernel_2593/2628484873.py:3: FutureWarning: The error_bad_lines argument has been deprecated and will be removed in a future version. Use on_bad_lines in the future.\n",
      "\n",
      "\n",
      "  adresses_dep = pd.read_csv(\"https://adresse.data.gouv.fr/data/ban/adresses/latest/csv/adresses-\"+dep+\".csv.gz\", compression='gzip', sep=\";\", error_bad_lines=False) #recuperation des adresses postales correspondant au département de l'utilisateur\n"
     ]
    },
    {
     "name": "stdout",
     "output_type": "stream",
     "text": [
      "[['75116_1790_00036', '75116_1790', 36, nan, 'Rue Chardon-Lagache', 75016, 75116, 'Paris 16e Arrondissement', nan, nan, 646093.59, 6860685.18, 2.265485, 48.843957, nan, nan, nan, 'PARIS 16', 'RUE CHARDON LAGACHE', 'commune', 'commune', 0, nan]]\n",
      "La centrale nucleaire la plus proche se situe à :\n",
      "98.59058344156782 Nogent\n",
      "Le risque nucléaire à cette adresse est de :\n",
      "2\n"
     ]
    }
   ],
   "source": [
    "#%run INSEE.ipynb #fonctionne\n",
    "%run Nucléaire.ipynb #fonctionne mais faut vraiment faire un truc pour qu'il trouve l'addresse plus facilement\n",
    "%run get_risque_glissement_terrain.ipynb #fonctionne\n",
    "#%run Stats_Nucleaire.ipynb #checked et marche bien\n",
    "%run get_risque_inondations.ipynb #Marche bien maintenant\n",
    "%run get_secheresse.ipynb #Marche bien\n",
    "%run Secheresse.ipynb #manque le /content"
   ]
  },
  {
   "cell_type": "markdown",
   "metadata": {},
   "source": [
    "# Nucléaire "
   ]
  },
  {
   "cell_type": "markdown",
   "metadata": {},
   "source": [
    "### Récupération des tables de données"
   ]
  },
  {
   "cell_type": "code",
   "execution_count": null,
   "metadata": {},
   "outputs": [],
   "source": [
    "centrales = pd.read_csv(\"DataSets/centrales_nucleaires.csv\",sep=',',encoding_errors='ignore')"
   ]
  },
  {
   "cell_type": "markdown",
   "metadata": {},
   "source": [
    "# Inondations"
   ]
  },
  {
   "cell_type": "markdown",
   "metadata": {},
   "source": [
    "### Récupération des tables de données"
   ]
  },
  {
   "cell_type": "code",
   "execution_count": null,
   "metadata": {},
   "outputs": [],
   "source": [
    "df_risque_inond=gpd.read_file(\"DataSets/tri_2020_sig_di/n_carte_inond_s.shp\") "
   ]
  },
  {
   "cell_type": "markdown",
   "metadata": {},
   "source": [
    "# Glissement de terrains"
   ]
  },
  {
   "cell_type": "markdown",
   "metadata": {},
   "source": [
    "### Récupération des tables de données"
   ]
  },
  {
   "cell_type": "code",
   "execution_count": null,
   "metadata": {},
   "outputs": [],
   "source": []
  },
  {
   "cell_type": "markdown",
   "metadata": {},
   "source": [
    "# Secheresse"
   ]
  },
  {
   "cell_type": "markdown",
   "metadata": {},
   "source": [
    "### Récupération des tables de données"
   ]
  },
  {
   "cell_type": "code",
   "execution_count": null,
   "metadata": {},
   "outputs": [],
   "source": [
    "df_secheresse=gpd.read_file(\"DataSets/AleaRG31_L93/AleaRG31_L93.shp\") "
   ]
  },
  {
   "cell_type": "markdown",
   "metadata": {},
   "source": [
    "# Pollution"
   ]
  },
  {
   "cell_type": "markdown",
   "metadata": {},
   "source": [
    "### Récupération des tables de données"
   ]
  },
  {
   "cell_type": "code",
   "execution_count": null,
   "metadata": {},
   "outputs": [],
   "source": []
  },
  {
   "cell_type": "markdown",
   "metadata": {},
   "source": [
    "# Temperature"
   ]
  },
  {
   "cell_type": "markdown",
   "metadata": {},
   "source": [
    "### Récupération des tables de données"
   ]
  },
  {
   "cell_type": "code",
   "execution_count": null,
   "metadata": {},
   "outputs": [],
   "source": []
  },
  {
   "cell_type": "markdown",
   "metadata": {},
   "source": [
    "# Code principal"
   ]
  },
  {
   "cell_type": "code",
   "execution_count": 17,
   "metadata": {},
   "outputs": [
    {
     "name": "stdout",
     "output_type": "stream",
     "text": [
      "Departement75\n",
      "Numero36\n",
      "Nom de la voieRue Chardon-Lagache\n",
      "VilleParis 16e Arrondissement\n",
      "Code postal75016\n"
     ]
    }
   ],
   "source": [
    "#Entree par l'utilisateur de info sur son domicile \n",
    "dep = (input(\"Departement\"))\n",
    "num = int(input(\"Numero\"))\n",
    "nom_voie = input(\"Nom de la voie\")\n",
    "ville = input('Ville')\n",
    "code_postal = input(\"Code postal\")"
   ]
  },
  {
   "cell_type": "code",
   "execution_count": 24,
   "metadata": {},
   "outputs": [],
   "source": [
    "def addresse_to_GPS(dep, num, nom_voie, ville, code_postal):\n",
    "    adresses_dep = pd.read_csv(\"https://adresse.data.gouv.fr/data/ban/adresses/latest/csv/adresses-\"+dep+\".csv.gz\", compression='gzip', sep=\";\", error_bad_lines=False) #recuperation des adresses postales correspondant au département de l'utilisateur\n",
    "    \n",
    "    foyer_infos = adresses_dep[(adresses_dep[\"numero\"] == num) & (adresses_dep[\"nom_commune\"] == ville) & (adresses_dep[\"nom_voie\"] == nom_voie)] \n",
    "    foyer = foyer_infos.to_numpy()\n",
    "    foyer = foyer.tolist()\n",
    "    print(foyer) \n",
    "\n",
    "    \n",
    "    longitude = foyer[0][12]\n",
    "    latitude = foyer[0][13]\n",
    "\n",
    "    return(longitude, latitude)"
   ]
  },
  {
   "cell_type": "code",
   "execution_count": 25,
   "metadata": {},
   "outputs": [
    {
     "name": "stderr",
     "output_type": "stream",
     "text": [
      "/tmp/ipykernel_2593/2812322009.py:2: FutureWarning: The error_bad_lines argument has been deprecated and will be removed in a future version. Use on_bad_lines in the future.\n",
      "\n",
      "\n",
      "  adresses_dep = pd.read_csv(\"https://adresse.data.gouv.fr/data/ban/adresses/latest/csv/adresses-\"+dep+\".csv.gz\", compression='gzip', sep=\";\", error_bad_lines=False) #recuperation des adresses postales correspondant au département de l'utilisateur\n"
     ]
    },
    {
     "name": "stdout",
     "output_type": "stream",
     "text": [
      "[['75116_1790_00036', '75116_1790', 36, nan, 'Rue Chardon-Lagache', 75016, 75116, 'Paris 16e Arrondissement', nan, nan, 646093.59, 6860685.18, 2.265485, 48.843957, nan, nan, nan, 'PARIS 16', 'RUE CHARDON LAGACHE', 'commune', 'commune', 0, nan]]\n"
     ]
    },
    {
     "data": {
      "text/plain": [
       "(2.265485, 48.843957)"
      ]
     },
     "execution_count": 25,
     "metadata": {},
     "output_type": "execute_result"
    }
   ],
   "source": [
    "addresse_to_GPS(dep, num, nom_voie, ville, code_postal)"
   ]
  },
  {
   "cell_type": "code",
   "execution_count": 14,
   "metadata": {},
   "outputs": [],
   "source": [
    "def final_score(dep, num, nom_voie, ville, code_postal):\n",
    "    rNu = Nucléaire.nucleaire(dep, num, nom_voie, ville, code_postal)\n",
    "    rIn = Inondation.adresse_to_risque(dep,num,nom_voie,ville,code_postal)\n",
    "    rGliTer = \n",
    "    return(nu)"
   ]
  },
  {
   "cell_type": "code",
   "execution_count": 15,
   "metadata": {},
   "outputs": [
    {
     "name": "stderr",
     "output_type": "stream",
     "text": [
      "/tmp/ipykernel_2593/2628484873.py:3: FutureWarning: The error_bad_lines argument has been deprecated and will be removed in a future version. Use on_bad_lines in the future.\n",
      "\n",
      "\n",
      "  adresses_dep = pd.read_csv(\"https://adresse.data.gouv.fr/data/ban/adresses/latest/csv/adresses-\"+dep+\".csv.gz\", compression='gzip', sep=\";\", error_bad_lines=False) #recuperation des adresses postales correspondant au département de l'utilisateur\n"
     ]
    },
    {
     "name": "stdout",
     "output_type": "stream",
     "text": [
      "[['75116_1790_00036', '75116_1790', 36, nan, 'Rue Chardon-Lagache', 75016, 75116, 'Paris 16e Arrondissement', nan, nan, 646093.59, 6860685.18, 2.265485, 48.843957, nan, nan, nan, 'PARIS 16', 'RUE CHARDON LAGACHE', 'commune', 'commune', 0, nan]]\n",
      "La centrale nucleaire la plus proche se situe à :\n",
      "98.59058344156782 Nogent\n",
      "Le risque nucléaire à cette adresse est de :\n"
     ]
    },
    {
     "data": {
      "text/plain": [
       "2"
      ]
     },
     "execution_count": 15,
     "metadata": {},
     "output_type": "execute_result"
    }
   ],
   "source": [
    "final_score(dep, num, nom_voie, ville, code_postal)"
   ]
  },
  {
   "cell_type": "code",
   "execution_count": null,
   "metadata": {},
   "outputs": [],
   "source": []
  }
 ],
 "metadata": {
  "colab": {
   "provenance": []
  },
  "kernelspec": {
   "display_name": "Python 3 (ipykernel)",
   "language": "python",
   "name": "python3"
  },
  "language_info": {
   "codemirror_mode": {
    "name": "ipython",
    "version": 3
   },
   "file_extension": ".py",
   "mimetype": "text/x-python",
   "name": "python",
   "nbconvert_exporter": "python",
   "pygments_lexer": "ipython3",
   "version": "3.10.8"
  }
 },
 "nbformat": 4,
 "nbformat_minor": 1
}
