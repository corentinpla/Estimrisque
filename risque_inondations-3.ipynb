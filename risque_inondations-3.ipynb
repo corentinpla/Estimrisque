{
  "cells": [
    {
      "cell_type": "code",
      "execution_count": null,
      "metadata": {
        "id": "5yrHH7CyFTgo"
      },
      "outputs": [],
      "source": [
        "!pip install geopandas"
      ]
    },
    {
      "cell_type": "code",
      "execution_count": 2,
      "metadata": {
        "id": "lezs_i-vFcMU"
      },
      "outputs": [],
      "source": [
        "import pandas as pd\n",
        "import pandas as pd\n",
        "import geopandas as gpd \n",
        "import numpy as np \n",
        "import matplotlib.pyplot as plt"
      ]
    },
    {
      "cell_type": "code",
      "execution_count": null,
      "metadata": {
        "id": "JP5qVNMjFe16"
      },
      "outputs": [],
      "source": [
        "!pip install --upgrade botocore==1.23.26  #Sur colab, sinon bug\n",
        "!pip install --upgrade urllib3==1.22.0 #Sur colab, sinon bug\n",
        "!pip install py7zr #Sur colab, sinon bug\n",
        "!pip install s3fs #Sur colab, sinon bug\n",
        "!git clone https://github.com/InseeFrLab/cartogether.git\n",
        "%cd ./cartogether\n",
        "!pip install -r requirements.txt\n",
        "!pip install ."
      ]
    },
    {
      "cell_type": "code",
      "execution_count": 4,
      "metadata": {
        "id": "7Uf0VCYVK8kz"
      },
      "outputs": [],
      "source": [
        "from shapely.geometry import Point\n",
        "from shapely.geometry.polygon import Polygon"
      ]
    },
    {
      "cell_type": "code",
      "execution_count": 45,
      "metadata": {
        "colab": {
          "base_uri": "https://localhost:8080/"
        },
        "id": "wXpzWWtXHWFY",
        "outputId": "648fc92d-f060-4c73-c2c2-fc9f129e308d"
      },
      "outputs": [
        {
          "name": "stderr",
          "output_type": "stream",
          "text": [
            "/usr/local/lib/python3.8/dist-packages/IPython/core/interactiveshell.py:3326: DtypeWarning: Columns (16) have mixed types.Specify dtype option on import or set low_memory=False.\n",
            "  exec(code_obj, self.user_global_ns, self.user_ns)\n"
          ]
        }
      ],
      "source": [
        "#Base adresses -> coordonnées GPS\n",
        "df_adresse=pd.read_csv('/content/adresses-13.csv', sep =\";\") "
      ]
    },
    {
      "cell_type": "code",
      "execution_count": 46,
      "metadata": {
        "colab": {
          "base_uri": "https://localhost:8080/",
          "height": 467
        },
        "id": "aLsWl8ao2wa5",
        "outputId": "f881229f-a115-4ab4-a3e5-38e02727f763"
      },
      "outputs": [
        {
          "data": {
            "text/html": [
              "\n",
              "  <div id=\"df-8116b9a8-a869-475c-8d9c-4753ed7407a3\">\n",
              "    <div class=\"colab-df-container\">\n",
              "      <div>\n",
              "<style scoped>\n",
              "    .dataframe tbody tr th:only-of-type {\n",
              "        vertical-align: middle;\n",
              "    }\n",
              "\n",
              "    .dataframe tbody tr th {\n",
              "        vertical-align: top;\n",
              "    }\n",
              "\n",
              "    .dataframe thead th {\n",
              "        text-align: right;\n",
              "    }\n",
              "</style>\n",
              "<table border=\"1\" class=\"dataframe\">\n",
              "  <thead>\n",
              "    <tr style=\"text-align: right;\">\n",
              "      <th></th>\n",
              "      <th>id</th>\n",
              "      <th>id_fantoir</th>\n",
              "      <th>numero</th>\n",
              "      <th>rep</th>\n",
              "      <th>nom_voie</th>\n",
              "      <th>code_postal</th>\n",
              "      <th>code_insee</th>\n",
              "      <th>nom_commune</th>\n",
              "      <th>code_insee_ancienne_commune</th>\n",
              "      <th>nom_ancienne_commune</th>\n",
              "      <th>...</th>\n",
              "      <th>lat</th>\n",
              "      <th>type_position</th>\n",
              "      <th>alias</th>\n",
              "      <th>nom_ld</th>\n",
              "      <th>libelle_acheminement</th>\n",
              "      <th>nom_afnor</th>\n",
              "      <th>source_position</th>\n",
              "      <th>source_nom_voie</th>\n",
              "      <th>certification_commune</th>\n",
              "      <th>cad_parcelles</th>\n",
              "    </tr>\n",
              "  </thead>\n",
              "  <tbody>\n",
              "    <tr>\n",
              "      <th>0</th>\n",
              "      <td>13003_snil1g_00003</td>\n",
              "      <td>NaN</td>\n",
              "      <td>3</td>\n",
              "      <td>NaN</td>\n",
              "      <td>Quartier sous Ville</td>\n",
              "      <td>13980</td>\n",
              "      <td>13003</td>\n",
              "      <td>Alleins</td>\n",
              "      <td>NaN</td>\n",
              "      <td>NaN</td>\n",
              "      <td>...</td>\n",
              "      <td>43.706169</td>\n",
              "      <td>segment</td>\n",
              "      <td>NaN</td>\n",
              "      <td>NaN</td>\n",
              "      <td>ALLEINS</td>\n",
              "      <td>QUARTIER SOUS VILLE</td>\n",
              "      <td>inconnue</td>\n",
              "      <td>inconnue</td>\n",
              "      <td>0</td>\n",
              "      <td>NaN</td>\n",
              "    </tr>\n",
              "    <tr>\n",
              "      <th>1</th>\n",
              "      <td>13003_snil1g_00012</td>\n",
              "      <td>NaN</td>\n",
              "      <td>12</td>\n",
              "      <td>NaN</td>\n",
              "      <td>Quartier sous Ville</td>\n",
              "      <td>13980</td>\n",
              "      <td>13003</td>\n",
              "      <td>Alleins</td>\n",
              "      <td>NaN</td>\n",
              "      <td>NaN</td>\n",
              "      <td>...</td>\n",
              "      <td>43.706076</td>\n",
              "      <td>segment</td>\n",
              "      <td>NaN</td>\n",
              "      <td>NaN</td>\n",
              "      <td>ALLEINS</td>\n",
              "      <td>QUARTIER SOUS VILLE</td>\n",
              "      <td>inconnue</td>\n",
              "      <td>inconnue</td>\n",
              "      <td>0</td>\n",
              "      <td>NaN</td>\n",
              "    </tr>\n",
              "    <tr>\n",
              "      <th>2</th>\n",
              "      <td>13003_snil1g_00014</td>\n",
              "      <td>NaN</td>\n",
              "      <td>14</td>\n",
              "      <td>NaN</td>\n",
              "      <td>Quartier sous Ville</td>\n",
              "      <td>13980</td>\n",
              "      <td>13003</td>\n",
              "      <td>Alleins</td>\n",
              "      <td>NaN</td>\n",
              "      <td>NaN</td>\n",
              "      <td>...</td>\n",
              "      <td>43.706076</td>\n",
              "      <td>segment</td>\n",
              "      <td>NaN</td>\n",
              "      <td>NaN</td>\n",
              "      <td>ALLEINS</td>\n",
              "      <td>QUARTIER SOUS VILLE</td>\n",
              "      <td>inconnue</td>\n",
              "      <td>inconnue</td>\n",
              "      <td>0</td>\n",
              "      <td>NaN</td>\n",
              "    </tr>\n",
              "    <tr>\n",
              "      <th>3</th>\n",
              "      <td>13003_snil1g_00270</td>\n",
              "      <td>NaN</td>\n",
              "      <td>270</td>\n",
              "      <td>NaN</td>\n",
              "      <td>Quartier sous Ville</td>\n",
              "      <td>13980</td>\n",
              "      <td>13003</td>\n",
              "      <td>Alleins</td>\n",
              "      <td>NaN</td>\n",
              "      <td>NaN</td>\n",
              "      <td>...</td>\n",
              "      <td>43.706632</td>\n",
              "      <td>segment</td>\n",
              "      <td>NaN</td>\n",
              "      <td>NaN</td>\n",
              "      <td>ALLEINS</td>\n",
              "      <td>QUARTIER SOUS VILLE</td>\n",
              "      <td>inconnue</td>\n",
              "      <td>inconnue</td>\n",
              "      <td>0</td>\n",
              "      <td>NaN</td>\n",
              "    </tr>\n",
              "    <tr>\n",
              "      <th>4</th>\n",
              "      <td>13003_snil1g_00271</td>\n",
              "      <td>NaN</td>\n",
              "      <td>271</td>\n",
              "      <td>NaN</td>\n",
              "      <td>Quartier sous Ville</td>\n",
              "      <td>13980</td>\n",
              "      <td>13003</td>\n",
              "      <td>Alleins</td>\n",
              "      <td>NaN</td>\n",
              "      <td>NaN</td>\n",
              "      <td>...</td>\n",
              "      <td>43.706645</td>\n",
              "      <td>segment</td>\n",
              "      <td>NaN</td>\n",
              "      <td>NaN</td>\n",
              "      <td>ALLEINS</td>\n",
              "      <td>QUARTIER SOUS VILLE</td>\n",
              "      <td>inconnue</td>\n",
              "      <td>inconnue</td>\n",
              "      <td>0</td>\n",
              "      <td>NaN</td>\n",
              "    </tr>\n",
              "  </tbody>\n",
              "</table>\n",
              "<p>5 rows × 23 columns</p>\n",
              "</div>\n",
              "      <button class=\"colab-df-convert\" onclick=\"convertToInteractive('df-8116b9a8-a869-475c-8d9c-4753ed7407a3')\"\n",
              "              title=\"Convert this dataframe to an interactive table.\"\n",
              "              style=\"display:none;\">\n",
              "        \n",
              "  <svg xmlns=\"http://www.w3.org/2000/svg\" height=\"24px\"viewBox=\"0 0 24 24\"\n",
              "       width=\"24px\">\n",
              "    <path d=\"M0 0h24v24H0V0z\" fill=\"none\"/>\n",
              "    <path d=\"M18.56 5.44l.94 2.06.94-2.06 2.06-.94-2.06-.94-.94-2.06-.94 2.06-2.06.94zm-11 1L8.5 8.5l.94-2.06 2.06-.94-2.06-.94L8.5 2.5l-.94 2.06-2.06.94zm10 10l.94 2.06.94-2.06 2.06-.94-2.06-.94-.94-2.06-.94 2.06-2.06.94z\"/><path d=\"M17.41 7.96l-1.37-1.37c-.4-.4-.92-.59-1.43-.59-.52 0-1.04.2-1.43.59L10.3 9.45l-7.72 7.72c-.78.78-.78 2.05 0 2.83L4 21.41c.39.39.9.59 1.41.59.51 0 1.02-.2 1.41-.59l7.78-7.78 2.81-2.81c.8-.78.8-2.07 0-2.86zM5.41 20L4 18.59l7.72-7.72 1.47 1.35L5.41 20z\"/>\n",
              "  </svg>\n",
              "      </button>\n",
              "      \n",
              "  <style>\n",
              "    .colab-df-container {\n",
              "      display:flex;\n",
              "      flex-wrap:wrap;\n",
              "      gap: 12px;\n",
              "    }\n",
              "\n",
              "    .colab-df-convert {\n",
              "      background-color: #E8F0FE;\n",
              "      border: none;\n",
              "      border-radius: 50%;\n",
              "      cursor: pointer;\n",
              "      display: none;\n",
              "      fill: #1967D2;\n",
              "      height: 32px;\n",
              "      padding: 0 0 0 0;\n",
              "      width: 32px;\n",
              "    }\n",
              "\n",
              "    .colab-df-convert:hover {\n",
              "      background-color: #E2EBFA;\n",
              "      box-shadow: 0px 1px 2px rgba(60, 64, 67, 0.3), 0px 1px 3px 1px rgba(60, 64, 67, 0.15);\n",
              "      fill: #174EA6;\n",
              "    }\n",
              "\n",
              "    [theme=dark] .colab-df-convert {\n",
              "      background-color: #3B4455;\n",
              "      fill: #D2E3FC;\n",
              "    }\n",
              "\n",
              "    [theme=dark] .colab-df-convert:hover {\n",
              "      background-color: #434B5C;\n",
              "      box-shadow: 0px 1px 3px 1px rgba(0, 0, 0, 0.15);\n",
              "      filter: drop-shadow(0px 1px 2px rgba(0, 0, 0, 0.3));\n",
              "      fill: #FFFFFF;\n",
              "    }\n",
              "  </style>\n",
              "\n",
              "      <script>\n",
              "        const buttonEl =\n",
              "          document.querySelector('#df-8116b9a8-a869-475c-8d9c-4753ed7407a3 button.colab-df-convert');\n",
              "        buttonEl.style.display =\n",
              "          google.colab.kernel.accessAllowed ? 'block' : 'none';\n",
              "\n",
              "        async function convertToInteractive(key) {\n",
              "          const element = document.querySelector('#df-8116b9a8-a869-475c-8d9c-4753ed7407a3');\n",
              "          const dataTable =\n",
              "            await google.colab.kernel.invokeFunction('convertToInteractive',\n",
              "                                                     [key], {});\n",
              "          if (!dataTable) return;\n",
              "\n",
              "          const docLinkHtml = 'Like what you see? Visit the ' +\n",
              "            '<a target=\"_blank\" href=https://colab.research.google.com/notebooks/data_table.ipynb>data table notebook</a>'\n",
              "            + ' to learn more about interactive tables.';\n",
              "          element.innerHTML = '';\n",
              "          dataTable['output_type'] = 'display_data';\n",
              "          await google.colab.output.renderOutput(dataTable, element);\n",
              "          const docLink = document.createElement('div');\n",
              "          docLink.innerHTML = docLinkHtml;\n",
              "          element.appendChild(docLink);\n",
              "        }\n",
              "      </script>\n",
              "    </div>\n",
              "  </div>\n",
              "  "
            ],
            "text/plain": [
              "                   id id_fantoir  numero  rep             nom_voie  \\\n",
              "0  13003_snil1g_00003        NaN       3  NaN  Quartier sous Ville   \n",
              "1  13003_snil1g_00012        NaN      12  NaN  Quartier sous Ville   \n",
              "2  13003_snil1g_00014        NaN      14  NaN  Quartier sous Ville   \n",
              "3  13003_snil1g_00270        NaN     270  NaN  Quartier sous Ville   \n",
              "4  13003_snil1g_00271        NaN     271  NaN  Quartier sous Ville   \n",
              "\n",
              "   code_postal  code_insee nom_commune  code_insee_ancienne_commune  \\\n",
              "0        13980       13003     Alleins                          NaN   \n",
              "1        13980       13003     Alleins                          NaN   \n",
              "2        13980       13003     Alleins                          NaN   \n",
              "3        13980       13003     Alleins                          NaN   \n",
              "4        13980       13003     Alleins                          NaN   \n",
              "\n",
              "   nom_ancienne_commune  ...        lat  type_position  alias  nom_ld  \\\n",
              "0                   NaN  ...  43.706169        segment    NaN     NaN   \n",
              "1                   NaN  ...  43.706076        segment    NaN     NaN   \n",
              "2                   NaN  ...  43.706076        segment    NaN     NaN   \n",
              "3                   NaN  ...  43.706632        segment    NaN     NaN   \n",
              "4                   NaN  ...  43.706645        segment    NaN     NaN   \n",
              "\n",
              "  libelle_acheminement            nom_afnor source_position source_nom_voie  \\\n",
              "0              ALLEINS  QUARTIER SOUS VILLE        inconnue        inconnue   \n",
              "1              ALLEINS  QUARTIER SOUS VILLE        inconnue        inconnue   \n",
              "2              ALLEINS  QUARTIER SOUS VILLE        inconnue        inconnue   \n",
              "3              ALLEINS  QUARTIER SOUS VILLE        inconnue        inconnue   \n",
              "4              ALLEINS  QUARTIER SOUS VILLE        inconnue        inconnue   \n",
              "\n",
              "  certification_commune cad_parcelles  \n",
              "0                     0           NaN  \n",
              "1                     0           NaN  \n",
              "2                     0           NaN  \n",
              "3                     0           NaN  \n",
              "4                     0           NaN  \n",
              "\n",
              "[5 rows x 23 columns]"
            ]
          },
          "execution_count": 46,
          "metadata": {},
          "output_type": "execute_result"
        }
      ],
      "source": [
        "df_adresse.head()"
      ]
    },
    {
      "cell_type": "code",
      "execution_count": 36,
      "metadata": {
        "id": "n0tdLp3_KLKu"
      },
      "outputs": [],
      "source": [
        "#Base risque d'inondations niveau national\n",
        "df_risque_inond=gpd.read_file(\"/content/n_carte_inond_s.shp\") "
      ]
    },
    {
      "cell_type": "code",
      "execution_count": 39,
      "metadata": {
        "colab": {
          "base_uri": "https://localhost:8080/"
        },
        "id": "NFoRQ4BN9RD4",
        "outputId": "9090f8ed-2e0f-47ea-ac73-76c46bd0cefc"
      },
      "outputs": [
        {
          "data": {
            "text/plain": [
              "0            None\n",
              "1           01For\n",
              "3           02Moy\n",
              "6           04Fai\n",
              "10     04Faicc_ct\n",
              "11       03Mcc_ct\n",
              "50          03Mcc\n",
              "138    01Forcc_ct\n",
              "Name: scenario, dtype: object"
            ]
          },
          "execution_count": 39,
          "metadata": {},
          "output_type": "execute_result"
        }
      ],
      "source": [
        "df_risque_inond[\"scenario\"].drop_duplicates()"
      ]
    },
    {
      "cell_type": "code",
      "execution_count": 40,
      "metadata": {
        "id": "xa7jrQ_EyvEq"
      },
      "outputs": [],
      "source": [
        "def adresse_to_geometry_bis(dep,num,nom_voie,ville,code_postal):\n",
        "  lon =df_adresse[(df_adresse[\"numero\"] == num) & (df_adresse[\"nom_commune\"] == ville) & (df_adresse[\"nom_voie\"] == nom_voie)][\"lon\"]\n",
        "  lat=df_adresse[(df_adresse[\"numero\"] == num) & (df_adresse[\"nom_commune\"] == ville) & (df_adresse[\"nom_voie\"] == nom_voie)][\"lat\"]\n",
        "  return(Point(lon,lat))"
      ]
    },
    {
      "cell_type": "code",
      "execution_count": 41,
      "metadata": {
        "id": "zdQ-UwYsJKq4"
      },
      "outputs": [],
      "source": [
        "#Fonction geometry ->risque \n",
        "def risque(geometry,df_risque_inond):\n",
        "  risque=[]\n",
        "  for k in range(1,len(df_risque_inond[\"geometry\"])):\n",
        "    if df_risque_inond[\"geometry\"][k].contains(geometry):\n",
        "      risque.append(df_risque_inond[\"scenario\"][k])\n",
        "  \n",
        "  if len(risque)==0:\n",
        "    return(3)\n",
        "  \n",
        "  elif risque[0]==\"04Faicc_ct\" or risque[0]==\"04Fai\":\n",
        "    return(6)\n",
        "\n",
        "  elif risque[0]==\"03Mcc_ct\" or risque[0]==\"03Mcc\":\n",
        "    return(8)\n",
        "  \n",
        "  elif risque[0]==\"02Moy\":\n",
        "    return(12)\n",
        "  \n",
        "  else : \n",
        "    return(18)\n",
        "  \n"
      ]
    },
    {
      "cell_type": "code",
      "execution_count": 42,
      "metadata": {
        "id": "JbkrUu2dUWwx"
      },
      "outputs": [],
      "source": [
        "#Fonction finale\n",
        "def adresse_to_risque(dep,num,nom_voie,ville,code_postal,df_risque_inond):\n",
        "  return(risque(adresse_to_geometry_bis(dep,num,nom_voie,ville,code_postal),df_risque_inond))\n",
        "\n"
      ]
    },
    {
      "cell_type": "code",
      "execution_count": 47,
      "metadata": {
        "colab": {
          "base_uri": "https://localhost:8080/"
        },
        "id": "A3TZHc2GFVHG",
        "outputId": "4cba3aab-0c92-4cdc-fcf9-577ee8b67b25"
      },
      "outputs": [
        {
          "data": {
            "text/plain": [
              "3"
            ]
          },
          "execution_count": 47,
          "metadata": {},
          "output_type": "execute_result"
        }
      ],
      "source": [
        "adresse_to_risque(\"13\",3,\"Quartier sous Ville\",\"Alleins\",13980,df_risque_inond)"
      ]
    }
  ],
  "metadata": {
    "colab": {
      "provenance": []
    },
    "kernelspec": {
      "display_name": "Python 3.11.0 64-bit",
      "language": "python",
      "name": "python3"
    },
    "language_info": {
      "name": "python",
      "version": "3.11.0"
    },
    "vscode": {
      "interpreter": {
        "hash": "aee8b7b246df8f9039afb4144a1f6fd8d2ca17a180786b69acc140d282b71a49"
      }
    }
  },
  "nbformat": 4,
  "nbformat_minor": 0
}
