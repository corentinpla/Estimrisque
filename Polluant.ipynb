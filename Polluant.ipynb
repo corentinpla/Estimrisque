{
 "cells": [
  {
   "cell_type": "code",
   "execution_count": 19,
   "id": "f5f03b63",
   "metadata": {},
   "outputs": [],
   "source": [
    "import pandas as pd\n",
    "import numpy as np\n",
    "from math import *"
   ]
  },
  {
   "cell_type": "code",
   "execution_count": 20,
   "id": "6c1187ee",
   "metadata": {},
   "outputs": [],
   "source": [
    "df_polPM10 = pd.read_csv(\"/home/gregoire/Téléchargements/Loire atlantique/PM10.csv\", sep = \";\")\n",
    "df_polSO2 = pd.read_csv(\"/home/gregoire/Téléchargements/Loire atlantique/SO2.csv\", sep = \";\")\n",
    "df_polCO = pd.read_csv(\"/home/gregoire/Téléchargements/Loire atlantique/CO.csv\", sep = \";\")"
   ]
  },
  {
   "cell_type": "code",
   "execution_count": 21,
   "id": "7daa9c56",
   "metadata": {},
   "outputs": [
    {
     "data": {
      "text/plain": [
       "'FR23068'"
      ]
     },
     "execution_count": 21,
     "metadata": {},
     "output_type": "execute_result"
    }
   ],
   "source": [
    "df_polPM10[\"code site\"][0]"
   ]
  },
  {
   "cell_type": "code",
   "execution_count": 22,
   "id": "f7be2e66",
   "metadata": {},
   "outputs": [],
   "source": [
    "def distance_lat_long(lat1, lat2, lon1, lon2):\n",
    "     \n",
    "    lon1 = radians(lon1)\n",
    "    lon2 = radians(lon2)\n",
    "    lat1 = radians(lat1)\n",
    "    lat2 = radians(lat2)\n",
    "      \n",
    "    # Formule de Haversine\n",
    "    dlon = lon2 - lon1\n",
    "    dlat = lat2 - lat1\n",
    "    a = sin(dlat / 2)**2 + cos(lat1) * cos(lat2) * sin(dlon / 2)**2\n",
    " \n",
    "    c = 2 * asin(sqrt(a))\n",
    "    \n",
    "    # rayon de la terre\n",
    "    r = 6371\n",
    "      \n",
    "    return(c * r)\n"
   ]
  },
  {
   "cell_type": "code",
   "execution_count": 62,
   "id": "772e3d44",
   "metadata": {},
   "outputs": [],
   "source": [
    "def site_polluant_plus_proche(lat, long, df):\n",
    "    acc =df[\"code site\"][0]\n",
    "    d = distance_lat_long(lat, long, df[\"Latitude\"][0], df[\"Longitude\"][0])\n",
    "    val = df[\"valeur\"][0]\n",
    "    n = len(df)\n",
    "    for i in range(n):\n",
    "        d2 = distance_lat_long(lat, long, df[\"Latitude\"][i], df[\"Longitude\"][i])\n",
    "        if d2 < d:\n",
    "            acc = df[\"code site\"][i]\n",
    "            d = d2\n",
    "            val = df[\"valeur brute\"][i]\n",
    "    return(acc, d2, val)"
   ]
  },
  {
   "cell_type": "code",
   "execution_count": 63,
   "id": "0a5a2ec8",
   "metadata": {},
   "outputs": [
    {
     "data": {
      "text/plain": [
       "('FR23140', 7191.685294274419, 0.0)"
      ]
     },
     "execution_count": 63,
     "metadata": {},
     "output_type": "execute_result"
    }
   ],
   "source": [
    "site_polluant_plus_proche(-1.546307, 47.214242, df_polCO)"
   ]
  },
  {
   "cell_type": "code",
   "execution_count": 64,
   "id": "27d2f2ff",
   "metadata": {},
   "outputs": [],
   "source": [
    "def risque_polution(lat, long):\n",
    "    sCO, dCO, valCO = site_polluant_plus_proche(lat, long, df_polCO)\n",
    "    sSO2, dSO2, valSO2 = site_polluant_plus_proche(lat, long, df_polSO2)\n",
    "    sPM10, dPM10, valPM10 = site_polluant_plus_proche(lat, long, df_polPM10)\n",
    "    \n",
    "    if valPM10 < 5:\n",
    "        risPM10 = 0\n",
    "    elif 5 <= valPM10 and valPM10 < 10:\n",
    "        risPM10 = 2\n",
    "    elif 10 <= valPM10 and valPM10 < 20:\n",
    "        risPM10 = 4\n",
    "    elif 20 <= valPM10 and valPM10 < 30:\n",
    "        risPM10 = 5\n",
    "    else:\n",
    "        risPM10 = 7\n",
    "        \n",
    "    if valCO < 0.01:\n",
    "        risCO = 0\n",
    "    elif 0.01 <= valCO and valCO < 0.3:\n",
    "        risCO = 2\n",
    "    elif 0.3 <= valCO and valCO < 0.7:\n",
    "        risCO = 4\n",
    "    elif 0.7 <= valCO and valCO < 1.2:\n",
    "        risCO = 5\n",
    "    else:\n",
    "        risCO = 6\n",
    "        \n",
    "    \n",
    "    if valSO2 < 1:\n",
    "        risSO2 = 0\n",
    "    elif 1 <= valSO2 and valSO2 < 5:\n",
    "        risCO = 2\n",
    "    elif 5 <= valSO2 and valSO2 < 8:\n",
    "        risCO = 4\n",
    "    elif 8 <= valSO2 and valSO2 < 15:\n",
    "        risSO2 = 5\n",
    "    else:\n",
    "        risSO2 = 7\n",
    "        \n",
    "    return(risSO2 + risCO + risPM10, risSO2, risCO, risPM10)"
   ]
  },
  {
   "cell_type": "code",
   "execution_count": 65,
   "id": "f273af67",
   "metadata": {},
   "outputs": [
    {
     "data": {
      "text/plain": [
       "(4, 0, 0, 4)"
      ]
     },
     "execution_count": 65,
     "metadata": {},
     "output_type": "execute_result"
    }
   ],
   "source": [
    "risque_polution(-1.546307, 47.214242)"
   ]
  },
  {
   "cell_type": "code",
   "execution_count": null,
   "id": "9956af6e",
   "metadata": {},
   "outputs": [],
   "source": []
  }
 ],
 "metadata": {
  "kernelspec": {
   "display_name": "Python 3 (ipykernel)",
   "language": "python",
   "name": "python3"
  },
  "language_info": {
   "codemirror_mode": {
    "name": "ipython",
    "version": 3
   },
   "file_extension": ".py",
   "mimetype": "text/x-python",
   "name": "python",
   "nbconvert_exporter": "python",
   "pygments_lexer": "ipython3",
   "version": "3.10.8"
  }
 },
 "nbformat": 4,
 "nbformat_minor": 5
}
