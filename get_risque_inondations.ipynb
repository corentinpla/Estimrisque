{
  "nbformat": 4,
  "nbformat_minor": 0,
  "metadata": {
    "colab": {
      "provenance": []
    },
    "kernelspec": {
      "name": "python3",
      "display_name": "Python 3"
    },
    "language_info": {
      "name": "python"
    }
  },
  "cells": [
    {
      "cell_type": "code",
      "execution_count": null,
      "metadata": {
        "id": "5yrHH7CyFTgo"
      },
      "outputs": [],
      "source": [
        "!pip install geopandas"
      ]
    },
    {
      "cell_type": "code",
      "source": [
        "import pandas as pd\n",
        "import pandas as pd\n",
        "import geopandas as gpd \n",
        "import numpy as np \n",
        "import matplotlib.pyplot as plt"
      ],
      "metadata": {
        "id": "lezs_i-vFcMU"
      },
      "execution_count": 2,
      "outputs": []
    },
    {
      "cell_type": "code",
      "source": [
        "!pip install --upgrade botocore==1.23.26  #Sur colab, sinon bug\n",
        "!pip install --upgrade urllib3==1.22.0 #Sur colab, sinon bug\n",
        "!pip install py7zr #Sur colab, sinon bug\n",
        "!pip install s3fs #Sur colab, sinon bug\n",
        "!git clone https://github.com/InseeFrLab/cartogether.git\n",
        "%cd ./cartogether\n",
        "!pip install -r requirements.txt\n",
        "!pip install ."
      ],
      "metadata": {
        "id": "JP5qVNMjFe16"
      },
      "execution_count": null,
      "outputs": []
    },
    {
      "cell_type": "code",
      "source": [
        "from shapely.geometry import Point\n",
        "from shapely.geometry.polygon import Polygon"
      ],
      "metadata": {
        "id": "7Uf0VCYVK8kz"
      },
      "execution_count": 19,
      "outputs": []
    },
    {
      "cell_type": "code",
      "source": [
        "#Base adresses -> coordonnées GPS\n",
        "df_adresses=pd.read_csv('/content/adresses-38.csv', sep =\";\") "
      ],
      "metadata": {
        "id": "wXpzWWtXHWFY"
      },
      "execution_count": null,
      "outputs": []
    },
    {
      "cell_type": "code",
      "source": [
        "#Coordonnnées GPS ->coordonnées Geopandas\n",
        "gpd_adresses= gpd.GeoDataFrame(df_adresses, geometry=gpd.points_from_xy(df.lon, df.lat))"
      ],
      "metadata": {
        "id": "WzqH4fMIFkxK"
      },
      "execution_count": 21,
      "outputs": []
    },
    {
      "cell_type": "code",
      "source": [
        "#Base risque d'inondations niveau national\n",
        "df_risque_inond=gpd.read_file(\"/n_carte_inond_s.shp\") "
      ],
      "metadata": {
        "id": "n0tdLp3_KLKu"
      },
      "execution_count": 13,
      "outputs": []
    },
    {
      "cell_type": "code",
      "source": [
        "#Coordonnées de l'habitation (en géometry) ->risque d'inondation\n",
        "#gpd_adresses : tables geopandas qui contient les adresses du département\n",
        "def adresse_to_geometry(dep,num,nom_voie,ville,code_postal):\n",
        "  return(gpd_adresses[(gpd_adresses[\"numero\"] == num) & (gpd_adresses[\"nom_commune\"] == ville) & (gpd_adresses[\"nom_voie\"] == nom_voie)][\"geometry\"])\n"
      ],
      "metadata": {
        "id": "Rn1qzuUTLPQh"
      },
      "execution_count": 28,
      "outputs": []
    },
    {
      "cell_type": "code",
      "source": [
        "#Fonction geometry ->risque \n",
        "def risque(geometry):\n",
        "  risque=[]\n",
        "  for k in range(len(df_risque_inond[\"geometry\"])):\n",
        "    if df_risque_inond[\"geometry\"][k].contains(geometry):\n",
        "      risque.append(df_risque_inond[\"scenario\"][k])\n",
        "  \n",
        "  return(risque)"
      ],
      "metadata": {
        "id": "zdQ-UwYsJKq4"
      },
      "execution_count": 15,
      "outputs": []
    },
    {
      "cell_type": "code",
      "source": [
        "#Fonction finale\n",
        "def adresse_to_risque(dep,num,nom_voie,ville,code_postal):\n",
        "  return(risque(adresse_to_geometry(dep,num,nom_voie,ville,code_postal)))\n",
        "\n"
      ],
      "metadata": {
        "id": "JbkrUu2dUWwx"
      },
      "execution_count": null,
      "outputs": []
    }
  ]
}
