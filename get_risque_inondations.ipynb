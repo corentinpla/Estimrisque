{
 "cells": [
  {
   "cell_type": "code",
   "execution_count": null,
   "metadata": {
    "id": "5yrHH7CyFTgo"
   },
   "outputs": [],
   "source": [
    "!pip install geopandas"
   ]
  },
  {
   "cell_type": "code",
   "execution_count": 5,
   "metadata": {
    "id": "lezs_i-vFcMU"
   },
   "outputs": [],
   "source": [
    "import pandas as pd\n",
    "import geopandas as gpd \n",
    "import numpy as np \n",
    "import matplotlib.pyplot as plt"
   ]
  },
  {
   "cell_type": "code",
   "execution_count": 1,
   "metadata": {
    "id": "JP5qVNMjFe16"
   },
   "outputs": [
    {
     "name": "stdout",
     "output_type": "stream",
     "text": [
      "Defaulting to user installation because normal site-packages is not writeable\n",
      "Collecting botocore==1.23.26\n",
      "  Using cached botocore-1.23.26-py3-none-any.whl (8.5 MB)\n",
      "Requirement already satisfied: python-dateutil<3.0.0,>=2.1 in /usr/lib/python3.10/site-packages (from botocore==1.23.26) (2.8.2)\n",
      "Requirement already satisfied: jmespath<1.0.0,>=0.7.1 in /home/gregoire/.local/lib/python3.10/site-packages (from botocore==1.23.26) (0.10.0)\n",
      "Requirement already satisfied: urllib3<1.27,>=1.25.4 in /home/gregoire/.local/lib/python3.10/site-packages (from botocore==1.23.26) (1.26.13)\n",
      "Requirement already satisfied: six>=1.5 in /usr/lib/python3.10/site-packages (from python-dateutil<3.0.0,>=2.1->botocore==1.23.26) (1.16.0)\n",
      "Installing collected packages: botocore\n",
      "  Attempting uninstall: botocore\n",
      "    Found existing installation: botocore 1.27.59\n",
      "    Uninstalling botocore-1.27.59:\n",
      "      Successfully uninstalled botocore-1.27.59\n",
      "\u001b[31mERROR: pip's dependency resolver does not currently take into account all the packages that are installed. This behaviour is the source of the following dependency conflicts.\n",
      "aiobotocore 2.4.1 requires botocore<1.27.60,>=1.27.59, but you have botocore 1.23.26 which is incompatible.\u001b[0m\u001b[31m\n",
      "\u001b[0mSuccessfully installed botocore-1.23.26\n",
      "Defaulting to user installation because normal site-packages is not writeable\n",
      "Collecting urllib3==1.22.0\n",
      "  Using cached urllib3-1.22-py2.py3-none-any.whl (132 kB)\n",
      "Installing collected packages: urllib3\n",
      "  Attempting uninstall: urllib3\n",
      "    Found existing installation: urllib3 1.26.13\n",
      "    Uninstalling urllib3-1.26.13:\n",
      "      Successfully uninstalled urllib3-1.26.13\n",
      "\u001b[31mERROR: pip's dependency resolver does not currently take into account all the packages that are installed. This behaviour is the source of the following dependency conflicts.\n",
      "botocore 1.23.26 requires urllib3<1.27,>=1.25.4, but you have urllib3 1.22 which is incompatible.\n",
      "aiobotocore 2.4.1 requires botocore<1.27.60,>=1.27.59, but you have botocore 1.23.26 which is incompatible.\u001b[0m\u001b[31m\n",
      "\u001b[0mSuccessfully installed urllib3-1.22\n",
      "Defaulting to user installation because normal site-packages is not writeable\n",
      "Requirement already satisfied: py7zr in /home/gregoire/.local/lib/python3.10/site-packages (0.20.2)\n",
      "Requirement already satisfied: pycryptodomex>=3.6.6 in /home/gregoire/.local/lib/python3.10/site-packages (from py7zr) (3.16.0)\n",
      "Requirement already satisfied: inflate64>=0.3.1 in /home/gregoire/.local/lib/python3.10/site-packages (from py7zr) (0.3.1)\n",
      "Requirement already satisfied: pybcj>=0.6.0 in /home/gregoire/.local/lib/python3.10/site-packages (from py7zr) (1.0.1)\n",
      "Requirement already satisfied: brotli>=1.0.9 in /home/gregoire/.local/lib/python3.10/site-packages (from py7zr) (1.0.9)\n",
      "Requirement already satisfied: multivolumefile>=0.2.3 in /home/gregoire/.local/lib/python3.10/site-packages (from py7zr) (0.2.3)\n",
      "Requirement already satisfied: pyppmd<1.1.0,>=0.18.1 in /home/gregoire/.local/lib/python3.10/site-packages (from py7zr) (1.0.0)\n",
      "Requirement already satisfied: pyzstd>=0.14.4 in /home/gregoire/.local/lib/python3.10/site-packages (from py7zr) (0.15.3)\n",
      "Requirement already satisfied: psutil in /usr/lib/python3.10/site-packages (from py7zr) (5.9.4)\n",
      "Requirement already satisfied: texttable in /home/gregoire/.local/lib/python3.10/site-packages (from py7zr) (1.6.7)\n",
      "Defaulting to user installation because normal site-packages is not writeable\n",
      "Requirement already satisfied: s3fs in /home/gregoire/.local/lib/python3.10/site-packages (2022.11.0)\n",
      "Requirement already satisfied: aiohttp!=4.0.0a0,!=4.0.0a1 in /home/gregoire/.local/lib/python3.10/site-packages (from s3fs) (3.8.3)\n",
      "Requirement already satisfied: fsspec==2022.11.0 in /home/gregoire/.local/lib/python3.10/site-packages (from s3fs) (2022.11.0)\n",
      "Requirement already satisfied: aiobotocore~=2.4.0 in /home/gregoire/.local/lib/python3.10/site-packages (from s3fs) (2.4.1)\n",
      "Collecting botocore<1.27.60,>=1.27.59\n",
      "  Using cached botocore-1.27.59-py3-none-any.whl (9.1 MB)\n",
      "Requirement already satisfied: wrapt>=1.10.10 in /home/gregoire/.local/lib/python3.10/site-packages (from aiobotocore~=2.4.0->s3fs) (1.14.1)\n",
      "Requirement already satisfied: aioitertools>=0.5.1 in /home/gregoire/.local/lib/python3.10/site-packages (from aiobotocore~=2.4.0->s3fs) (0.11.0)\n",
      "Requirement already satisfied: frozenlist>=1.1.1 in /home/gregoire/.local/lib/python3.10/site-packages (from aiohttp!=4.0.0a0,!=4.0.0a1->s3fs) (1.3.3)\n",
      "Requirement already satisfied: multidict<7.0,>=4.5 in /home/gregoire/.local/lib/python3.10/site-packages (from aiohttp!=4.0.0a0,!=4.0.0a1->s3fs) (6.0.3)\n",
      "Requirement already satisfied: charset-normalizer<3.0,>=2.0 in /home/gregoire/.local/lib/python3.10/site-packages (from aiohttp!=4.0.0a0,!=4.0.0a1->s3fs) (2.1.1)\n",
      "Requirement already satisfied: attrs>=17.3.0 in /usr/lib/python3.10/site-packages (from aiohttp!=4.0.0a0,!=4.0.0a1->s3fs) (22.1.0)\n",
      "Requirement already satisfied: aiosignal>=1.1.2 in /home/gregoire/.local/lib/python3.10/site-packages (from aiohttp!=4.0.0a0,!=4.0.0a1->s3fs) (1.3.1)\n",
      "Requirement already satisfied: yarl<2.0,>=1.0 in /home/gregoire/.local/lib/python3.10/site-packages (from aiohttp!=4.0.0a0,!=4.0.0a1->s3fs) (1.8.2)\n",
      "Requirement already satisfied: async-timeout<5.0,>=4.0.0a3 in /home/gregoire/.local/lib/python3.10/site-packages (from aiohttp!=4.0.0a0,!=4.0.0a1->s3fs) (4.0.2)\n",
      "Requirement already satisfied: jmespath<2.0.0,>=0.7.1 in /home/gregoire/.local/lib/python3.10/site-packages (from botocore<1.27.60,>=1.27.59->aiobotocore~=2.4.0->s3fs) (0.10.0)\n",
      "Requirement already satisfied: python-dateutil<3.0.0,>=2.1 in /usr/lib/python3.10/site-packages (from botocore<1.27.60,>=1.27.59->aiobotocore~=2.4.0->s3fs) (2.8.2)\n",
      "Collecting urllib3<1.27,>=1.25.4\n",
      "  Using cached urllib3-1.26.13-py2.py3-none-any.whl (140 kB)\n",
      "Requirement already satisfied: idna>=2.0 in /usr/lib/python3.10/site-packages (from yarl<2.0,>=1.0->aiohttp!=4.0.0a0,!=4.0.0a1->s3fs) (3.4)\n",
      "Requirement already satisfied: six>=1.5 in /usr/lib/python3.10/site-packages (from python-dateutil<3.0.0,>=2.1->botocore<1.27.60,>=1.27.59->aiobotocore~=2.4.0->s3fs) (1.16.0)\n",
      "Installing collected packages: urllib3, botocore\n",
      "  Attempting uninstall: urllib3\n",
      "    Found existing installation: urllib3 1.22\n",
      "    Uninstalling urllib3-1.22:\n",
      "      Successfully uninstalled urllib3-1.22\n",
      "  Attempting uninstall: botocore\n",
      "    Found existing installation: botocore 1.23.26\n",
      "    Uninstalling botocore-1.23.26:\n",
      "      Successfully uninstalled botocore-1.23.26\n",
      "Successfully installed botocore-1.27.59 urllib3-1.26.13\n",
      "fatal : le chemin de destination 'cartogether' existe déjà et n'est pas un répertoire vide.\n",
      "/home/gregoire/Python/ProjPythonENSAE2022/ProjPython/cartogether\n",
      "Defaulting to user installation because normal site-packages is not writeable\n",
      "Requirement already satisfied: requests in /usr/lib/python3.10/site-packages (from -r requirements.txt (line 1)) (2.28.1)\n",
      "Requirement already satisfied: py7zr in /home/gregoire/.local/lib/python3.10/site-packages (from -r requirements.txt (line 2)) (0.20.2)\n",
      "Requirement already satisfied: geopandas in /home/gregoire/.local/lib/python3.10/site-packages (from -r requirements.txt (line 3)) (0.12.2)\n",
      "Requirement already satisfied: openpyxl in /home/gregoire/.local/lib/python3.10/site-packages (from -r requirements.txt (line 4)) (3.0.10)\n",
      "Requirement already satisfied: tqdm in /home/gregoire/.local/lib/python3.10/site-packages (from -r requirements.txt (line 5)) (4.64.1)\n",
      "Requirement already satisfied: s3fs in /home/gregoire/.local/lib/python3.10/site-packages (from -r requirements.txt (line 6)) (2022.11.0)\n",
      "Requirement already satisfied: PyYAML in /usr/lib/python3.10/site-packages (from -r requirements.txt (line 7)) (6.0)\n",
      "Requirement already satisfied: xlrd in /home/gregoire/.local/lib/python3.10/site-packages (from -r requirements.txt (line 8)) (2.0.1)\n",
      "Requirement already satisfied: idna<4,>=2.5 in /usr/lib/python3.10/site-packages (from requests->-r requirements.txt (line 1)) (3.4)\n",
      "Requirement already satisfied: urllib3<1.27,>=1.21.1 in /home/gregoire/.local/lib/python3.10/site-packages (from requests->-r requirements.txt (line 1)) (1.26.13)\n",
      "Requirement already satisfied: pyppmd<1.1.0,>=0.18.1 in /home/gregoire/.local/lib/python3.10/site-packages (from py7zr->-r requirements.txt (line 2)) (1.0.0)\n",
      "Requirement already satisfied: multivolumefile>=0.2.3 in /home/gregoire/.local/lib/python3.10/site-packages (from py7zr->-r requirements.txt (line 2)) (0.2.3)\n",
      "Requirement already satisfied: texttable in /home/gregoire/.local/lib/python3.10/site-packages (from py7zr->-r requirements.txt (line 2)) (1.6.7)\n",
      "Requirement already satisfied: inflate64>=0.3.1 in /home/gregoire/.local/lib/python3.10/site-packages (from py7zr->-r requirements.txt (line 2)) (0.3.1)\n",
      "Requirement already satisfied: pyzstd>=0.14.4 in /home/gregoire/.local/lib/python3.10/site-packages (from py7zr->-r requirements.txt (line 2)) (0.15.3)\n",
      "Requirement already satisfied: pybcj>=0.6.0 in /home/gregoire/.local/lib/python3.10/site-packages (from py7zr->-r requirements.txt (line 2)) (1.0.1)\n",
      "Requirement already satisfied: pycryptodomex>=3.6.6 in /home/gregoire/.local/lib/python3.10/site-packages (from py7zr->-r requirements.txt (line 2)) (3.16.0)\n",
      "Requirement already satisfied: brotli>=1.0.9 in /home/gregoire/.local/lib/python3.10/site-packages (from py7zr->-r requirements.txt (line 2)) (1.0.9)\n",
      "Requirement already satisfied: psutil in /usr/lib/python3.10/site-packages (from py7zr->-r requirements.txt (line 2)) (5.9.4)\n"
     ]
    },
    {
     "name": "stdout",
     "output_type": "stream",
     "text": [
      "Requirement already satisfied: shapely>=1.7 in /home/gregoire/.local/lib/python3.10/site-packages (from geopandas->-r requirements.txt (line 3)) (2.0.0)\n",
      "Requirement already satisfied: fiona>=1.8 in /home/gregoire/.local/lib/python3.10/site-packages (from geopandas->-r requirements.txt (line 3)) (1.8.22)\n",
      "Requirement already satisfied: pyproj>=2.6.1.post1 in /home/gregoire/.local/lib/python3.10/site-packages (from geopandas->-r requirements.txt (line 3)) (3.4.1)\n",
      "Requirement already satisfied: packaging in /usr/lib/python3.10/site-packages (from geopandas->-r requirements.txt (line 3)) (21.3)\n",
      "Requirement already satisfied: pandas>=1.0.0 in /home/gregoire/.local/lib/python3.10/site-packages (from geopandas->-r requirements.txt (line 3)) (1.5.2)\n",
      "Requirement already satisfied: et-xmlfile in /home/gregoire/.local/lib/python3.10/site-packages (from openpyxl->-r requirements.txt (line 4)) (1.1.0)\n",
      "Requirement already satisfied: aiohttp!=4.0.0a0,!=4.0.0a1 in /home/gregoire/.local/lib/python3.10/site-packages (from s3fs->-r requirements.txt (line 6)) (3.8.3)\n",
      "Requirement already satisfied: aiobotocore~=2.4.0 in /home/gregoire/.local/lib/python3.10/site-packages (from s3fs->-r requirements.txt (line 6)) (2.4.1)\n",
      "Requirement already satisfied: fsspec==2022.11.0 in /home/gregoire/.local/lib/python3.10/site-packages (from s3fs->-r requirements.txt (line 6)) (2022.11.0)\n",
      "Requirement already satisfied: aioitertools>=0.5.1 in /home/gregoire/.local/lib/python3.10/site-packages (from aiobotocore~=2.4.0->s3fs->-r requirements.txt (line 6)) (0.11.0)\n",
      "Requirement already satisfied: botocore<1.27.60,>=1.27.59 in /home/gregoire/.local/lib/python3.10/site-packages (from aiobotocore~=2.4.0->s3fs->-r requirements.txt (line 6)) (1.27.59)\n",
      "Requirement already satisfied: wrapt>=1.10.10 in /home/gregoire/.local/lib/python3.10/site-packages (from aiobotocore~=2.4.0->s3fs->-r requirements.txt (line 6)) (1.14.1)\n",
      "Requirement already satisfied: aiosignal>=1.1.2 in /home/gregoire/.local/lib/python3.10/site-packages (from aiohttp!=4.0.0a0,!=4.0.0a1->s3fs->-r requirements.txt (line 6)) (1.3.1)\n",
      "Requirement already satisfied: charset-normalizer<3.0,>=2.0 in /home/gregoire/.local/lib/python3.10/site-packages (from aiohttp!=4.0.0a0,!=4.0.0a1->s3fs->-r requirements.txt (line 6)) (2.1.1)\n",
      "Requirement already satisfied: yarl<2.0,>=1.0 in /home/gregoire/.local/lib/python3.10/site-packages (from aiohttp!=4.0.0a0,!=4.0.0a1->s3fs->-r requirements.txt (line 6)) (1.8.2)\n",
      "Requirement already satisfied: async-timeout<5.0,>=4.0.0a3 in /home/gregoire/.local/lib/python3.10/site-packages (from aiohttp!=4.0.0a0,!=4.0.0a1->s3fs->-r requirements.txt (line 6)) (4.0.2)\n",
      "Requirement already satisfied: frozenlist>=1.1.1 in /home/gregoire/.local/lib/python3.10/site-packages (from aiohttp!=4.0.0a0,!=4.0.0a1->s3fs->-r requirements.txt (line 6)) (1.3.3)\n",
      "Requirement already satisfied: attrs>=17.3.0 in /usr/lib/python3.10/site-packages (from aiohttp!=4.0.0a0,!=4.0.0a1->s3fs->-r requirements.txt (line 6)) (22.1.0)\n",
      "Requirement already satisfied: multidict<7.0,>=4.5 in /home/gregoire/.local/lib/python3.10/site-packages (from aiohttp!=4.0.0a0,!=4.0.0a1->s3fs->-r requirements.txt (line 6)) (6.0.3)\n",
      "Requirement already satisfied: click>=4.0 in /usr/lib/python3.10/site-packages (from fiona>=1.8->geopandas->-r requirements.txt (line 3)) (8.1.3)\n",
      "Requirement already satisfied: six>=1.7 in /usr/lib/python3.10/site-packages (from fiona>=1.8->geopandas->-r requirements.txt (line 3)) (1.16.0)\n",
      "Requirement already satisfied: cligj>=0.5 in /home/gregoire/.local/lib/python3.10/site-packages (from fiona>=1.8->geopandas->-r requirements.txt (line 3)) (0.7.2)\n",
      "Requirement already satisfied: click-plugins>=1.0 in /home/gregoire/.local/lib/python3.10/site-packages (from fiona>=1.8->geopandas->-r requirements.txt (line 3)) (1.1.1)\n",
      "Requirement already satisfied: munch in /home/gregoire/.local/lib/python3.10/site-packages (from fiona>=1.8->geopandas->-r requirements.txt (line 3)) (2.5.0)\n",
      "Requirement already satisfied: setuptools in /usr/lib/python3.10/site-packages (from fiona>=1.8->geopandas->-r requirements.txt (line 3)) (65.6.3)\n",
      "Requirement already satisfied: certifi in /home/gregoire/.local/lib/python3.10/site-packages (from fiona>=1.8->geopandas->-r requirements.txt (line 3)) (2022.12.7)\n",
      "Requirement already satisfied: numpy>=1.21.0 in /home/gregoire/.local/lib/python3.10/site-packages (from pandas>=1.0.0->geopandas->-r requirements.txt (line 3)) (1.23.5)\n",
      "Requirement already satisfied: pytz>=2020.1 in /usr/lib/python3.10/site-packages (from pandas>=1.0.0->geopandas->-r requirements.txt (line 3)) (2022.6)\n",
      "Requirement already satisfied: python-dateutil>=2.8.1 in /usr/lib/python3.10/site-packages (from pandas>=1.0.0->geopandas->-r requirements.txt (line 3)) (2.8.2)\n",
      "Requirement already satisfied: pyparsing!=3.0.5,>=2.0.2 in /usr/lib/python3.10/site-packages (from packaging->geopandas->-r requirements.txt (line 3)) (3.0.9)\n",
      "Requirement already satisfied: jmespath<2.0.0,>=0.7.1 in /home/gregoire/.local/lib/python3.10/site-packages (from botocore<1.27.60,>=1.27.59->aiobotocore~=2.4.0->s3fs->-r requirements.txt (line 6)) (0.10.0)\n",
      "Requirement already satisfied: appdirs in /usr/lib/python3.10/site-packages (from setuptools->fiona>=1.8->geopandas->-r requirements.txt (line 3)) (1.4.4)\n",
      "Requirement already satisfied: jaraco.text in /usr/lib/python3.10/site-packages (from setuptools->fiona>=1.8->geopandas->-r requirements.txt (line 3)) (3.11.0)\n",
      "Requirement already satisfied: more-itertools in /usr/lib/python3.10/site-packages (from setuptools->fiona>=1.8->geopandas->-r requirements.txt (line 3)) (9.0.0)\n",
      "Requirement already satisfied: ordered-set in /usr/lib/python3.10/site-packages (from setuptools->fiona>=1.8->geopandas->-r requirements.txt (line 3)) (4.1.0)\n",
      "Requirement already satisfied: tomli in /usr/lib/python3.10/site-packages (from setuptools->fiona>=1.8->geopandas->-r requirements.txt (line 3)) (2.0.1)\n",
      "Requirement already satisfied: validate-pyproject in /usr/lib/python3.10/site-packages (from setuptools->fiona>=1.8->geopandas->-r requirements.txt (line 3)) (0.10.1)\n",
      "Requirement already satisfied: inflect in /usr/lib/python3.10/site-packages (from jaraco.text->setuptools->fiona>=1.8->geopandas->-r requirements.txt (line 3)) (6.0.2)\n",
      "Requirement already satisfied: jaraco.context>=4.1 in /usr/lib/python3.10/site-packages (from jaraco.text->setuptools->fiona>=1.8->geopandas->-r requirements.txt (line 3)) (4.2.0)\n",
      "Requirement already satisfied: jaraco.functools in /usr/lib/python3.10/site-packages (from jaraco.text->setuptools->fiona>=1.8->geopandas->-r requirements.txt (line 3)) (3.5.2)\n",
      "Requirement already satisfied: autocommand in /usr/lib/python3.10/site-packages (from jaraco.text->setuptools->fiona>=1.8->geopandas->-r requirements.txt (line 3)) (2.2.2)\n",
      "Requirement already satisfied: pydantic>=1.9.1 in /usr/lib/python3.10/site-packages (from inflect->jaraco.text->setuptools->fiona>=1.8->geopandas->-r requirements.txt (line 3)) (1.10.2)\n",
      "Requirement already satisfied: typing-extensions>=4.1.0 in /usr/lib/python3.10/site-packages (from pydantic>=1.9.1->inflect->jaraco.text->setuptools->fiona>=1.8->geopandas->-r requirements.txt (line 3)) (4.4.0)\n",
      "Defaulting to user installation because normal site-packages is not writeable\n",
      "Processing /home/gregoire/Python/ProjPythonENSAE2022/ProjPython/cartogether\n",
      "  Installing build dependencies ... \u001b[?25ldone\n",
      "\u001b[?25h  Getting requirements to build wheel ... \u001b[?25ldone\n",
      "\u001b[?25h  Preparing metadata (pyproject.toml) ... \u001b[?25ldone\n",
      "\u001b[?25hBuilding wheels for collected packages: cartiflette\n",
      "  Building wheel for cartiflette (pyproject.toml) ... \u001b[?25ldone\n",
      "\u001b[?25h  Created wheel for cartiflette: filename=cartiflette-0.0.1-py3-none-any.whl size=19629 sha256=8550ae908818289354e279f469cb901ae129b18d3ef19138315beea7d558bfa1\n",
      "  Stored in directory: /tmp/pip-ephem-wheel-cache-aq0yw3_3/wheels/f4/b3/8f/2147229f24196ae8874440ac7bad9db2e287b08af2d61a7620\n",
      "Successfully built cartiflette\n",
      "Installing collected packages: cartiflette\n",
      "  Attempting uninstall: cartiflette\n",
      "    Found existing installation: cartiflette 0.0.1\n",
      "    Uninstalling cartiflette-0.0.1:\n",
      "      Successfully uninstalled cartiflette-0.0.1\n",
      "Successfully installed cartiflette-0.0.1\n"
     ]
    }
   ],
   "source": [
    "!pip install --upgrade botocore==1.23.26  #Sur colab, sinon bug\n",
    "!pip install --upgrade urllib3==1.22.0 #Sur colab, sinon bug\n",
    "!pip install py7zr #Sur colab, sinon bug\n",
    "!pip install s3fs #Sur colab, sinon bug\n",
    "!git clone https://github.com/InseeFrLab/cartogether.git\n",
    "%cd ./cartogether\n",
    "!pip install -r requirements.txt\n",
    "!pip install ."
   ]
  },
  {
   "cell_type": "code",
   "execution_count": 2,
   "metadata": {
    "id": "7Uf0VCYVK8kz"
   },
   "outputs": [],
   "source": [
    "from shapely.geometry import Point\n",
    "from shapely.geometry.polygon import Polygon"
   ]
  },
  {
   "cell_type": "code",
   "execution_count": 7,
   "metadata": {
    "id": "wXpzWWtXHWFY"
   },
   "outputs": [
    {
     "ename": "FileNotFoundError",
     "evalue": "[Errno 2] No such file or directory: 'content/adresses-38.csv'",
     "output_type": "error",
     "traceback": [
      "\u001b[0;31m---------------------------------------------------------------------------\u001b[0m",
      "\u001b[0;31mFileNotFoundError\u001b[0m                         Traceback (most recent call last)",
      "Cell \u001b[0;32mIn[7], line 2\u001b[0m\n\u001b[1;32m      1\u001b[0m \u001b[38;5;66;03m#Base adresses -> coordonnées GPS\u001b[39;00m\n\u001b[0;32m----> 2\u001b[0m df_adresses\u001b[38;5;241m=\u001b[39m\u001b[43mpd\u001b[49m\u001b[38;5;241;43m.\u001b[39;49m\u001b[43mread_csv\u001b[49m\u001b[43m(\u001b[49m\u001b[38;5;124;43m'\u001b[39;49m\u001b[38;5;124;43mcontent/adresses-38.csv\u001b[39;49m\u001b[38;5;124;43m'\u001b[39;49m\u001b[43m,\u001b[49m\u001b[43m \u001b[49m\u001b[43msep\u001b[49m\u001b[43m \u001b[49m\u001b[38;5;241;43m=\u001b[39;49m\u001b[38;5;124;43m\"\u001b[39;49m\u001b[38;5;124;43m;\u001b[39;49m\u001b[38;5;124;43m\"\u001b[39;49m\u001b[43m)\u001b[49m \n",
      "File \u001b[0;32m~/.local/lib/python3.10/site-packages/pandas/util/_decorators.py:211\u001b[0m, in \u001b[0;36mdeprecate_kwarg.<locals>._deprecate_kwarg.<locals>.wrapper\u001b[0;34m(*args, **kwargs)\u001b[0m\n\u001b[1;32m    209\u001b[0m     \u001b[38;5;28;01melse\u001b[39;00m:\n\u001b[1;32m    210\u001b[0m         kwargs[new_arg_name] \u001b[38;5;241m=\u001b[39m new_arg_value\n\u001b[0;32m--> 211\u001b[0m \u001b[38;5;28;01mreturn\u001b[39;00m \u001b[43mfunc\u001b[49m\u001b[43m(\u001b[49m\u001b[38;5;241;43m*\u001b[39;49m\u001b[43margs\u001b[49m\u001b[43m,\u001b[49m\u001b[43m \u001b[49m\u001b[38;5;241;43m*\u001b[39;49m\u001b[38;5;241;43m*\u001b[39;49m\u001b[43mkwargs\u001b[49m\u001b[43m)\u001b[49m\n",
      "File \u001b[0;32m~/.local/lib/python3.10/site-packages/pandas/util/_decorators.py:331\u001b[0m, in \u001b[0;36mdeprecate_nonkeyword_arguments.<locals>.decorate.<locals>.wrapper\u001b[0;34m(*args, **kwargs)\u001b[0m\n\u001b[1;32m    325\u001b[0m \u001b[38;5;28;01mif\u001b[39;00m \u001b[38;5;28mlen\u001b[39m(args) \u001b[38;5;241m>\u001b[39m num_allow_args:\n\u001b[1;32m    326\u001b[0m     warnings\u001b[38;5;241m.\u001b[39mwarn(\n\u001b[1;32m    327\u001b[0m         msg\u001b[38;5;241m.\u001b[39mformat(arguments\u001b[38;5;241m=\u001b[39m_format_argument_list(allow_args)),\n\u001b[1;32m    328\u001b[0m         \u001b[38;5;167;01mFutureWarning\u001b[39;00m,\n\u001b[1;32m    329\u001b[0m         stacklevel\u001b[38;5;241m=\u001b[39mfind_stack_level(),\n\u001b[1;32m    330\u001b[0m     )\n\u001b[0;32m--> 331\u001b[0m \u001b[38;5;28;01mreturn\u001b[39;00m \u001b[43mfunc\u001b[49m\u001b[43m(\u001b[49m\u001b[38;5;241;43m*\u001b[39;49m\u001b[43margs\u001b[49m\u001b[43m,\u001b[49m\u001b[43m \u001b[49m\u001b[38;5;241;43m*\u001b[39;49m\u001b[38;5;241;43m*\u001b[39;49m\u001b[43mkwargs\u001b[49m\u001b[43m)\u001b[49m\n",
      "File \u001b[0;32m~/.local/lib/python3.10/site-packages/pandas/io/parsers/readers.py:950\u001b[0m, in \u001b[0;36mread_csv\u001b[0;34m(filepath_or_buffer, sep, delimiter, header, names, index_col, usecols, squeeze, prefix, mangle_dupe_cols, dtype, engine, converters, true_values, false_values, skipinitialspace, skiprows, skipfooter, nrows, na_values, keep_default_na, na_filter, verbose, skip_blank_lines, parse_dates, infer_datetime_format, keep_date_col, date_parser, dayfirst, cache_dates, iterator, chunksize, compression, thousands, decimal, lineterminator, quotechar, quoting, doublequote, escapechar, comment, encoding, encoding_errors, dialect, error_bad_lines, warn_bad_lines, on_bad_lines, delim_whitespace, low_memory, memory_map, float_precision, storage_options)\u001b[0m\n\u001b[1;32m    935\u001b[0m kwds_defaults \u001b[38;5;241m=\u001b[39m _refine_defaults_read(\n\u001b[1;32m    936\u001b[0m     dialect,\n\u001b[1;32m    937\u001b[0m     delimiter,\n\u001b[0;32m   (...)\u001b[0m\n\u001b[1;32m    946\u001b[0m     defaults\u001b[38;5;241m=\u001b[39m{\u001b[38;5;124m\"\u001b[39m\u001b[38;5;124mdelimiter\u001b[39m\u001b[38;5;124m\"\u001b[39m: \u001b[38;5;124m\"\u001b[39m\u001b[38;5;124m,\u001b[39m\u001b[38;5;124m\"\u001b[39m},\n\u001b[1;32m    947\u001b[0m )\n\u001b[1;32m    948\u001b[0m kwds\u001b[38;5;241m.\u001b[39mupdate(kwds_defaults)\n\u001b[0;32m--> 950\u001b[0m \u001b[38;5;28;01mreturn\u001b[39;00m \u001b[43m_read\u001b[49m\u001b[43m(\u001b[49m\u001b[43mfilepath_or_buffer\u001b[49m\u001b[43m,\u001b[49m\u001b[43m \u001b[49m\u001b[43mkwds\u001b[49m\u001b[43m)\u001b[49m\n",
      "File \u001b[0;32m~/.local/lib/python3.10/site-packages/pandas/io/parsers/readers.py:605\u001b[0m, in \u001b[0;36m_read\u001b[0;34m(filepath_or_buffer, kwds)\u001b[0m\n\u001b[1;32m    602\u001b[0m _validate_names(kwds\u001b[38;5;241m.\u001b[39mget(\u001b[38;5;124m\"\u001b[39m\u001b[38;5;124mnames\u001b[39m\u001b[38;5;124m\"\u001b[39m, \u001b[38;5;28;01mNone\u001b[39;00m))\n\u001b[1;32m    604\u001b[0m \u001b[38;5;66;03m# Create the parser.\u001b[39;00m\n\u001b[0;32m--> 605\u001b[0m parser \u001b[38;5;241m=\u001b[39m \u001b[43mTextFileReader\u001b[49m\u001b[43m(\u001b[49m\u001b[43mfilepath_or_buffer\u001b[49m\u001b[43m,\u001b[49m\u001b[43m \u001b[49m\u001b[38;5;241;43m*\u001b[39;49m\u001b[38;5;241;43m*\u001b[39;49m\u001b[43mkwds\u001b[49m\u001b[43m)\u001b[49m\n\u001b[1;32m    607\u001b[0m \u001b[38;5;28;01mif\u001b[39;00m chunksize \u001b[38;5;129;01mor\u001b[39;00m iterator:\n\u001b[1;32m    608\u001b[0m     \u001b[38;5;28;01mreturn\u001b[39;00m parser\n",
      "File \u001b[0;32m~/.local/lib/python3.10/site-packages/pandas/io/parsers/readers.py:1442\u001b[0m, in \u001b[0;36mTextFileReader.__init__\u001b[0;34m(self, f, engine, **kwds)\u001b[0m\n\u001b[1;32m   1439\u001b[0m     \u001b[38;5;28mself\u001b[39m\u001b[38;5;241m.\u001b[39moptions[\u001b[38;5;124m\"\u001b[39m\u001b[38;5;124mhas_index_names\u001b[39m\u001b[38;5;124m\"\u001b[39m] \u001b[38;5;241m=\u001b[39m kwds[\u001b[38;5;124m\"\u001b[39m\u001b[38;5;124mhas_index_names\u001b[39m\u001b[38;5;124m\"\u001b[39m]\n\u001b[1;32m   1441\u001b[0m \u001b[38;5;28mself\u001b[39m\u001b[38;5;241m.\u001b[39mhandles: IOHandles \u001b[38;5;241m|\u001b[39m \u001b[38;5;28;01mNone\u001b[39;00m \u001b[38;5;241m=\u001b[39m \u001b[38;5;28;01mNone\u001b[39;00m\n\u001b[0;32m-> 1442\u001b[0m \u001b[38;5;28mself\u001b[39m\u001b[38;5;241m.\u001b[39m_engine \u001b[38;5;241m=\u001b[39m \u001b[38;5;28;43mself\u001b[39;49m\u001b[38;5;241;43m.\u001b[39;49m\u001b[43m_make_engine\u001b[49m\u001b[43m(\u001b[49m\u001b[43mf\u001b[49m\u001b[43m,\u001b[49m\u001b[43m \u001b[49m\u001b[38;5;28;43mself\u001b[39;49m\u001b[38;5;241;43m.\u001b[39;49m\u001b[43mengine\u001b[49m\u001b[43m)\u001b[49m\n",
      "File \u001b[0;32m~/.local/lib/python3.10/site-packages/pandas/io/parsers/readers.py:1735\u001b[0m, in \u001b[0;36mTextFileReader._make_engine\u001b[0;34m(self, f, engine)\u001b[0m\n\u001b[1;32m   1733\u001b[0m     \u001b[38;5;28;01mif\u001b[39;00m \u001b[38;5;124m\"\u001b[39m\u001b[38;5;124mb\u001b[39m\u001b[38;5;124m\"\u001b[39m \u001b[38;5;129;01mnot\u001b[39;00m \u001b[38;5;129;01min\u001b[39;00m mode:\n\u001b[1;32m   1734\u001b[0m         mode \u001b[38;5;241m+\u001b[39m\u001b[38;5;241m=\u001b[39m \u001b[38;5;124m\"\u001b[39m\u001b[38;5;124mb\u001b[39m\u001b[38;5;124m\"\u001b[39m\n\u001b[0;32m-> 1735\u001b[0m \u001b[38;5;28mself\u001b[39m\u001b[38;5;241m.\u001b[39mhandles \u001b[38;5;241m=\u001b[39m \u001b[43mget_handle\u001b[49m\u001b[43m(\u001b[49m\n\u001b[1;32m   1736\u001b[0m \u001b[43m    \u001b[49m\u001b[43mf\u001b[49m\u001b[43m,\u001b[49m\n\u001b[1;32m   1737\u001b[0m \u001b[43m    \u001b[49m\u001b[43mmode\u001b[49m\u001b[43m,\u001b[49m\n\u001b[1;32m   1738\u001b[0m \u001b[43m    \u001b[49m\u001b[43mencoding\u001b[49m\u001b[38;5;241;43m=\u001b[39;49m\u001b[38;5;28;43mself\u001b[39;49m\u001b[38;5;241;43m.\u001b[39;49m\u001b[43moptions\u001b[49m\u001b[38;5;241;43m.\u001b[39;49m\u001b[43mget\u001b[49m\u001b[43m(\u001b[49m\u001b[38;5;124;43m\"\u001b[39;49m\u001b[38;5;124;43mencoding\u001b[39;49m\u001b[38;5;124;43m\"\u001b[39;49m\u001b[43m,\u001b[49m\u001b[43m \u001b[49m\u001b[38;5;28;43;01mNone\u001b[39;49;00m\u001b[43m)\u001b[49m\u001b[43m,\u001b[49m\n\u001b[1;32m   1739\u001b[0m \u001b[43m    \u001b[49m\u001b[43mcompression\u001b[49m\u001b[38;5;241;43m=\u001b[39;49m\u001b[38;5;28;43mself\u001b[39;49m\u001b[38;5;241;43m.\u001b[39;49m\u001b[43moptions\u001b[49m\u001b[38;5;241;43m.\u001b[39;49m\u001b[43mget\u001b[49m\u001b[43m(\u001b[49m\u001b[38;5;124;43m\"\u001b[39;49m\u001b[38;5;124;43mcompression\u001b[39;49m\u001b[38;5;124;43m\"\u001b[39;49m\u001b[43m,\u001b[49m\u001b[43m \u001b[49m\u001b[38;5;28;43;01mNone\u001b[39;49;00m\u001b[43m)\u001b[49m\u001b[43m,\u001b[49m\n\u001b[1;32m   1740\u001b[0m \u001b[43m    \u001b[49m\u001b[43mmemory_map\u001b[49m\u001b[38;5;241;43m=\u001b[39;49m\u001b[38;5;28;43mself\u001b[39;49m\u001b[38;5;241;43m.\u001b[39;49m\u001b[43moptions\u001b[49m\u001b[38;5;241;43m.\u001b[39;49m\u001b[43mget\u001b[49m\u001b[43m(\u001b[49m\u001b[38;5;124;43m\"\u001b[39;49m\u001b[38;5;124;43mmemory_map\u001b[39;49m\u001b[38;5;124;43m\"\u001b[39;49m\u001b[43m,\u001b[49m\u001b[43m \u001b[49m\u001b[38;5;28;43;01mFalse\u001b[39;49;00m\u001b[43m)\u001b[49m\u001b[43m,\u001b[49m\n\u001b[1;32m   1741\u001b[0m \u001b[43m    \u001b[49m\u001b[43mis_text\u001b[49m\u001b[38;5;241;43m=\u001b[39;49m\u001b[43mis_text\u001b[49m\u001b[43m,\u001b[49m\n\u001b[1;32m   1742\u001b[0m \u001b[43m    \u001b[49m\u001b[43merrors\u001b[49m\u001b[38;5;241;43m=\u001b[39;49m\u001b[38;5;28;43mself\u001b[39;49m\u001b[38;5;241;43m.\u001b[39;49m\u001b[43moptions\u001b[49m\u001b[38;5;241;43m.\u001b[39;49m\u001b[43mget\u001b[49m\u001b[43m(\u001b[49m\u001b[38;5;124;43m\"\u001b[39;49m\u001b[38;5;124;43mencoding_errors\u001b[39;49m\u001b[38;5;124;43m\"\u001b[39;49m\u001b[43m,\u001b[49m\u001b[43m \u001b[49m\u001b[38;5;124;43m\"\u001b[39;49m\u001b[38;5;124;43mstrict\u001b[39;49m\u001b[38;5;124;43m\"\u001b[39;49m\u001b[43m)\u001b[49m\u001b[43m,\u001b[49m\n\u001b[1;32m   1743\u001b[0m \u001b[43m    \u001b[49m\u001b[43mstorage_options\u001b[49m\u001b[38;5;241;43m=\u001b[39;49m\u001b[38;5;28;43mself\u001b[39;49m\u001b[38;5;241;43m.\u001b[39;49m\u001b[43moptions\u001b[49m\u001b[38;5;241;43m.\u001b[39;49m\u001b[43mget\u001b[49m\u001b[43m(\u001b[49m\u001b[38;5;124;43m\"\u001b[39;49m\u001b[38;5;124;43mstorage_options\u001b[39;49m\u001b[38;5;124;43m\"\u001b[39;49m\u001b[43m,\u001b[49m\u001b[43m \u001b[49m\u001b[38;5;28;43;01mNone\u001b[39;49;00m\u001b[43m)\u001b[49m\u001b[43m,\u001b[49m\n\u001b[1;32m   1744\u001b[0m \u001b[43m\u001b[49m\u001b[43m)\u001b[49m\n\u001b[1;32m   1745\u001b[0m \u001b[38;5;28;01massert\u001b[39;00m \u001b[38;5;28mself\u001b[39m\u001b[38;5;241m.\u001b[39mhandles \u001b[38;5;129;01mis\u001b[39;00m \u001b[38;5;129;01mnot\u001b[39;00m \u001b[38;5;28;01mNone\u001b[39;00m\n\u001b[1;32m   1746\u001b[0m f \u001b[38;5;241m=\u001b[39m \u001b[38;5;28mself\u001b[39m\u001b[38;5;241m.\u001b[39mhandles\u001b[38;5;241m.\u001b[39mhandle\n",
      "File \u001b[0;32m~/.local/lib/python3.10/site-packages/pandas/io/common.py:856\u001b[0m, in \u001b[0;36mget_handle\u001b[0;34m(path_or_buf, mode, encoding, compression, memory_map, is_text, errors, storage_options)\u001b[0m\n\u001b[1;32m    851\u001b[0m \u001b[38;5;28;01melif\u001b[39;00m \u001b[38;5;28misinstance\u001b[39m(handle, \u001b[38;5;28mstr\u001b[39m):\n\u001b[1;32m    852\u001b[0m     \u001b[38;5;66;03m# Check whether the filename is to be opened in binary mode.\u001b[39;00m\n\u001b[1;32m    853\u001b[0m     \u001b[38;5;66;03m# Binary mode does not support 'encoding' and 'newline'.\u001b[39;00m\n\u001b[1;32m    854\u001b[0m     \u001b[38;5;28;01mif\u001b[39;00m ioargs\u001b[38;5;241m.\u001b[39mencoding \u001b[38;5;129;01mand\u001b[39;00m \u001b[38;5;124m\"\u001b[39m\u001b[38;5;124mb\u001b[39m\u001b[38;5;124m\"\u001b[39m \u001b[38;5;129;01mnot\u001b[39;00m \u001b[38;5;129;01min\u001b[39;00m ioargs\u001b[38;5;241m.\u001b[39mmode:\n\u001b[1;32m    855\u001b[0m         \u001b[38;5;66;03m# Encoding\u001b[39;00m\n\u001b[0;32m--> 856\u001b[0m         handle \u001b[38;5;241m=\u001b[39m \u001b[38;5;28;43mopen\u001b[39;49m\u001b[43m(\u001b[49m\n\u001b[1;32m    857\u001b[0m \u001b[43m            \u001b[49m\u001b[43mhandle\u001b[49m\u001b[43m,\u001b[49m\n\u001b[1;32m    858\u001b[0m \u001b[43m            \u001b[49m\u001b[43mioargs\u001b[49m\u001b[38;5;241;43m.\u001b[39;49m\u001b[43mmode\u001b[49m\u001b[43m,\u001b[49m\n\u001b[1;32m    859\u001b[0m \u001b[43m            \u001b[49m\u001b[43mencoding\u001b[49m\u001b[38;5;241;43m=\u001b[39;49m\u001b[43mioargs\u001b[49m\u001b[38;5;241;43m.\u001b[39;49m\u001b[43mencoding\u001b[49m\u001b[43m,\u001b[49m\n\u001b[1;32m    860\u001b[0m \u001b[43m            \u001b[49m\u001b[43merrors\u001b[49m\u001b[38;5;241;43m=\u001b[39;49m\u001b[43merrors\u001b[49m\u001b[43m,\u001b[49m\n\u001b[1;32m    861\u001b[0m \u001b[43m            \u001b[49m\u001b[43mnewline\u001b[49m\u001b[38;5;241;43m=\u001b[39;49m\u001b[38;5;124;43m\"\u001b[39;49m\u001b[38;5;124;43m\"\u001b[39;49m\u001b[43m,\u001b[49m\n\u001b[1;32m    862\u001b[0m \u001b[43m        \u001b[49m\u001b[43m)\u001b[49m\n\u001b[1;32m    863\u001b[0m     \u001b[38;5;28;01melse\u001b[39;00m:\n\u001b[1;32m    864\u001b[0m         \u001b[38;5;66;03m# Binary mode\u001b[39;00m\n\u001b[1;32m    865\u001b[0m         handle \u001b[38;5;241m=\u001b[39m \u001b[38;5;28mopen\u001b[39m(handle, ioargs\u001b[38;5;241m.\u001b[39mmode)\n",
      "\u001b[0;31mFileNotFoundError\u001b[0m: [Errno 2] No such file or directory: 'content/adresses-38.csv'"
     ]
    }
   ],
   "source": [
    "#Base adresses -> coordonnées GPS\n",
    "df_adresses=pd.read_csv('/content/adresses-38.csv', sep =\";\") "
   ]
  },
  {
   "cell_type": "code",
   "execution_count": 21,
   "metadata": {
    "id": "WzqH4fMIFkxK"
   },
   "outputs": [],
   "source": [
    "#Coordonnnées GPS ->coordonnées Geopandas\n",
    "gpd_adresses= gpd.GeoDataFrame(df_adresses, geometry=gpd.points_from_xy(df.lon, df.lat))"
   ]
  },
  {
   "cell_type": "code",
   "execution_count": 13,
   "metadata": {
    "id": "n0tdLp3_KLKu"
   },
   "outputs": [],
   "source": [
    "#Base risque d'inondations niveau national\n",
    "df_risque_inond=gpd.read_file(\"/n_carte_inond_s.shp\") "
   ]
  },
  {
   "cell_type": "code",
   "execution_count": 28,
   "metadata": {
    "id": "Rn1qzuUTLPQh"
   },
   "outputs": [],
   "source": [
    "#Coordonnées de l'habitation (en géometry) ->risque d'inondation\n",
    "#gpd_adresses : tables geopandas qui contient les adresses du département\n",
    "def adresse_to_geometry(dep,num,nom_voie,ville,code_postal):\n",
    "  return(gpd_adresses[(gpd_adresses[\"numero\"] == num) & (gpd_adresses[\"nom_commune\"] == ville) & (gpd_adresses[\"nom_voie\"] == nom_voie)][\"geometry\"])\n"
   ]
  },
  {
   "cell_type": "code",
   "execution_count": 15,
   "metadata": {
    "id": "zdQ-UwYsJKq4"
   },
   "outputs": [],
   "source": [
    "#Fonction geometry ->risque \n",
    "def risque(geometry):\n",
    "  risque=[]\n",
    "  for k in range(len(df_risque_inond[\"geometry\"])):\n",
    "    if df_risque_inond[\"geometry\"][k].contains(geometry):\n",
    "      risque.append(df_risque_inond[\"scenario\"][k])\n",
    "  \n",
    "  return(risque)"
   ]
  },
  {
   "cell_type": "code",
   "execution_count": null,
   "metadata": {
    "id": "JbkrUu2dUWwx"
   },
   "outputs": [],
   "source": [
    "#Fonction finale\n",
    "def adresse_to_risque(dep,num,nom_voie,ville,code_postal):\n",
    "  return(risque(adresse_to_geometry(dep,num,nom_voie,ville,code_postal)))\n",
    "\n"
   ]
  }
 ],
 "metadata": {
  "colab": {
   "provenance": []
  },
  "kernelspec": {
   "display_name": "Python 3 (ipykernel)",
   "language": "python",
   "name": "python3"
  },
  "language_info": {
   "codemirror_mode": {
    "name": "ipython",
    "version": 3
   },
   "file_extension": ".py",
   "mimetype": "text/x-python",
   "name": "python",
   "nbconvert_exporter": "python",
   "pygments_lexer": "ipython3",
   "version": "3.10.8"
  }
 },
 "nbformat": 4,
 "nbformat_minor": 1
}
