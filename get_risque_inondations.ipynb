{
 "cells": [
  {
   "cell_type": "code",
   "execution_count": null,
   "metadata": {
    "id": "5yrHH7CyFTgo"
   },
   "outputs": [],
   "source": [
    "#!pip install geopandas"
   ]
  },
  {
   "cell_type": "code",
   "execution_count": 2,
   "metadata": {
    "id": "lezs_i-vFcMU"
   },
   "outputs": [],
   "source": [
    "import pandas as pd\n",
    "import geopandas as gpd \n",
    "import numpy as np \n",
    "import matplotlib.pyplot as plt"
   ]
  },
  {
   "cell_type": "code",
   "execution_count": 3,
   "metadata": {
    "id": "JP5qVNMjFe16"
   },
   "outputs": [
    {
     "name": "stdout",
     "output_type": "stream",
     "text": [
      "Defaulting to user installation because normal site-packages is not writeable\n",
      "Collecting botocore==1.23.26\n",
      "  Using cached botocore-1.23.26-py3-none-any.whl (8.5 MB)\n",
      "Requirement already satisfied: jmespath<1.0.0,>=0.7.1 in /home/gregoire/.local/lib/python3.10/site-packages (from botocore==1.23.26) (0.10.0)\n",
      "Requirement already satisfied: urllib3<1.27,>=1.25.4 in /home/gregoire/.local/lib/python3.10/site-packages (from botocore==1.23.26) (1.26.13)\n",
      "Requirement already satisfied: python-dateutil<3.0.0,>=2.1 in /usr/lib/python3.10/site-packages (from botocore==1.23.26) (2.8.2)\n",
      "Requirement already satisfied: six>=1.5 in /usr/lib/python3.10/site-packages (from python-dateutil<3.0.0,>=2.1->botocore==1.23.26) (1.16.0)\n",
      "Installing collected packages: botocore\n",
      "  Attempting uninstall: botocore\n",
      "    Found existing installation: botocore 1.27.59\n",
      "    Uninstalling botocore-1.27.59:\n",
      "      Successfully uninstalled botocore-1.27.59\n",
      "\u001b[31mERROR: pip's dependency resolver does not currently take into account all the packages that are installed. This behaviour is the source of the following dependency conflicts.\n",
      "aiobotocore 2.4.1 requires botocore<1.27.60,>=1.27.59, but you have botocore 1.23.26 which is incompatible.\u001b[0m\u001b[31m\n",
      "\u001b[0mSuccessfully installed botocore-1.23.26\n",
      "Defaulting to user installation because normal site-packages is not writeable\n",
      "Collecting urllib3==1.22.0\n",
      "  Using cached urllib3-1.22-py2.py3-none-any.whl (132 kB)\n",
      "Installing collected packages: urllib3\n",
      "  Attempting uninstall: urllib3\n",
      "    Found existing installation: urllib3 1.26.13\n",
      "    Uninstalling urllib3-1.26.13:\n",
      "      Successfully uninstalled urllib3-1.26.13\n",
      "\u001b[31mERROR: pip's dependency resolver does not currently take into account all the packages that are installed. This behaviour is the source of the following dependency conflicts.\n",
      "botocore 1.23.26 requires urllib3<1.27,>=1.25.4, but you have urllib3 1.22 which is incompatible.\n",
      "aiobotocore 2.4.1 requires botocore<1.27.60,>=1.27.59, but you have botocore 1.23.26 which is incompatible.\u001b[0m\u001b[31m\n",
      "\u001b[0mSuccessfully installed urllib3-1.22\n",
      "Defaulting to user installation because normal site-packages is not writeable\n",
      "Requirement already satisfied: py7zr in /home/gregoire/.local/lib/python3.10/site-packages (0.20.2)\n",
      "Requirement already satisfied: texttable in /home/gregoire/.local/lib/python3.10/site-packages (from py7zr) (1.6.7)\n",
      "Requirement already satisfied: psutil in /usr/lib/python3.10/site-packages (from py7zr) (5.9.4)\n",
      "Requirement already satisfied: inflate64>=0.3.1 in /home/gregoire/.local/lib/python3.10/site-packages (from py7zr) (0.3.1)\n",
      "Requirement already satisfied: pyppmd<1.1.0,>=0.18.1 in /home/gregoire/.local/lib/python3.10/site-packages (from py7zr) (1.0.0)\n",
      "Requirement already satisfied: pycryptodomex>=3.6.6 in /home/gregoire/.local/lib/python3.10/site-packages (from py7zr) (3.16.0)\n",
      "Requirement already satisfied: multivolumefile>=0.2.3 in /home/gregoire/.local/lib/python3.10/site-packages (from py7zr) (0.2.3)\n",
      "Requirement already satisfied: pybcj>=0.6.0 in /home/gregoire/.local/lib/python3.10/site-packages (from py7zr) (1.0.1)\n",
      "Requirement already satisfied: brotli>=1.0.9 in /home/gregoire/.local/lib/python3.10/site-packages (from py7zr) (1.0.9)\n",
      "Requirement already satisfied: pyzstd>=0.14.4 in /home/gregoire/.local/lib/python3.10/site-packages (from py7zr) (0.15.3)\n",
      "Defaulting to user installation because normal site-packages is not writeable\n",
      "Requirement already satisfied: s3fs in /home/gregoire/.local/lib/python3.10/site-packages (2022.11.0)\n",
      "Requirement already satisfied: fsspec==2022.11.0 in /home/gregoire/.local/lib/python3.10/site-packages (from s3fs) (2022.11.0)\n",
      "Requirement already satisfied: aiohttp!=4.0.0a0,!=4.0.0a1 in /home/gregoire/.local/lib/python3.10/site-packages (from s3fs) (3.8.3)\n",
      "Requirement already satisfied: aiobotocore~=2.4.0 in /home/gregoire/.local/lib/python3.10/site-packages (from s3fs) (2.4.1)\n",
      "Requirement already satisfied: aioitertools>=0.5.1 in /home/gregoire/.local/lib/python3.10/site-packages (from aiobotocore~=2.4.0->s3fs) (0.11.0)\n",
      "Requirement already satisfied: wrapt>=1.10.10 in /home/gregoire/.local/lib/python3.10/site-packages (from aiobotocore~=2.4.0->s3fs) (1.14.1)\n",
      "Collecting botocore<1.27.60,>=1.27.59\n",
      "  Using cached botocore-1.27.59-py3-none-any.whl (9.1 MB)\n",
      "Requirement already satisfied: aiosignal>=1.1.2 in /home/gregoire/.local/lib/python3.10/site-packages (from aiohttp!=4.0.0a0,!=4.0.0a1->s3fs) (1.3.1)\n",
      "Requirement already satisfied: charset-normalizer<3.0,>=2.0 in /home/gregoire/.local/lib/python3.10/site-packages (from aiohttp!=4.0.0a0,!=4.0.0a1->s3fs) (2.1.1)\n",
      "Requirement already satisfied: multidict<7.0,>=4.5 in /home/gregoire/.local/lib/python3.10/site-packages (from aiohttp!=4.0.0a0,!=4.0.0a1->s3fs) (6.0.3)\n",
      "Requirement already satisfied: yarl<2.0,>=1.0 in /home/gregoire/.local/lib/python3.10/site-packages (from aiohttp!=4.0.0a0,!=4.0.0a1->s3fs) (1.8.2)\n",
      "Requirement already satisfied: frozenlist>=1.1.1 in /home/gregoire/.local/lib/python3.10/site-packages (from aiohttp!=4.0.0a0,!=4.0.0a1->s3fs) (1.3.3)\n",
      "Requirement already satisfied: attrs>=17.3.0 in /usr/lib/python3.10/site-packages (from aiohttp!=4.0.0a0,!=4.0.0a1->s3fs) (22.1.0)\n",
      "Requirement already satisfied: async-timeout<5.0,>=4.0.0a3 in /home/gregoire/.local/lib/python3.10/site-packages (from aiohttp!=4.0.0a0,!=4.0.0a1->s3fs) (4.0.2)\n",
      "Requirement already satisfied: jmespath<2.0.0,>=0.7.1 in /home/gregoire/.local/lib/python3.10/site-packages (from botocore<1.27.60,>=1.27.59->aiobotocore~=2.4.0->s3fs) (0.10.0)\n",
      "Collecting urllib3<1.27,>=1.25.4\n",
      "  Using cached urllib3-1.26.13-py2.py3-none-any.whl (140 kB)\n",
      "Requirement already satisfied: python-dateutil<3.0.0,>=2.1 in /usr/lib/python3.10/site-packages (from botocore<1.27.60,>=1.27.59->aiobotocore~=2.4.0->s3fs) (2.8.2)\n",
      "Requirement already satisfied: idna>=2.0 in /usr/lib/python3.10/site-packages (from yarl<2.0,>=1.0->aiohttp!=4.0.0a0,!=4.0.0a1->s3fs) (3.4)\n",
      "Requirement already satisfied: six>=1.5 in /usr/lib/python3.10/site-packages (from python-dateutil<3.0.0,>=2.1->botocore<1.27.60,>=1.27.59->aiobotocore~=2.4.0->s3fs) (1.16.0)\n",
      "Installing collected packages: urllib3, botocore\n",
      "  Attempting uninstall: urllib3\n",
      "    Found existing installation: urllib3 1.22\n",
      "    Uninstalling urllib3-1.22:\n",
      "      Successfully uninstalled urllib3-1.22\n",
      "  Attempting uninstall: botocore\n",
      "    Found existing installation: botocore 1.23.26\n",
      "    Uninstalling botocore-1.23.26:\n",
      "      Successfully uninstalled botocore-1.23.26\n",
      "Successfully installed botocore-1.27.59 urllib3-1.26.13\n",
      "fatal : le chemin de destination 'cartogether' existe déjà et n'est pas un répertoire vide.\n",
      "/home/gregoire/Python/ProjPythonENSAE2022/ProjPython/cartogether\n",
      "Defaulting to user installation because normal site-packages is not writeable\n",
      "Requirement already satisfied: requests in /usr/lib/python3.10/site-packages (from -r requirements.txt (line 1)) (2.28.1)\n",
      "Requirement already satisfied: py7zr in /home/gregoire/.local/lib/python3.10/site-packages (from -r requirements.txt (line 2)) (0.20.2)\n",
      "Requirement already satisfied: geopandas in /home/gregoire/.local/lib/python3.10/site-packages (from -r requirements.txt (line 3)) (0.12.2)\n",
      "Requirement already satisfied: openpyxl in /home/gregoire/.local/lib/python3.10/site-packages (from -r requirements.txt (line 4)) (3.0.10)\n",
      "Requirement already satisfied: tqdm in /home/gregoire/.local/lib/python3.10/site-packages (from -r requirements.txt (line 5)) (4.64.1)\n",
      "Requirement already satisfied: s3fs in /home/gregoire/.local/lib/python3.10/site-packages (from -r requirements.txt (line 6)) (2022.11.0)\n",
      "Requirement already satisfied: PyYAML in /usr/lib/python3.10/site-packages (from -r requirements.txt (line 7)) (6.0)\n",
      "Requirement already satisfied: xlrd in /home/gregoire/.local/lib/python3.10/site-packages (from -r requirements.txt (line 8)) (2.0.1)\n",
      "Requirement already satisfied: idna<4,>=2.5 in /usr/lib/python3.10/site-packages (from requests->-r requirements.txt (line 1)) (3.4)\n",
      "Requirement already satisfied: urllib3<1.27,>=1.21.1 in /home/gregoire/.local/lib/python3.10/site-packages (from requests->-r requirements.txt (line 1)) (1.26.13)\n",
      "Requirement already satisfied: brotli>=1.0.9 in /home/gregoire/.local/lib/python3.10/site-packages (from py7zr->-r requirements.txt (line 2)) (1.0.9)\n",
      "Requirement already satisfied: inflate64>=0.3.1 in /home/gregoire/.local/lib/python3.10/site-packages (from py7zr->-r requirements.txt (line 2)) (0.3.1)\n"
     ]
    },
    {
     "name": "stdout",
     "output_type": "stream",
     "text": [
      "Requirement already satisfied: psutil in /usr/lib/python3.10/site-packages (from py7zr->-r requirements.txt (line 2)) (5.9.4)\n",
      "Requirement already satisfied: texttable in /home/gregoire/.local/lib/python3.10/site-packages (from py7zr->-r requirements.txt (line 2)) (1.6.7)\n",
      "Requirement already satisfied: pybcj>=0.6.0 in /home/gregoire/.local/lib/python3.10/site-packages (from py7zr->-r requirements.txt (line 2)) (1.0.1)\n",
      "Requirement already satisfied: pycryptodomex>=3.6.6 in /home/gregoire/.local/lib/python3.10/site-packages (from py7zr->-r requirements.txt (line 2)) (3.16.0)\n",
      "Requirement already satisfied: multivolumefile>=0.2.3 in /home/gregoire/.local/lib/python3.10/site-packages (from py7zr->-r requirements.txt (line 2)) (0.2.3)\n",
      "Requirement already satisfied: pyppmd<1.1.0,>=0.18.1 in /home/gregoire/.local/lib/python3.10/site-packages (from py7zr->-r requirements.txt (line 2)) (1.0.0)\n",
      "Requirement already satisfied: pyzstd>=0.14.4 in /home/gregoire/.local/lib/python3.10/site-packages (from py7zr->-r requirements.txt (line 2)) (0.15.3)\n",
      "Requirement already satisfied: pandas>=1.0.0 in /home/gregoire/.local/lib/python3.10/site-packages (from geopandas->-r requirements.txt (line 3)) (1.5.2)\n",
      "Requirement already satisfied: fiona>=1.8 in /home/gregoire/.local/lib/python3.10/site-packages (from geopandas->-r requirements.txt (line 3)) (1.8.22)\n",
      "Requirement already satisfied: packaging in /usr/lib/python3.10/site-packages (from geopandas->-r requirements.txt (line 3)) (21.3)\n",
      "Requirement already satisfied: pyproj>=2.6.1.post1 in /home/gregoire/.local/lib/python3.10/site-packages (from geopandas->-r requirements.txt (line 3)) (3.4.1)\n",
      "Requirement already satisfied: shapely>=1.7 in /home/gregoire/.local/lib/python3.10/site-packages (from geopandas->-r requirements.txt (line 3)) (2.0.0)\n",
      "Requirement already satisfied: et-xmlfile in /home/gregoire/.local/lib/python3.10/site-packages (from openpyxl->-r requirements.txt (line 4)) (1.1.0)\n",
      "Requirement already satisfied: aiohttp!=4.0.0a0,!=4.0.0a1 in /home/gregoire/.local/lib/python3.10/site-packages (from s3fs->-r requirements.txt (line 6)) (3.8.3)\n",
      "Requirement already satisfied: aiobotocore~=2.4.0 in /home/gregoire/.local/lib/python3.10/site-packages (from s3fs->-r requirements.txt (line 6)) (2.4.1)\n",
      "Requirement already satisfied: fsspec==2022.11.0 in /home/gregoire/.local/lib/python3.10/site-packages (from s3fs->-r requirements.txt (line 6)) (2022.11.0)\n",
      "Requirement already satisfied: botocore<1.27.60,>=1.27.59 in /home/gregoire/.local/lib/python3.10/site-packages (from aiobotocore~=2.4.0->s3fs->-r requirements.txt (line 6)) (1.27.59)\n",
      "Requirement already satisfied: aioitertools>=0.5.1 in /home/gregoire/.local/lib/python3.10/site-packages (from aiobotocore~=2.4.0->s3fs->-r requirements.txt (line 6)) (0.11.0)\n",
      "Requirement already satisfied: wrapt>=1.10.10 in /home/gregoire/.local/lib/python3.10/site-packages (from aiobotocore~=2.4.0->s3fs->-r requirements.txt (line 6)) (1.14.1)\n",
      "Requirement already satisfied: attrs>=17.3.0 in /usr/lib/python3.10/site-packages (from aiohttp!=4.0.0a0,!=4.0.0a1->s3fs->-r requirements.txt (line 6)) (22.1.0)\n",
      "Requirement already satisfied: multidict<7.0,>=4.5 in /home/gregoire/.local/lib/python3.10/site-packages (from aiohttp!=4.0.0a0,!=4.0.0a1->s3fs->-r requirements.txt (line 6)) (6.0.3)\n",
      "Requirement already satisfied: charset-normalizer<3.0,>=2.0 in /home/gregoire/.local/lib/python3.10/site-packages (from aiohttp!=4.0.0a0,!=4.0.0a1->s3fs->-r requirements.txt (line 6)) (2.1.1)\n",
      "Requirement already satisfied: async-timeout<5.0,>=4.0.0a3 in /home/gregoire/.local/lib/python3.10/site-packages (from aiohttp!=4.0.0a0,!=4.0.0a1->s3fs->-r requirements.txt (line 6)) (4.0.2)\n",
      "Requirement already satisfied: aiosignal>=1.1.2 in /home/gregoire/.local/lib/python3.10/site-packages (from aiohttp!=4.0.0a0,!=4.0.0a1->s3fs->-r requirements.txt (line 6)) (1.3.1)\n",
      "Requirement already satisfied: frozenlist>=1.1.1 in /home/gregoire/.local/lib/python3.10/site-packages (from aiohttp!=4.0.0a0,!=4.0.0a1->s3fs->-r requirements.txt (line 6)) (1.3.3)\n",
      "Requirement already satisfied: yarl<2.0,>=1.0 in /home/gregoire/.local/lib/python3.10/site-packages (from aiohttp!=4.0.0a0,!=4.0.0a1->s3fs->-r requirements.txt (line 6)) (1.8.2)\n",
      "Requirement already satisfied: cligj>=0.5 in /home/gregoire/.local/lib/python3.10/site-packages (from fiona>=1.8->geopandas->-r requirements.txt (line 3)) (0.7.2)\n",
      "Requirement already satisfied: setuptools in /usr/lib/python3.10/site-packages (from fiona>=1.8->geopandas->-r requirements.txt (line 3)) (65.6.3)\n",
      "Requirement already satisfied: six>=1.7 in /usr/lib/python3.10/site-packages (from fiona>=1.8->geopandas->-r requirements.txt (line 3)) (1.16.0)\n",
      "Requirement already satisfied: munch in /home/gregoire/.local/lib/python3.10/site-packages (from fiona>=1.8->geopandas->-r requirements.txt (line 3)) (2.5.0)\n",
      "Requirement already satisfied: click-plugins>=1.0 in /home/gregoire/.local/lib/python3.10/site-packages (from fiona>=1.8->geopandas->-r requirements.txt (line 3)) (1.1.1)\n",
      "Requirement already satisfied: click>=4.0 in /usr/lib/python3.10/site-packages (from fiona>=1.8->geopandas->-r requirements.txt (line 3)) (8.1.3)\n",
      "Requirement already satisfied: certifi in /home/gregoire/.local/lib/python3.10/site-packages (from fiona>=1.8->geopandas->-r requirements.txt (line 3)) (2022.12.7)\n",
      "Requirement already satisfied: python-dateutil>=2.8.1 in /usr/lib/python3.10/site-packages (from pandas>=1.0.0->geopandas->-r requirements.txt (line 3)) (2.8.2)\n",
      "Requirement already satisfied: numpy>=1.21.0 in /home/gregoire/.local/lib/python3.10/site-packages (from pandas>=1.0.0->geopandas->-r requirements.txt (line 3)) (1.23.5)\n",
      "Requirement already satisfied: pytz>=2020.1 in /usr/lib/python3.10/site-packages (from pandas>=1.0.0->geopandas->-r requirements.txt (line 3)) (2022.6)\n",
      "Requirement already satisfied: pyparsing!=3.0.5,>=2.0.2 in /usr/lib/python3.10/site-packages (from packaging->geopandas->-r requirements.txt (line 3)) (3.0.9)\n",
      "Requirement already satisfied: jmespath<2.0.0,>=0.7.1 in /home/gregoire/.local/lib/python3.10/site-packages (from botocore<1.27.60,>=1.27.59->aiobotocore~=2.4.0->s3fs->-r requirements.txt (line 6)) (0.10.0)\n",
      "Requirement already satisfied: appdirs in /usr/lib/python3.10/site-packages (from setuptools->fiona>=1.8->geopandas->-r requirements.txt (line 3)) (1.4.4)\n",
      "Requirement already satisfied: jaraco.text in /usr/lib/python3.10/site-packages (from setuptools->fiona>=1.8->geopandas->-r requirements.txt (line 3)) (3.11.0)\n",
      "Requirement already satisfied: more-itertools in /usr/lib/python3.10/site-packages (from setuptools->fiona>=1.8->geopandas->-r requirements.txt (line 3)) (9.0.0)\n",
      "Requirement already satisfied: ordered-set in /usr/lib/python3.10/site-packages (from setuptools->fiona>=1.8->geopandas->-r requirements.txt (line 3)) (4.1.0)\n",
      "Requirement already satisfied: tomli in /usr/lib/python3.10/site-packages (from setuptools->fiona>=1.8->geopandas->-r requirements.txt (line 3)) (2.0.1)\n",
      "Requirement already satisfied: validate-pyproject in /usr/lib/python3.10/site-packages (from setuptools->fiona>=1.8->geopandas->-r requirements.txt (line 3)) (0.10.1)\n",
      "Requirement already satisfied: jaraco.context>=4.1 in /usr/lib/python3.10/site-packages (from jaraco.text->setuptools->fiona>=1.8->geopandas->-r requirements.txt (line 3)) (4.2.0)\n",
      "Requirement already satisfied: inflect in /usr/lib/python3.10/site-packages (from jaraco.text->setuptools->fiona>=1.8->geopandas->-r requirements.txt (line 3)) (6.0.2)\n",
      "Requirement already satisfied: autocommand in /usr/lib/python3.10/site-packages (from jaraco.text->setuptools->fiona>=1.8->geopandas->-r requirements.txt (line 3)) (2.2.2)\n",
      "Requirement already satisfied: jaraco.functools in /usr/lib/python3.10/site-packages (from jaraco.text->setuptools->fiona>=1.8->geopandas->-r requirements.txt (line 3)) (3.5.2)\n",
      "Requirement already satisfied: pydantic>=1.9.1 in /usr/lib/python3.10/site-packages (from inflect->jaraco.text->setuptools->fiona>=1.8->geopandas->-r requirements.txt (line 3)) (1.10.2)\n",
      "Requirement already satisfied: typing-extensions>=4.1.0 in /usr/lib/python3.10/site-packages (from pydantic>=1.9.1->inflect->jaraco.text->setuptools->fiona>=1.8->geopandas->-r requirements.txt (line 3)) (4.4.0)\n"
     ]
    },
    {
     "name": "stdout",
     "output_type": "stream",
     "text": [
      "Defaulting to user installation because normal site-packages is not writeable\n",
      "Processing /home/gregoire/Python/ProjPythonENSAE2022/ProjPython/cartogether\n",
      "  Installing build dependencies ... \u001b[?25ldone\n",
      "\u001b[?25h  Getting requirements to build wheel ... \u001b[?25ldone\n",
      "\u001b[?25h  Preparing metadata (pyproject.toml) ... \u001b[?25ldone\n",
      "\u001b[?25hBuilding wheels for collected packages: cartiflette\n",
      "  Building wheel for cartiflette (pyproject.toml) ... \u001b[?25ldone\n",
      "\u001b[?25h  Created wheel for cartiflette: filename=cartiflette-0.0.1-py3-none-any.whl size=19629 sha256=197b399175dade4d590c927afc94b5fc66c7ec87dd71631658f088bb1ada3597\n",
      "  Stored in directory: /tmp/pip-ephem-wheel-cache-rytfhhx5/wheels/f4/b3/8f/2147229f24196ae8874440ac7bad9db2e287b08af2d61a7620\n",
      "Successfully built cartiflette\n",
      "Installing collected packages: cartiflette\n",
      "  Attempting uninstall: cartiflette\n",
      "    Found existing installation: cartiflette 0.0.1\n",
      "    Uninstalling cartiflette-0.0.1:\n",
      "      Successfully uninstalled cartiflette-0.0.1\n",
      "Successfully installed cartiflette-0.0.1\n",
      "/home/gregoire/Python/ProjPythonENSAE2022/ProjPython\n"
     ]
    }
   ],
   "source": [
    "!pip install --upgrade botocore==1.23.26  #Sur colab, sinon bug\n",
    "!pip install --upgrade urllib3==1.22.0 #Sur colab, sinon bug\n",
    "!pip install py7zr #Sur colab, sinon bug\n",
    "!pip install s3fs #Sur colab, sinon bug\n",
    "!git clone https://github.com/InseeFrLab/cartogether.git\n",
    "%cd ./cartogether\n",
    "!pip install -r requirements.txt\n",
    "!pip install .\n",
    "%cd .."
   ]
  },
  {
   "cell_type": "code",
   "execution_count": 4,
   "metadata": {
    "id": "7Uf0VCYVK8kz"
   },
   "outputs": [],
   "source": [
    "from shapely.geometry import Point\n",
    "from shapely.geometry.polygon import Polygon"
   ]
  },
  {
   "cell_type": "code",
   "execution_count": 5,
   "metadata": {
    "id": "wXpzWWtXHWFY"
   },
   "outputs": [
    {
     "name": "stderr",
     "output_type": "stream",
     "text": [
      "/tmp/ipykernel_4091/2004415946.py:2: FutureWarning: The error_bad_lines argument has been deprecated and will be removed in a future version. Use on_bad_lines in the future.\n",
      "\n",
      "\n",
      "  df_adresses= pd.read_csv(\"https://adresse.data.gouv.fr/data/ban/adresses/latest/csv/adresses-38.csv.gz\", compression='gzip', sep=\";\", error_bad_lines=False)\n",
      "/tmp/ipykernel_4091/2004415946.py:2: DtypeWarning: Columns (9,16) have mixed types. Specify dtype option on import or set low_memory=False.\n",
      "  df_adresses= pd.read_csv(\"https://adresse.data.gouv.fr/data/ban/adresses/latest/csv/adresses-38.csv.gz\", compression='gzip', sep=\";\", error_bad_lines=False)\n"
     ]
    }
   ],
   "source": [
    "#Base adresses -> coordonnées GPS\n",
    "df_adresses= pd.read_csv(\"https://adresse.data.gouv.fr/data/ban/adresses/latest/csv/adresses-38.csv.gz\", compression='gzip', sep=\";\", error_bad_lines=False)"
   ]
  },
  {
   "cell_type": "code",
   "execution_count": 8,
   "metadata": {
    "id": "WzqH4fMIFkxK"
   },
   "outputs": [],
   "source": [
    "#Coordonnnées GPS ->coordonnées Geopandas\n",
    "gpd_adresses= gpd.GeoDataFrame(df_adresses, geometry=gpd.points_from_xy(df_adresses.lon, df_adresses.lat))"
   ]
  },
  {
   "cell_type": "code",
   "execution_count": 17,
   "metadata": {
    "id": "n0tdLp3_KLKu"
   },
   "outputs": [
    {
     "ename": "NameError",
     "evalue": "name 'df_risque' is not defined",
     "output_type": "error",
     "traceback": [
      "\u001b[0;31m---------------------------------------------------------------------------\u001b[0m",
      "\u001b[0;31mNameError\u001b[0m                                 Traceback (most recent call last)",
      "Cell \u001b[0;32mIn[17], line 3\u001b[0m\n\u001b[1;32m      1\u001b[0m \u001b[38;5;66;03m#Base risque d'inondations niveau national\u001b[39;00m\n\u001b[1;32m      2\u001b[0m df_risque_inond\u001b[38;5;241m=\u001b[39mgpd\u001b[38;5;241m.\u001b[39mread_file(\u001b[38;5;124m\"\u001b[39m\u001b[38;5;124mDataSets/Inondation/n_carte_inond_s.shp\u001b[39m\u001b[38;5;124m\"\u001b[39m)\n\u001b[0;32m----> 3\u001b[0m \u001b[43mdf_risque\u001b[49m\u001b[38;5;241m.\u001b[39mhead()\n",
      "\u001b[0;31mNameError\u001b[0m: name 'df_risque' is not defined"
     ]
    }
   ],
   "source": [
    "#Base risque d'inondations niveau national\n",
    "df_risque_inond=gpd.read_file(\"DataSets/Inondation/n_carte_inond_s.shp\")"
   ]
  },
  {
   "cell_type": "code",
   "execution_count": 18,
   "metadata": {},
   "outputs": [
    {
     "data": {
      "text/html": [
       "<div>\n",
       "<style scoped>\n",
       "    .dataframe tbody tr th:only-of-type {\n",
       "        vertical-align: middle;\n",
       "    }\n",
       "\n",
       "    .dataframe tbody tr th {\n",
       "        vertical-align: top;\n",
       "    }\n",
       "\n",
       "    .dataframe thead th {\n",
       "        text-align: right;\n",
       "    }\n",
       "</style>\n",
       "<table border=\"1\" class=\"dataframe\">\n",
       "  <thead>\n",
       "    <tr style=\"text-align: right;\">\n",
       "      <th></th>\n",
       "      <th>typ_inond1</th>\n",
       "      <th>typ_inond2</th>\n",
       "      <th>scenario</th>\n",
       "      <th>datfinval</th>\n",
       "      <th>id_tri</th>\n",
       "      <th>urlrapport</th>\n",
       "      <th>est_synth</th>\n",
       "      <th>datappro</th>\n",
       "      <th>id_carte</th>\n",
       "      <th>id</th>\n",
       "      <th>geometry</th>\n",
       "    </tr>\n",
       "  </thead>\n",
       "  <tbody>\n",
       "    <tr>\n",
       "      <th>0</th>\n",
       "      <td>03</td>\n",
       "      <td>03</td>\n",
       "      <td>None</td>\n",
       "      <td>None</td>\n",
       "      <td>FRM_TRI_MAYOTTE</td>\n",
       "      <td>N_MAYO_RISQUES_03.pdf</td>\n",
       "      <td>1</td>\n",
       "      <td>2019-12-16</td>\n",
       "      <td>CSI_030002</td>\n",
       "      <td>9794</td>\n",
       "      <td>POLYGON ((45.14756 -12.77017, 45.14752 -12.706...</td>\n",
       "    </tr>\n",
       "    <tr>\n",
       "      <th>1</th>\n",
       "      <td>02</td>\n",
       "      <td>None</td>\n",
       "      <td>01For</td>\n",
       "      <td>None</td>\n",
       "      <td>FRI_TRI_BASS</td>\n",
       "      <td>non communiqué</td>\n",
       "      <td>0</td>\n",
       "      <td>None</td>\n",
       "      <td>CSI_1981</td>\n",
       "      <td>9835</td>\n",
       "      <td>POLYGON ((-61.76468 15.98499, -61.76433 16.042...</td>\n",
       "    </tr>\n",
       "    <tr>\n",
       "      <th>2</th>\n",
       "      <td>02</td>\n",
       "      <td>None</td>\n",
       "      <td>01For</td>\n",
       "      <td>None</td>\n",
       "      <td>FRI_TRI_BASS</td>\n",
       "      <td>non communiqué</td>\n",
       "      <td>0</td>\n",
       "      <td>None</td>\n",
       "      <td>CSI_1982</td>\n",
       "      <td>9836</td>\n",
       "      <td>POLYGON ((-61.74449 16.03433, -61.74413 16.092...</td>\n",
       "    </tr>\n",
       "    <tr>\n",
       "      <th>3</th>\n",
       "      <td>02</td>\n",
       "      <td>None</td>\n",
       "      <td>02Moy</td>\n",
       "      <td>None</td>\n",
       "      <td>FRI_TRI_BASS</td>\n",
       "      <td>non communiqué</td>\n",
       "      <td>0</td>\n",
       "      <td>None</td>\n",
       "      <td>CSI_1983</td>\n",
       "      <td>9837</td>\n",
       "      <td>POLYGON ((-61.76468 15.98499, -61.76433 16.042...</td>\n",
       "    </tr>\n",
       "    <tr>\n",
       "      <th>4</th>\n",
       "      <td>02</td>\n",
       "      <td>None</td>\n",
       "      <td>02Moy</td>\n",
       "      <td>None</td>\n",
       "      <td>FRI_TRI_BASS</td>\n",
       "      <td>non communiqué</td>\n",
       "      <td>0</td>\n",
       "      <td>None</td>\n",
       "      <td>CSI_1984</td>\n",
       "      <td>9838</td>\n",
       "      <td>POLYGON ((-61.74449 16.03433, -61.74413 16.092...</td>\n",
       "    </tr>\n",
       "  </tbody>\n",
       "</table>\n",
       "</div>"
      ],
      "text/plain": [
       "  typ_inond1 typ_inond2 scenario datfinval           id_tri  \\\n",
       "0         03         03     None      None  FRM_TRI_MAYOTTE   \n",
       "1         02       None    01For      None     FRI_TRI_BASS   \n",
       "2         02       None    01For      None     FRI_TRI_BASS   \n",
       "3         02       None    02Moy      None     FRI_TRI_BASS   \n",
       "4         02       None    02Moy      None     FRI_TRI_BASS   \n",
       "\n",
       "              urlrapport  est_synth    datappro    id_carte    id  \\\n",
       "0  N_MAYO_RISQUES_03.pdf          1  2019-12-16  CSI_030002  9794   \n",
       "1         non communiqué          0        None    CSI_1981  9835   \n",
       "2         non communiqué          0        None    CSI_1982  9836   \n",
       "3         non communiqué          0        None    CSI_1983  9837   \n",
       "4         non communiqué          0        None    CSI_1984  9838   \n",
       "\n",
       "                                            geometry  \n",
       "0  POLYGON ((45.14756 -12.77017, 45.14752 -12.706...  \n",
       "1  POLYGON ((-61.76468 15.98499, -61.76433 16.042...  \n",
       "2  POLYGON ((-61.74449 16.03433, -61.74413 16.092...  \n",
       "3  POLYGON ((-61.76468 15.98499, -61.76433 16.042...  \n",
       "4  POLYGON ((-61.74449 16.03433, -61.74413 16.092...  "
      ]
     },
     "execution_count": 18,
     "metadata": {},
     "output_type": "execute_result"
    }
   ],
   "source": [
    "df_risque_inond.head()"
   ]
  },
  {
   "cell_type": "code",
   "execution_count": 13,
   "metadata": {
    "id": "Rn1qzuUTLPQh"
   },
   "outputs": [],
   "source": [
    "#Coordonnées de l'habitation (en géometry) ->risque d'inondation\n",
    "#gpd_adresses : tables geopandas qui contient les adresses du département\n",
    "def adresse_to_geometry(dep,num,nom_voie,ville,code_postal):\n",
    "  return(gpd_adresses[(gpd_adresses[\"numero\"] == num) & (gpd_adresses[\"nom_commune\"] == ville) & (gpd_adresses[\"nom_voie\"] == nom_voie)][\"geometry\"])\n"
   ]
  },
  {
   "cell_type": "code",
   "execution_count": 14,
   "metadata": {
    "id": "zdQ-UwYsJKq4"
   },
   "outputs": [],
   "source": [
    "#Fonction geometry ->risque \n",
    "def risque(geometry):\n",
    "  risque=[]\n",
    "  for k in range(len(df_risque_inond[\"geometry\"])):\n",
    "    if df_risque_inond[\"geometry\"][k].contains(geometry):\n",
    "      risque.append(df_risque_inond[\"scenario\"][k])\n",
    "  \n",
    "  return(risque)"
   ]
  },
  {
   "cell_type": "code",
   "execution_count": 15,
   "metadata": {
    "id": "JbkrUu2dUWwx"
   },
   "outputs": [],
   "source": [
    "#Fonction finale\n",
    "def adresse_to_risque(dep,num,nom_voie,ville,code_postal):\n",
    "  df_risque_inond.to_csv() #conversion du fichier en csv \n",
    "\n",
    "  adresses_dep = pd.read_csv(\"https://adresse.data.gouv.fr/data/ban/adresses/latest/csv/adresses-\"+dep+\".csv.gz\", compression='gzip', sep=\";\", error_bad_lines=False) #recuperation des adresses postales correspondant au département de l'utilisateur\n",
    "  foyer_infos = adresses_dep[(adresses_dep[\"numero\"] == num) & (adresses_dep[\"nom_commune\"] == ville) & (adresses_dep[\"nom_voie\"] == nom_voie)] \n",
    "\n",
    "  #Calcul du score moyen de \"sécheresse\" (i.e. niveau de gonflement/retrait d'argile, échelle de 1 à 3) du département considéré \n",
    "  argile_dep = np.mean(df_secheresse[\"niveau\"])\n",
    "\n",
    "  #Conversion des coordonnées GPS d'un point en une géométrie exploitable sur Geopandas \n",
    "  geometry = gpd.points_from_xy(foyer_infos[\"lon\"], foyer_infos[\"lat\"])\n",
    "\n",
    "  #Création des dataframe avec geométrie du point à localiser \n",
    "  geo_foyer = gpd.GeoDataFrame(foyer_infos, crs=\"EPSG:4326\", geometry=geometry)\n",
    "  geo_foyer.crs\n",
    "  #print(geo_foyer) #TEST \n",
    "\n",
    "  df_1 = df_secheresse[df_secheresse.niveau == 1]\n",
    "  df_2 = df_secheresse[df_secheresse.niveau == 2]\n",
    "  df_3 = df_secheresse[df_secheresse.niveau == 3]\n",
    "  df_1.crs\n",
    "  df_2.crs\n",
    "  df_3.crs \n",
    "  df_secheresse.crs\n",
    "\n",
    "  #print(df_secheresse.head()) #TEST\n",
    "\n",
    "  #Cartographie des zones de sécheresse (selon le degré de gonflement/retrait des argiles) dans le département 31 \n",
    "  fig,ax = plt.subplots(figsize=(10, 10)) \n",
    "  df_1.to_crs(3857).plot(ax = ax, color ='yellow', alpha = 0.6,zorder=2)\n",
    "  df_2.to_crs(3857).plot(ax = ax, color ='orange', alpha = 0.6,zorder=2)\n",
    "  df_3.to_crs(3857).plot(ax = ax, color ='red', alpha = 0.6,zorder=2)\n",
    "  geo_foyer.to_crs(3857).plot(ax=ax, color=\"black\",zorder=2)\n",
    "  ax.set_title(\"Cartographie des zones de sécheresse préocupantes en Haute-Garonne\")\n",
    "  fig.legend()\n",
    "  ctx.add_basemap(ax=ax,source=ctx.providers.OpenStreetMap.Mapnik)\n",
    "  plt.show()\n",
    "\n",
    "  #Fonction position géographique de l'habitation -> risque sécheresse précis associé\n",
    "  \n",
    "  \n",
    "  print(\"Le score de sécheresse (de 1 à 5) de l'habitation est de :\"+str(argile_dep*(5/3)))\n",
    "  return(argile_dep*(5/3))"
   ]
  },
  {
   "cell_type": "code",
   "execution_count": 16,
   "metadata": {},
   "outputs": [
    {
     "ename": "ValueError",
     "evalue": "The truth value of a Series is ambiguous. Use a.empty, a.bool(), a.item(), a.any() or a.all().",
     "output_type": "error",
     "traceback": [
      "\u001b[0;31m---------------------------------------------------------------------------\u001b[0m",
      "\u001b[0;31mValueError\u001b[0m                                Traceback (most recent call last)",
      "Cell \u001b[0;32mIn[16], line 1\u001b[0m\n\u001b[0;32m----> 1\u001b[0m \u001b[43madresse_to_risque\u001b[49m\u001b[43m(\u001b[49m\u001b[38;5;124;43m\"\u001b[39;49m\u001b[38;5;124;43m44\u001b[39;49m\u001b[38;5;124;43m\"\u001b[39;49m\u001b[43m,\u001b[49m\u001b[43m \u001b[49m\u001b[38;5;241;43m4\u001b[39;49m\u001b[43m,\u001b[49m\u001b[43m \u001b[49m\u001b[38;5;124;43m\"\u001b[39;49m\u001b[38;5;124;43mRue Fouré\u001b[39;49m\u001b[38;5;124;43m\"\u001b[39;49m\u001b[43m,\u001b[49m\u001b[43m \u001b[49m\u001b[38;5;124;43m\"\u001b[39;49m\u001b[38;5;124;43mNantes\u001b[39;49m\u001b[38;5;124;43m\"\u001b[39;49m\u001b[43m,\u001b[49m\u001b[43m \u001b[49m\u001b[38;5;124;43m\"\u001b[39;49m\u001b[38;5;124;43m44000\u001b[39;49m\u001b[38;5;124;43m\"\u001b[39;49m\u001b[43m)\u001b[49m\n",
      "Cell \u001b[0;32mIn[15], line 3\u001b[0m, in \u001b[0;36madresse_to_risque\u001b[0;34m(dep, num, nom_voie, ville, code_postal)\u001b[0m\n\u001b[1;32m      2\u001b[0m \u001b[38;5;28;01mdef\u001b[39;00m \u001b[38;5;21madresse_to_risque\u001b[39m(dep,num,nom_voie,ville,code_postal):\n\u001b[0;32m----> 3\u001b[0m   \u001b[38;5;28;01mreturn\u001b[39;00m(\u001b[43mrisque\u001b[49m\u001b[43m(\u001b[49m\u001b[43madresse_to_geometry\u001b[49m\u001b[43m(\u001b[49m\u001b[43mdep\u001b[49m\u001b[43m,\u001b[49m\u001b[43mnum\u001b[49m\u001b[43m,\u001b[49m\u001b[43mnom_voie\u001b[49m\u001b[43m,\u001b[49m\u001b[43mville\u001b[49m\u001b[43m,\u001b[49m\u001b[43mcode_postal\u001b[49m\u001b[43m)\u001b[49m\u001b[43m)\u001b[49m)\n",
      "Cell \u001b[0;32mIn[14], line 5\u001b[0m, in \u001b[0;36mrisque\u001b[0;34m(geometry)\u001b[0m\n\u001b[1;32m      3\u001b[0m risque\u001b[38;5;241m=\u001b[39m[]\n\u001b[1;32m      4\u001b[0m \u001b[38;5;28;01mfor\u001b[39;00m k \u001b[38;5;129;01min\u001b[39;00m \u001b[38;5;28mrange\u001b[39m(\u001b[38;5;28mlen\u001b[39m(df_risque_inond[\u001b[38;5;124m\"\u001b[39m\u001b[38;5;124mgeometry\u001b[39m\u001b[38;5;124m\"\u001b[39m])):\n\u001b[0;32m----> 5\u001b[0m   \u001b[38;5;28;01mif\u001b[39;00m df_risque_inond[\u001b[38;5;124m\"\u001b[39m\u001b[38;5;124mgeometry\u001b[39m\u001b[38;5;124m\"\u001b[39m][k]\u001b[38;5;241m.\u001b[39mcontains(geometry):\n\u001b[1;32m      6\u001b[0m     risque\u001b[38;5;241m.\u001b[39mappend(df_risque_inond[\u001b[38;5;124m\"\u001b[39m\u001b[38;5;124mscenario\u001b[39m\u001b[38;5;124m\"\u001b[39m][k])\n\u001b[1;32m      8\u001b[0m \u001b[38;5;28;01mreturn\u001b[39;00m(risque)\n",
      "File \u001b[0;32m~/.local/lib/python3.10/site-packages/pandas/core/generic.py:1527\u001b[0m, in \u001b[0;36mNDFrame.__nonzero__\u001b[0;34m(self)\u001b[0m\n\u001b[1;32m   1525\u001b[0m \u001b[38;5;129m@final\u001b[39m\n\u001b[1;32m   1526\u001b[0m \u001b[38;5;28;01mdef\u001b[39;00m \u001b[38;5;21m__nonzero__\u001b[39m(\u001b[38;5;28mself\u001b[39m) \u001b[38;5;241m-\u001b[39m\u001b[38;5;241m>\u001b[39m NoReturn:\n\u001b[0;32m-> 1527\u001b[0m     \u001b[38;5;28;01mraise\u001b[39;00m \u001b[38;5;167;01mValueError\u001b[39;00m(\n\u001b[1;32m   1528\u001b[0m         \u001b[38;5;124mf\u001b[39m\u001b[38;5;124m\"\u001b[39m\u001b[38;5;124mThe truth value of a \u001b[39m\u001b[38;5;132;01m{\u001b[39;00m\u001b[38;5;28mtype\u001b[39m(\u001b[38;5;28mself\u001b[39m)\u001b[38;5;241m.\u001b[39m\u001b[38;5;18m__name__\u001b[39m\u001b[38;5;132;01m}\u001b[39;00m\u001b[38;5;124m is ambiguous. \u001b[39m\u001b[38;5;124m\"\u001b[39m\n\u001b[1;32m   1529\u001b[0m         \u001b[38;5;124m\"\u001b[39m\u001b[38;5;124mUse a.empty, a.bool(), a.item(), a.any() or a.all().\u001b[39m\u001b[38;5;124m\"\u001b[39m\n\u001b[1;32m   1530\u001b[0m     )\n",
      "\u001b[0;31mValueError\u001b[0m: The truth value of a Series is ambiguous. Use a.empty, a.bool(), a.item(), a.any() or a.all()."
     ]
    }
   ],
   "source": [
    "adresse_to_risque(\"44\", 4, \"Rue Fouré\", \"Nantes\", \"44000\")"
   ]
  }
 ],
 "metadata": {
  "colab": {
   "provenance": []
  },
  "kernelspec": {
   "display_name": "Python 3 (ipykernel)",
   "language": "python",
   "name": "python3"
  },
  "language_info": {
   "codemirror_mode": {
    "name": "ipython",
    "version": 3
   },
   "file_extension": ".py",
   "mimetype": "text/x-python",
   "name": "python",
   "nbconvert_exporter": "python",
   "pygments_lexer": "ipython3",
   "version": "3.10.8"
  }
 },
 "nbformat": 4,
 "nbformat_minor": 1
}
