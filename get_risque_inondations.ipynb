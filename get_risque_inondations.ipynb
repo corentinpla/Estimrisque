{
 "cells": [
  {
   "cell_type": "code",
   "execution_count": null,
   "metadata": {
    "id": "5yrHH7CyFTgo"
   },
   "outputs": [],
   "source": [
    "#!pip install geopandas"
   ]
  },
  {
   "cell_type": "code",
   "execution_count": 1,
   "metadata": {
    "id": "lezs_i-vFcMU"
   },
   "outputs": [],
   "source": [
    "import pandas as pd\n",
    "import geopandas as gpd \n",
    "import numpy as np \n",
    "import matplotlib.pyplot as plt"
   ]
  },
  {
   "cell_type": "code",
   "execution_count": null,
   "metadata": {
    "id": "JP5qVNMjFe16"
   },
   "outputs": [],
   "source": [
    "!pip install --upgrade botocore==1.23.26  #Sur colab, sinon bug\n",
    "!pip install --upgrade urllib3==1.22.0 #Sur colab, sinon bug\n",
    "!pip install py7zr #Sur colab, sinon bug\n",
    "!pip install s3fs #Sur colab, sinon bug\n",
    "!git clone https://github.com/InseeFrLab/cartogether.git\n",
    "%cd ./cartogether\n",
    "!pip install -r requirements.txt\n",
    "!pip install .\n",
    "%cd .."
   ]
  },
  {
   "cell_type": "code",
   "execution_count": 2,
   "metadata": {
    "id": "7Uf0VCYVK8kz"
   },
   "outputs": [],
   "source": [
    "from shapely.geometry import Point\n",
    "from shapely.geometry.polygon import Polygon"
   ]
  },
  {
   "cell_type": "code",
   "execution_count": 3,
   "metadata": {
    "id": "wXpzWWtXHWFY"
   },
   "outputs": [
    {
     "name": "stderr",
     "output_type": "stream",
     "text": [
      "/tmp/ipykernel_8012/2004415946.py:2: FutureWarning: The error_bad_lines argument has been deprecated and will be removed in a future version. Use on_bad_lines in the future.\n",
      "\n",
      "\n",
      "  df_adresses= pd.read_csv(\"https://adresse.data.gouv.fr/data/ban/adresses/latest/csv/adresses-38.csv.gz\", compression='gzip', sep=\";\", error_bad_lines=False)\n",
      "/tmp/ipykernel_8012/2004415946.py:2: DtypeWarning: Columns (9,16) have mixed types. Specify dtype option on import or set low_memory=False.\n",
      "  df_adresses= pd.read_csv(\"https://adresse.data.gouv.fr/data/ban/adresses/latest/csv/adresses-38.csv.gz\", compression='gzip', sep=\";\", error_bad_lines=False)\n"
     ]
    }
   ],
   "source": [
    "#Base adresses -> coordonnées GPS\n",
    "df_adresses= pd.read_csv(\"https://adresse.data.gouv.fr/data/ban/adresses/latest/csv/adresses-38.csv.gz\", compression='gzip', sep=\";\", error_bad_lines=False)"
   ]
  },
  {
   "cell_type": "code",
   "execution_count": 4,
   "metadata": {
    "id": "WzqH4fMIFkxK"
   },
   "outputs": [],
   "source": [
    "#Coordonnnées GPS ->coordonnées Geopandas\n",
    "gpd_adresses= gpd.GeoDataFrame(df_adresses, geometry=gpd.points_from_xy(df_adresses.lon, df_adresses.lat))"
   ]
  },
  {
   "cell_type": "code",
   "execution_count": 5,
   "metadata": {
    "id": "n0tdLp3_KLKu"
   },
   "outputs": [],
   "source": [
    "#Base risque d'inondations niveau national\n",
    "df_risque_inond=gpd.read_file(\"DataSets/tri_2020_sig_di/n_carte_inond_s.shp\") "
   ]
  },
  {
   "cell_type": "code",
   "execution_count": 6,
   "metadata": {
    "id": "Rn1qzuUTLPQh"
   },
   "outputs": [],
   "source": [
    "#Coordonnées de l'habitation (en géometry) ->risque d'inondation\n",
    "#gpd_adresses : tables geopandas qui contient les adresses du département\n",
    "def adresse_to_geometry(dep,num,nom_voie,ville,code_postal):\n",
    "  return(gpd_adresses[(gpd_adresses[\"numero\"] == num) & (gpd_adresses[\"nom_commune\"] == ville) & (gpd_adresses[\"nom_voie\"] == nom_voie)][\"geometry\"])\n"
   ]
  },
  {
   "cell_type": "code",
   "execution_count": 7,
   "metadata": {
    "id": "zdQ-UwYsJKq4"
   },
   "outputs": [],
   "source": [
    "#Fonction geometry ->risque \n",
    "def risque(geometry):\n",
    "  risque=[]\n",
    "  for k in range(len(df_risque_inond[\"geometry\"])):\n",
    "    if df_risque_inond[\"geometry\"][k].contains(geometry):\n",
    "      risque.append(df_risque_inond[\"scenario\"][k])\n",
    "  \n",
    "  return(risque)"
   ]
  },
  {
   "cell_type": "code",
   "execution_count": 8,
   "metadata": {
    "id": "JbkrUu2dUWwx"
   },
   "outputs": [],
   "source": [
    "#Fonction finale\n",
    "def adresse_to_risque(dep,num,nom_voie,ville,code_postal):\n",
    "  return(risque(adresse_to_geometry(dep,num,nom_voie,ville,code_postal)))\n",
    "\n"
   ]
  }
 ],
 "metadata": {
  "colab": {
   "provenance": []
  },
  "kernelspec": {
   "display_name": "Python 3 (ipykernel)",
   "language": "python",
   "name": "python3"
  },
  "language_info": {
   "codemirror_mode": {
    "name": "ipython",
    "version": 3
   },
   "file_extension": ".py",
   "mimetype": "text/x-python",
   "name": "python",
   "nbconvert_exporter": "python",
   "pygments_lexer": "ipython3",
   "version": "3.10.8"
  }
 },
 "nbformat": 4,
 "nbformat_minor": 1
}
